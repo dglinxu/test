{
 "cells": [
  {
   "cell_type": "markdown",
   "metadata": {},
   "source": [
    "### 实例001：数字组合\n",
    "题目 有四个数字：1、2、3、4，能组成多少个互不相同且无重复数字的三位数？各是多少？"
   ]
  },
  {
   "cell_type": "code",
   "execution_count": null,
   "metadata": {},
   "outputs": [],
   "source": [
    "import itertools\n",
    "nums=[1,2,3,4]\n",
    "res=list(itertools.permutations(nums,3))\n",
    "print('无重复的三位数有：%d'%len(res))"
   ]
  },
  {
   "cell_type": "code",
   "execution_count": null,
   "metadata": {},
   "outputs": [],
   "source": [
    "nums=[1,2,3,4]\n",
    "res=[]\n",
    "for i in nums:\n",
    "    tlist=\n",
    "    for j"
   ]
  },
  {
   "cell_type": "markdown",
   "metadata": {},
   "source": [
    "### 实例002：“个税计算”\n",
    "题目 企业发放的奖金根据利润提成。利润(I)低于或等于10万元时，奖金可提10%；利润高于10万元，低于20万元时，低于10万元的部分按10%提成，高于10万元的部分，可提成7.5%；20万到40万之间时，高于20万元的部分，可提成5%；40万到60万之间时高于40万元的部分，可提成3%；60万到100万之间时，高于60万元的部分，可提成1.5%，高于100万元时，超过100万元的部分按1%提成，从键盘输入当月利润I，求应发放奖金总数？"
   ]
  },
  {
   "cell_type": "code",
   "execution_count": null,
   "metadata": {},
   "outputs": [],
   "source": [
    "profit=int(input('请输入利润值：'))\n",
    "rate={100000:0.1,200000:0.075,400000:0.05,600000:0.03,1000000:0.015,float('inf'):0.01}\n",
    "bonus=0\n",
    "pre=0\n",
    "for v,rate in rate.items():\n",
    "    if profit<=v:\n",
    "        bonus+=(profit-pre)*rate\n",
    "        break \n",
    "    else:\n",
    "        bonus+=(v-pre)*rate\n",
    "        pre=v\n",
    "print('利润%.2f提成是：%.2f'%(profit,bonus))"
   ]
  },
  {
   "cell_type": "code",
   "execution_count": null,
   "metadata": {},
   "outputs": [],
   "source": [
    "profit=int(input('请输入利润值：'))\n",
    "bonus=0\n",
    "if profit<=100000:\n",
    "    bonus+=profit*0.1\n",
    "elif profit>100000 and profit<=200000:\n",
    "    bonus+=10000+(profit-100000)*0.075\n",
    "elif profit>200000 and profit<=400000:\n",
    "    bonus+=17500+(profit-200000)*0.05\n",
    "elif profit>400000 and profit<=600000:\n",
    "    bonus+=27500+(profit-400000)*0.03\n",
    "elif profit>600000 and profit<=1000000:\n",
    "    bonus+=33500+(profit-600000)*0.015\n",
    "elif profit>1000000:\n",
    "    bonus+=39500+(profit-1000000)*0.01\n",
    "print('利润%.2f提成是：%.2f'%(profit,bonus))"
   ]
  },
  {
   "cell_type": "code",
   "execution_count": null,
   "metadata": {},
   "outputs": [],
   "source": [
    "profit=int(input('Show me the money: '))\n",
    "bonus=0\n",
    "thresholds=[100000,100000,200000,200000,400000]\n",
    "rates=[0.1,0.075,0.05,0.03,0.015,0.01]\n",
    "for i in range(len(thresholds)):\n",
    "    if profit<=thresholds[i]:\n",
    "        bonus+=profit*rates[i]\n",
    "        profit=0\n",
    "        break\n",
    "    else:\n",
    "        bonus+=thresholds[i]*rates[i]\n",
    "        profit-=thresholds[i]\n",
    "bonus+=profit*rates[-1]\n",
    "print(bonus)\n"
   ]
  },
  {
   "cell_type": "markdown",
   "metadata": {},
   "source": [
    "### 实例003：完全平方数\n",
    "题目 一个整数，它加上100后是一个完全平方数，再加上168又是一个完全平方数，请问该数是多少？\n",
    "1、则：x + 100 = n2, x + 100 + 168 = m2\n",
    "\n",
    "2、计算等式：m2 - n2 = (m + n)(m - n) = 168\n",
    "\n",
    "3、设置： m + n = i，m - n = j，i * j =168，i 和 j 至少一个是偶数\n",
    "\n",
    "4、可得： m = (i + j) / 2， n = (i - j) / 2，i 和 j 要么都是偶数，要么都是奇数。\n",
    "\n",
    "5、从 3 和 4 推导可知道，i 与 j 均是大于等于 2 的偶数。\n",
    "\n",
    "6、由于 i * j = 168， j>=2，则 1 < i < 168 / 2 + 1。"
   ]
  },
  {
   "cell_type": "code",
   "execution_count": null,
   "metadata": {},
   "outputs": [],
   "source": [
    "for i in range(12,85):\n",
    "    if 168%i==0:\n",
    "        j=168//i\n",
    "        if i>j and (i+j)%2==0 and (i-j)%2==0:\n",
    "            n=(i-j)//2\n",
    "            x=n**2-100\n",
    "            print(x)"
   ]
  },
  {
   "cell_type": "code",
   "execution_count": null,
   "metadata": {},
   "outputs": [],
   "source": [
    "n=0\n",
    "while (n+1)**2-n*n<=168:\n",
    "    n+=1\n",
    "\n",
    "for i in range((n+1)**2):\n",
    "    if i**0.5==int(i**0.5) and (i+168)**0.5==int((i+168)**0.5):\n",
    "        print(i-100)\n"
   ]
  },
  {
   "cell_type": "markdown",
   "metadata": {},
   "source": [
    "### 实例004：这天第几天\n",
    "题目 输入某年某月某日，判断这一天是这一年的第几天？\n",
    "\n",
    "程序分析 特殊情况，闰年时需考虑二月多加一天："
   ]
  },
  {
   "cell_type": "code",
   "execution_count": null,
   "metadata": {},
   "outputs": [],
   "source": [
    "days={1:0,2:31,3:59,4:90,5:120,6:151,7:181,8:212,9:243,10:273,11:304,12:334}\n",
    "year=int(input('Year:'))\n",
    "month=int(input('Month:'))\n",
    "day=int(input('Day:'))\n",
    "if year%400==0 or (year%4 and year%100!=0):\n",
    "    leap=1 \n",
    "res=days[month]+day+leap\n",
    "print('%d年%d月%d日是这一年的%d天。'%(year,month,day,res))\n"
   ]
  },
  {
   "cell_type": "markdown",
   "metadata": {},
   "source": [
    "### 实例005：三数排序\n",
    "题目 输入三个整数x,y,z，请把这三个数由小到大输出。\n"
   ]
  },
  {
   "cell_type": "code",
   "execution_count": null,
   "metadata": {},
   "outputs": [],
   "source": [
    "x=[]\n",
    "for i in range(3):\n",
    "    num=int(input('输入三位数，第%d位是：'%(i+1)))\n",
    "    x.append(num)\n",
    "x.sort()\n",
    "print('最小是%d，中间是%d，最大是%d'%(x[0],x[1],x[2]))\n",
    "    "
   ]
  },
  {
   "cell_type": "markdown",
   "metadata": {},
   "source": [
    "### 实例006：斐波那契数列\n",
    "题目 斐波那契数列。\n",
    "程序分析：斐波那契数列（Fibonacci sequence），又称黄金分割数列，指的是这样一个数列：0、1、1、2、3、5、8、13、21、34、……。\n",
    "在数学上，费波那契数列是以递归的方法来定义：。"
   ]
  },
  {
   "cell_type": "code",
   "execution_count": null,
   "metadata": {},
   "outputs": [],
   "source": [
    "flag=True\n",
    "res=[1,1]\n",
    "while flag:\n",
    "    s=input('请输入斐波那契数列项：')\n",
    "    try:\n",
    "        num=int(s)\n",
    "        if num>0 and type(num)is int:\n",
    "            flag=False\n",
    "        else:\n",
    "            print('你输入的%d不符合要求，请重新输入'%num)\n",
    "    except:\n",
    "        print('你输入的%s不符合要求，请重新输入'%s)\n",
    "if num==1:\n",
    "    res=[1]\n",
    "for i in range(2,num):\n",
    "    res.append(res[i-1]+res[i-2])\n",
    "print('%d项的斐波那契数列是：'%num)\n",
    "print(res)\n"
   ]
  },
  {
   "cell_type": "markdown",
   "metadata": {},
   "source": [
    "### 实例007：copy\n",
    "题目 将一个列表的数据复制到另一个列表中。"
   ]
  },
  {
   "cell_type": "code",
   "execution_count": null,
   "metadata": {},
   "outputs": [],
   "source": [
    "a=[1,2,3]\n",
    "b=a[:]\n",
    "print(b)"
   ]
  },
  {
   "cell_type": "markdown",
   "metadata": {},
   "source": [
    "### 实例008：九九乘法表\n",
    "题目 输出 9*9 乘法口诀表。"
   ]
  },
  {
   "cell_type": "code",
   "execution_count": null,
   "metadata": {},
   "outputs": [],
   "source": [
    "for i in range(1,10):\n",
    "    for j in range(1,i+1):\n",
    "        print('%d*%d=%d'%(i,j,i*j),end='\\t')\n",
    "    print('')"
   ]
  },
  {
   "cell_type": "markdown",
   "metadata": {},
   "source": [
    "### 实例009：暂停一秒输出\n",
    "题目 暂停一秒输出。\n",
    "程序分析 使用 time 模块的 sleep() 函数。"
   ]
  },
  {
   "cell_type": "code",
   "execution_count": null,
   "metadata": {},
   "outputs": [],
   "source": [
    "import time\n",
    "for i in range(20):\n",
    "    print(str(int(time.time()))[-2:])\n",
    "    time.sleep(1)"
   ]
  },
  {
   "cell_type": "markdown",
   "metadata": {},
   "source": [
    "### 实例010：给人看的时间\n",
    "题目 暂停一秒输出，并格式化当前时间。"
   ]
  },
  {
   "cell_type": "code",
   "execution_count": null,
   "metadata": {},
   "outputs": [],
   "source": [
    "import time\n",
    "for i in range(10):\n",
    "    print(time.strftime('%Y-%m-%d %H:%M:%S',time.localtime(time.time())))\n",
    "    time.sleep(1)"
   ]
  },
  {
   "cell_type": "markdown",
   "metadata": {},
   "source": [
    "### 实例011：养兔子(重点）\n",
    "题目 有一对兔子，从出生后第3个月起每个月都生一对兔子，小兔子长到第三个月后每个月又生一对兔子，假如兔子都不死，问每个月的兔子总数为多少？\n",
    "\n",
    "程序分析 我认为原文的解法有点扯，没有考虑3个月成熟的问题，人家还是婴儿怎么生孩子？考虑到三个月成熟，可以构建四个数据，其中：一月兔每个月长大成为二月兔，二月兔变三月兔，三月兔变成年兔，成年兔（包括新成熟的三月兔）生等量的一月兔。\n"
   ]
  },
  {
   "cell_type": "code",
   "execution_count": null,
   "metadata": {},
   "outputs": [],
   "source": [
    "month=int(input('繁殖几个月？： '))\n",
    "month_1=1\n",
    "month_2=0\n",
    "month_3=0\n",
    "month_elder=0\n",
    "for i in range(month):\n",
    "    month_1,month_2,month_3,month_elder=month_elder+month_3,month_1,month_2,month_elder+month_3\n",
    "    print('第%d个月共'%(i+1),month_1+month_2+month_3+month_elder,'对兔子')\n",
    "    print('其中1月兔：',month_1)\n",
    "    print('其中2月兔：',month_2)\n",
    "    print('其中3月兔：',month_3)\n",
    "    print('其中成年兔：',month_elder)\n"
   ]
  },
  {
   "cell_type": "markdown",
   "metadata": {},
   "source": [
    "### 实例012：100到200的素数\n",
    "题目 判断101-200之间有多少个素数，并输出所有素数。\n",
    "\n",
    "程序分析 判断素数的方法：用一个数分别去除2到sqrt(这个数)，如果能被整除，则表明此数不是素数，反之是素数。 用else可以进一步简化代码."
   ]
  },
  {
   "cell_type": "code",
   "execution_count": null,
   "metadata": {},
   "outputs": [],
   "source": [
    "res=[]\n",
    "for n in range(100,201):\n",
    "    m=int(n**0.5)\n",
    "    flag=True\n",
    "    while m>1 and flag:\n",
    "        if n%m==0:\n",
    "            print(n,end=' ')\n",
    "            flag=False\n",
    "        m-=1\n",
    "    if flag:\n",
    "        res.append(n)\n",
    "print()\n",
    "print(res)"
   ]
  },
  {
   "cell_type": "code",
   "execution_count": null,
   "metadata": {},
   "outputs": [],
   "source": [
    "import math\n",
    "for i in range(100,200):\n",
    "    flag=0\n",
    "    for j in range(2,round(math.sqrt(i))+1):\n",
    "        if i%j==0:\n",
    "            flag=1\n",
    "            break\n",
    "    if flag:\n",
    "        continue\n",
    "    print(i,end=' ')\n",
    "\n",
    "\n",
    "print('\\nSimplify the code with \"else\"\\n')\n",
    "\n",
    "\n",
    "for i in range(100,200):\n",
    "    for j in range(2,round(math.sqrt(i))+1):\n",
    "        if i%j==0:\n",
    "            break\n",
    "    else:\n",
    "        print(i,end=' ')\n"
   ]
  },
  {
   "cell_type": "markdown",
   "metadata": {},
   "source": [
    "### 实例013：所有水仙花数\n",
    "题目 打印出所有的\"水仙花数\"，所谓\"水仙花数\"是指一个三位数，其各位数字立方和等于该数本身。例如：153是一个\"水仙花数\"，因为153=1的三次方＋5的三次方＋3的三次方。\n",
    "\n",
    "程序分析 利用for循环控制100-999个数，每个数分解出个位，十位，百位。"
   ]
  },
  {
   "cell_type": "code",
   "execution_count": null,
   "metadata": {},
   "outputs": [],
   "source": [
    "for i in range(1,10):\n",
    "    a=i**3\n",
    "    for j in range(0,10):\n",
    "        b=j**3\n",
    "        for k in range(0,10):\n",
    "            c=k**3\n",
    "            d=i*100+j*10+k\n",
    "            if a+b+c==d:\n",
    "                print(d,end=' ')\n",
    "    "
   ]
  },
  {
   "cell_type": "code",
   "execution_count": null,
   "metadata": {},
   "outputs": [],
   "source": [
    "for n in range(100,1000):\n",
    "    s=str(n)\n",
    "    a,b,c=int(s[0]),int(s[1]),int(s[2])\n",
    "    if a**3+b**3+c**3==n:\n",
    "        print(n,end=' ')"
   ]
  },
  {
   "cell_type": "markdown",
   "metadata": {},
   "source": [
    "### 实例014：分解质因数\n",
    "题目 将一个整数分解质因数。例如：输入90,打印出90=233*5。\n",
    "\n",
    "程序分析 根本不需要判断是否是质数，从2开始向数本身遍历，能整除的肯定是最小的质数。"
   ]
  },
  {
   "cell_type": "code",
   "execution_count": null,
   "metadata": {},
   "outputs": [],
   "source": [
    "num=int(input('请输入一个整数：'))\n",
    "def 判定质数(n):\n",
    "    t=int(n**0.5)\n",
    "    for i in range(t):\n",
    "        if n%i==0:\n",
    "            return False\n",
    "        else:\n",
    "            return True\n",
    "        \n",
    "for i in range(2,num+1):\n",
    "    if 判定质数(i):\n",
    "        if \n",
    "    while j>1:\n",
    "        "
   ]
  },
  {
   "cell_type": "code",
   "execution_count": null,
   "metadata": {},
   "outputs": [],
   "source": [
    "target=int(input('输入一个整数：'))\n",
    "print(target,'= ',end='')\n",
    "\n",
    "if target<0:\n",
    "    target=abs(target)\n",
    "    print('-1*',end='')\n",
    "\n",
    "flag=0\n",
    "if target<=1:\n",
    "    print(target)\n",
    "    flag=1\n",
    "\n",
    "\n",
    "while True:\n",
    "    if flag:\n",
    "        break\n",
    "    for i in range(2,int(target+1)):\n",
    "        if target%i==0:\n",
    "            print(\"%d\"%i,end='')\n",
    "            if target==i:\n",
    "                flag=1\n",
    "                break\n",
    "            print('*',end='')\n",
    "            target/=i\n",
    "            break\n"
   ]
  },
  {
   "cell_type": "markdown",
   "metadata": {},
   "source": [
    "### 实例015：分数归档\n",
    "题目 利用条件运算符的嵌套来完成此题：学习成绩>=90分的同学用A表示，60-89分之间的用B表示，60分以下的用C表示。\n",
    "\n",
    "程序分析 用条件判断即可。"
   ]
  },
  {
   "cell_type": "code",
   "execution_count": null,
   "metadata": {},
   "outputs": [],
   "source": [
    "score=int(input('输入分数数：'))\n",
    "if score>=90:\n",
    "    print('%d分是A'%score)\n",
    "elif score>=60:\n",
    "    print('%d分是B'%score)\n",
    "else:\n",
    "    print('%d分是C'%score)"
   ]
  },
  {
   "cell_type": "markdown",
   "metadata": {},
   "source": [
    "### 实例016：输出日期\n",
    "题目 输出指定格式的日期。\n",
    "\n",
    "程序分析 使用 datetime 模块。"
   ]
  },
  {
   "cell_type": "code",
   "execution_count": null,
   "metadata": {},
   "outputs": [],
   "source": [
    "import datetime\n",
    "print(datetime.date.today())\n",
    "print(datetime.date(2333,2,3))\n",
    "print(datetime.date.today().strftime('%d/%m/%Y'))\n",
    "day=datetime.date(1111,2,3)\n",
    "day=day.replace(year=day.year+22)\n",
    "print(day)\n"
   ]
  },
  {
   "cell_type": "markdown",
   "metadata": {},
   "source": [
    "### 实例017：字符串构成\n",
    "题目 输入一行字符，分别统计出其中英文字母、空格、数字和其它字符的个数。\n",
    "\n",
    "程序分析 利用 while 或 for 语句,条件为输入的字符不为 ‘\\n’。"
   ]
  },
  {
   "cell_type": "code",
   "execution_count": null,
   "metadata": {},
   "outputs": [],
   "source": [
    "string=input('请输入要统计的字符串：')\n",
    "alp,num,space,oth=0,0,0,0\n",
    "for c in string:\n",
    "    if c.isspace():\n",
    "        space+=1\n",
    "    elif c.isdigit():\n",
    "        num+=1\n",
    "    elif c.isalpha():\n",
    "        alp+=1\n",
    "    else:\n",
    "        oth+=1\n",
    "print('字母%s个，数字%s个，空格%s个，其他字符%s个。'%(alp,num,space,oth))"
   ]
  },
  {
   "cell_type": "markdown",
   "metadata": {},
   "source": [
    "### 实例018：复读机相加\n",
    "题目 求s=a+aa+aaa+aaaa+aa…a的值，其中a是一个数字。例如2+22+222+2222+22222(此时共有5个数相加)，几个数相加由键盘控制。\n",
    "\n",
    "程序分析 用字符串解决。"
   ]
  },
  {
   "cell_type": "code",
   "execution_count": null,
   "metadata": {},
   "outputs": [],
   "source": [
    "a=int(input('被加数字：'))\n",
    "n=int(input('加几次？：'))\n",
    "ans=0\n",
    "t=0\n",
    "for i in range(n):\n",
    "    t=t+a*10*i\n",
    "    ans=ans+t\n",
    "print('和是：',ans)\n",
    "    "
   ]
  },
  {
   "cell_type": "code",
   "execution_count": null,
   "metadata": {},
   "outputs": [],
   "source": [
    "a=input('被加数字：')\n",
    "n=int(input('加几次？：'))\n",
    "res=0\n",
    "for i in range(n):\n",
    "    res+=int(a)\n",
    "    a+=a[0]\n",
    "print('结果是：',res)"
   ]
  },
  {
   "cell_type": "markdown",
   "metadata": {},
   "source": [
    "### 实例019：完数\n",
    "题目 一个数如果恰好等于它的因子之和，这个数就称为\"完数\"。例如6=1＋2＋3.编程找出1000以内的所有完数。\n",
    "\n",
    "程序分析 将每一对因子加进集合，在这个过程中已经自动去重。最后的结果要求不计算其本身。"
   ]
  },
  {
   "cell_type": "code",
   "execution_count": null,
   "metadata": {},
   "outputs": [],
   "source": []
  },
  {
   "cell_type": "markdown",
   "metadata": {},
   "source": [
    "### 实例020：高空抛物\n",
    "题目 一球从100米高度自由落下，每次落地后反跳回原高度的一半；再落下，求它在第10次落地时，共经过多少米？第10次反弹多高？\n",
    "\n",
    "程序分析: **注意要计算反弹的距离及下落的距离**"
   ]
  },
  {
   "cell_type": "code",
   "execution_count": null,
   "metadata": {},
   "outputs": [],
   "source": [
    "h=100\n",
    "s=0\n",
    "for i in range(1,11):\n",
    "    if i==1:\n",
    "        s+=h\n",
    "    else:\n",
    "        s+=h*2\n",
    "    h=h/2\n",
    "    print('第%d次落地，经过%.2f米，反弹%.2f米。'%(i,s,h))"
   ]
  },
  {
   "cell_type": "code",
   "execution_count": null,
   "metadata": {},
   "outputs": [],
   "source": [
    "high=200.\n",
    "total=100\n",
    "for i in range(10):\n",
    "    high/=2\n",
    "    total+=high\n",
    "    print(high/2)\n",
    "print('总长：',total)"
   ]
  },
  {
   "cell_type": "markdown",
   "metadata": {},
   "source": [
    "### 实例021：猴子偷桃\n",
    "题目 猴子吃桃问题：猴子第一天摘下若干个桃子，当即吃了一半，还不瘾，又多吃了一个第二天早上又将剩下的桃子吃掉一半，又多吃了一个。以后每天早上都吃了前一天剩下的一半零一个。到第10天早上想再吃时，见只剩下一个桃子了。求第一天共摘了多少。\n",
    "\n",
    "程序分析 按规则反向推断：猴子有一个桃子，他偷来一个桃子，觉得不够又偷来了与手上等量的桃子，一共偷了9天。"
   ]
  },
  {
   "cell_type": "code",
   "execution_count": null,
   "metadata": {},
   "outputs": [],
   "source": [
    "\n",
    "total=1\n",
    "for i in range(9):\n",
    "    total=(total+1)*2\n",
    "    \n",
    "print('一共摘了桃子%d个。'%total)\n",
    "    \n",
    "    "
   ]
  },
  {
   "cell_type": "markdown",
   "metadata": {},
   "source": [
    "### 实例022：比赛对手----关注\n",
    "题目 两个乒乓球队进行比赛，各出三人。甲队为a,b,c三人，乙队为x,y,z三人。已抽签决定比赛名单。有人向队员打听比赛的名单。a说他不和x比，c说他不和x,z比，请编程序找出三队赛手的名单。\n",
    "\n",
    "程序分析 找到条件下不重复的三个对手即可 "
   ]
  },
  {
   "cell_type": "code",
   "execution_count": null,
   "metadata": {},
   "outputs": [],
   "source": [
    "a=set(['x','y','z'])\n",
    "b=set(['x','y','z'])\n",
    "c=set(['x','y','z'])\n",
    "c-=set(('x','z'))\n",
    "a-=set('x')\n",
    "for i in a:\n",
    "    for j in b:\n",
    "        for k in c:\n",
    "            if len(set((i,j,k)))==3:\n",
    "                print('a:%s,b:%s,c:%s'%(i,j,k))\n"
   ]
  },
  {
   "cell_type": "markdown",
   "metadata": {},
   "source": [
    "### 实例023：画菱形\n",
    "题目 打印出如下图案（菱形）:\n",
    "    *\n",
    "   ***\n",
    "  *****\n",
    " *******\n",
    "  *****\n",
    "   ***\n",
    "    *"
   ]
  },
  {
   "cell_type": "code",
   "execution_count": null,
   "metadata": {},
   "outputs": [],
   "source": [
    "height=11\n",
    "mid=height//2\n",
    "width=mid*2+1\n",
    "for i in range(height):\n",
    "    if i<mid:\n",
    "        s='*'*(2*i+1)\n",
    "    else:\n",
    "        s='*'*(width-(i-mid)*2)\n",
    "    print(s.center(width))"
   ]
  },
  {
   "cell_type": "code",
   "execution_count": null,
   "metadata": {},
   "outputs": [],
   "source": [
    "def draw(num):\n",
    "    a=\"*\"*(2*(4-num)+1)\n",
    "    print(a.center(9,' '))\n",
    "    if num!=1:\n",
    "        draw(num-1)\n",
    "        print(a.center(9,' '))\n",
    "draw(8)"
   ]
  },
  {
   "cell_type": "markdown",
   "metadata": {},
   "source": [
    "### 实例024：斐波那契数列II\n",
    "题目 有一分数序列：2/1，3/2，5/3，8/5，13/8，21/13…求出这个数列的前20项之和。\n",
    "\n",
    "程序分析 就是斐波那契数列的后一项除以前一项。"
   ]
  },
  {
   "cell_type": "code",
   "execution_count": null,
   "metadata": {},
   "outputs": [],
   "source": [
    "def sum_fib2(n):\n",
    "    a,b=1,1\n",
    "    ans=0\n",
    "    for i in range(1,n+1):\n",
    "        a,b=b,a+b\n",
    "        c=b/a\n",
    "        ans+=c\n",
    "    return ans \n",
    "n=int(input('请输入斐波那契ii项数：'))\n",
    "print('斐波那契ii前%d的和是：%.5f'%(n,sum_fib2(n)))"
   ]
  },
  {
   "cell_type": "code",
   "execution_count": null,
   "metadata": {},
   "outputs": [],
   "source": [
    "def sum_fib(n):\n",
    "    if n<3:\n",
    "        return n\n",
    "    a,b=1,1\n",
    "    ans=2\n",
    "    for i in range(3,n+1):\n",
    "        a,b=b,a+b\n",
    "        ans+=b \n",
    "    return ans \n",
    "n=int(input('请输入斐波那契项数：'))\n",
    "print('斐波那契前%d的和是：%d'%(n,sum_fib(n)))  \n",
    "    "
   ]
  },
  {
   "cell_type": "markdown",
   "metadata": {},
   "source": [
    "### 实例025： 阶乘求和\n",
    "题目 求1+2!+3!+…+20!的和。\n",
    "\n",
    "程序分析 1+2!+3!+…+20!=1+2(1+3(1+4(…20(1))))"
   ]
  },
  {
   "cell_type": "code",
   "execution_count": null,
   "metadata": {},
   "outputs": [],
   "source": [
    "def sum_Fact(n):\n",
    "    factor=1\n",
    "    ans=0\n",
    "    for i in range(1,n+1):\n",
    "        factor=factor*i\n",
    "        ans+=factor\n",
    "    return ans\n",
    "n=int(input('请输入阶乘数：'))\n",
    "print('阶乘%d的和是：%d'%(n,sum_Fact(n)))    "
   ]
  },
  {
   "cell_type": "markdown",
   "metadata": {},
   "source": [
    "### 实例026：递归求阶乘\n",
    "题目 利用递归方法求5!。\n",
    "\n",
    "程序分析 递归调用即可。"
   ]
  },
  {
   "cell_type": "code",
   "execution_count": null,
   "metadata": {},
   "outputs": [],
   "source": [
    "def fac(n):\n",
    "    if n==1:\n",
    "        return 1\n",
    "    return n*fac(n-1)\n",
    "print('5的阶乘是：',fac(5))"
   ]
  },
  {
   "cell_type": "markdown",
   "metadata": {},
   "source": [
    "### 实例027：递归输出\n",
    "题目 利用递归函数调用方式，将所输入的5个字符，以相反顺序打印出来。\n",
    "\n",
    "程序分析 递归真是蠢方法。"
   ]
  },
  {
   "cell_type": "code",
   "execution_count": null,
   "metadata": {},
   "outputs": [],
   "source": [
    "def revers_string(s):\n",
    "    if len(s)==1:\n",
    "        return s[0]\n",
    "    return s[-1]+revers_string(s[:-1])\n",
    "s=input('请输入要处理的字符：')\n",
    "print('原来字符：%s'%s)\n",
    "print('反 转 后：%s'%revers_string(s))\n"
   ]
  },
  {
   "cell_type": "code",
   "execution_count": null,
   "metadata": {},
   "outputs": [],
   "source": [
    "def revers_string(s):\n",
    "    if len(s)==1:\n",
    "        print(s[0],end='')\n",
    "        return \n",
    "    print(s[-1],end='')\n",
    "    return revers_string(s[:-1])\n",
    "s=input('请输入要处理的字符：')\n",
    "print('原来字符：%s'%s)\n",
    "print('反 转 后：',end='')\n",
    "revers_string(s)"
   ]
  },
  {
   "cell_type": "markdown",
   "metadata": {},
   "source": [
    "### 实例028：递归求等差数列\n",
    "题目 有5个人坐在一起，问第五个人多少岁？他说比第4个人大2岁。问第4个人岁数，他说比第3个人大2岁。问第三个人，又说比第2人大两岁。问第2个人，说比第一个人大两岁。最后问第一个人，他说是10岁。请问第五个人多大？\n",
    "\n",
    "程序分析 就一等差数列。"
   ]
  },
  {
   "cell_type": "code",
   "execution_count": null,
   "metadata": {},
   "outputs": [],
   "source": [
    "def age(n):\n",
    "    if n==1:\n",
    "        return 10\n",
    "    return 2+age(n-1)\n",
    "n=int(input('请输入人数：'))\n",
    "print('第%d人的年龄是：%d'%(n,age(n)))"
   ]
  },
  {
   "cell_type": "markdown",
   "metadata": {},
   "source": [
    "### 实例029：反向输出\n",
    "题目 给一个不多于5位的正整数，要求：一、求它是几位数，二、逆序打印出各位数字。\n",
    "\n",
    "程序分析 学会分解出每一位数,用字符串的方法总是比较省事。"
   ]
  },
  {
   "cell_type": "code",
   "execution_count": null,
   "metadata": {},
   "outputs": [],
   "source": [
    "n=input('请输入正整数：')\n",
    "print('%s是%d位数，逆序是%s'%(n,len(n),n[::-1]))"
   ]
  },
  {
   "cell_type": "markdown",
   "metadata": {},
   "source": [
    "### 实例030：回文数\n",
    "题目 一个5位数，判断它是不是回文数。即12321是回文数，个位与万位相同，十位与千位相同。\n",
    "\n",
    "程序分析 用字符串比较方便,就算输入的不是数字都ok。"
   ]
  },
  {
   "cell_type": "code",
   "execution_count": null,
   "metadata": {},
   "outputs": [],
   "source": [
    "n=input('请输入正整数：')\n",
    "s='是'if n==n[::-1] else '不是'\n",
    "print('%s%s回文数。'%(n,s))"
   ]
  },
  {
   "cell_type": "markdown",
   "metadata": {},
   "source": [
    "### 实例031：字母识词\n",
    "题目 请输入星期几的第一个字母来判断一下是星期几，如果第一个字母一样，则继续判断第二个字母。\n",
    "\n",
    "程序分析 这里用字典的形式直接将对照关系存好。"
   ]
  },
  {
   "cell_type": "code",
   "execution_count": null,
   "metadata": {},
   "outputs": [],
   "source": [
    "week={'m':'Monday','tu':'Tuesday','th':'Thursday','w':'Wenday','f':'Friday','sa':'Saturday','su':'Sunday'}\n",
    "flag=True\n",
    "while flag:\n",
    "    c=input('请输入你喜欢的星期几的首字母').lower()\n",
    "    if c in week:\n",
    "        print('你喜欢的是：%s'%week[c])\n",
    "        flag=False\n",
    "    else:\n",
    "        cc=input('无法判断，请输入第二字母').lower()\n",
    "        if c+cc in week:\n",
    "            print('你喜欢的是：%s'%week[c+cc])\n",
    "            flag=False\n",
    "        else:\n",
    "            print('找不到，请重新输入！')"
   ]
  },
  {
   "cell_type": "markdown",
   "metadata": {},
   "source": [
    "### 实例032：反向输出II\n",
    "题目 按相反的顺序输出列表的值。\n",
    "\n",
    "程序分析 无。"
   ]
  },
  {
   "cell_type": "code",
   "execution_count": null,
   "metadata": {},
   "outputs": [],
   "source": [
    "alist=[1,2,3,4,5]\n",
    "alist.reverse()\n",
    "print(alist)"
   ]
  },
  {
   "cell_type": "markdown",
   "metadata": {},
   "source": [
    "### 实例033：列表转字符串\n",
    "题目 按逗号分隔列表。\n",
    "\n",
    "程序分析 无。"
   ]
  },
  {
   "cell_type": "code",
   "execution_count": null,
   "metadata": {},
   "outputs": [],
   "source": [
    "alist=[1,2,3,4,5]\n",
    "print(','.join(map(str,alist)))"
   ]
  },
  {
   "cell_type": "code",
   "execution_count": null,
   "metadata": {},
   "outputs": [],
   "source": [
    "L = [1,2,3,4,5]\n",
    "print(','.join(str(n) for n in L))"
   ]
  },
  {
   "cell_type": "markdown",
   "metadata": {},
   "source": [
    "### 实例034：调用函数\n",
    "题目 练习函数调用。\n",
    "\n",
    "程序分析 无"
   ]
  },
  {
   "cell_type": "code",
   "execution_count": null,
   "metadata": {},
   "outputs": [],
   "source": [
    "def revers_string(s):\n",
    "    if len(s)==1:\n",
    "        return s[0]\n",
    "    return s[-1]+revers_string(s[:-1])\n",
    "if __name__=='__main__':\n",
    "    s=input('请输入要处理的字符：')\n",
    "    print('原来字符：%s'%s)\n",
    "    print('反 转 后：%s'%revers_string(s))"
   ]
  },
  {
   "cell_type": "markdown",
   "metadata": {},
   "source": [
    "### 实例035：设置输出颜色----关注\n",
    "题目 文本颜色设置。\n",
    "\n",
    "程序分析 无。"
   ]
  },
  {
   "cell_type": "code",
   "execution_count": null,
   "metadata": {},
   "outputs": [],
   "source": [
    "class bcolors:\n",
    "    HEADER = '\\033[95m'\n",
    "    OKBLUE = '\\033[94m'\n",
    "    OKGREEN = '\\033[92m'\n",
    "    WARNING = '\\033[93m'\n",
    "    FAIL = '\\033[91m'\n",
    "    ENDC = '\\033[0m'\n",
    "    BOLD = '\\033[1m'\n",
    "    UNDERLINE = '\\033[4m'\n",
    "print(bcolors.WARNING + \"警告的颜色字体!\" + bcolors.ENDC)"
   ]
  },
  {
   "cell_type": "markdown",
   "metadata": {},
   "source": [
    "### 实例036：算素数\n",
    "题目 求100之内的素数。\n",
    "\n",
    "程序分析 用else执行for循环的奖励代码（如果for是正常完结，非break）。"
   ]
  },
  {
   "cell_type": "code",
   "execution_count": 41,
   "metadata": {},
   "outputs": [],
   "source": [
    "def prime(n):\n",
    "    for i in range(2,n):\n",
    "        m=int(i**0.5)\n",
    "        flag=True\n",
    "        for j in range(2,m+1):\n",
    "            if i%j==0:\n",
    "                flag=False\n",
    "                break\n",
    "        if flag:\n",
    "            yield i \n",
    "   \n",
    "print('100以内的素数是：',list(prime(100)))"
   ]
  },
  {
   "cell_type": "markdown",
   "metadata": {},
   "source": [
    "### 实例037：排序\n",
    "题目 对10个数进行排序。\n",
    "\n",
    "程序分析 同实例005。"
   ]
  },
  {
   "cell_type": "code",
   "execution_count": 43,
   "metadata": {},
   "outputs": [
    {
     "name": "stdout",
     "output_type": "stream",
     "text": [
      "[Getting data:]#########"
     ]
    }
   ],
   "source": [
    "d1=ts.new_stocks()"
   ]
  },
  {
   "cell_type": "code",
   "execution_count": 44,
   "metadata": {},
   "outputs": [
    {
     "data": {
      "text/html": [
       "<div>\n",
       "<style scoped>\n",
       "    .dataframe tbody tr th:only-of-type {\n",
       "        vertical-align: middle;\n",
       "    }\n",
       "\n",
       "    .dataframe tbody tr th {\n",
       "        vertical-align: top;\n",
       "    }\n",
       "\n",
       "    .dataframe thead th {\n",
       "        text-align: right;\n",
       "    }\n",
       "</style>\n",
       "<table border=\"1\" class=\"dataframe\">\n",
       "  <thead>\n",
       "    <tr style=\"text-align: right;\">\n",
       "      <th></th>\n",
       "      <th>code</th>\n",
       "      <th>xcode</th>\n",
       "      <th>name</th>\n",
       "      <th>ipo_date</th>\n",
       "      <th>issue_date</th>\n",
       "      <th>amount</th>\n",
       "      <th>markets</th>\n",
       "      <th>price</th>\n",
       "      <th>pe</th>\n",
       "      <th>limit</th>\n",
       "      <th>funds</th>\n",
       "      <th>ballot</th>\n",
       "    </tr>\n",
       "  </thead>\n",
       "  <tbody>\n",
       "    <tr>\n",
       "      <th>0</th>\n",
       "      <td>300822</td>\n",
       "      <td>300822</td>\n",
       "      <td>贝仕达克</td>\n",
       "      <td>2020-03-04</td>\n",
       "      <td>NaN</td>\n",
       "      <td>2667</td>\n",
       "      <td>1067</td>\n",
       "      <td>0.00</td>\n",
       "      <td>0.00</td>\n",
       "      <td>1.05</td>\n",
       "      <td>6.286</td>\n",
       "      <td>0.00</td>\n",
       "    </tr>\n",
       "    <tr>\n",
       "      <th>1</th>\n",
       "      <td>300819</td>\n",
       "      <td>300819</td>\n",
       "      <td>聚杰微纤</td>\n",
       "      <td>2020-03-03</td>\n",
       "      <td>NaN</td>\n",
       "      <td>2487</td>\n",
       "      <td>987</td>\n",
       "      <td>15.07</td>\n",
       "      <td>22.99</td>\n",
       "      <td>0.95</td>\n",
       "      <td>3.748</td>\n",
       "      <td>0.00</td>\n",
       "    </tr>\n",
       "    <tr>\n",
       "      <th>2</th>\n",
       "      <td>300821</td>\n",
       "      <td>300821</td>\n",
       "      <td>东岳硅材</td>\n",
       "      <td>2020-03-03</td>\n",
       "      <td>NaN</td>\n",
       "      <td>30000</td>\n",
       "      <td>9000</td>\n",
       "      <td>0.00</td>\n",
       "      <td>0.00</td>\n",
       "      <td>9.00</td>\n",
       "      <td>20.700</td>\n",
       "      <td>0.00</td>\n",
       "    </tr>\n",
       "    <tr>\n",
       "      <th>3</th>\n",
       "      <td>603949</td>\n",
       "      <td>732949</td>\n",
       "      <td>雪龙集团</td>\n",
       "      <td>2020-02-27</td>\n",
       "      <td>NaN</td>\n",
       "      <td>3747</td>\n",
       "      <td>1499</td>\n",
       "      <td>12.66</td>\n",
       "      <td>22.99</td>\n",
       "      <td>1.40</td>\n",
       "      <td>4.744</td>\n",
       "      <td>0.00</td>\n",
       "    </tr>\n",
       "    <tr>\n",
       "      <th>4</th>\n",
       "      <td>002976</td>\n",
       "      <td>002976</td>\n",
       "      <td>瑞玛工业</td>\n",
       "      <td>2020-02-26</td>\n",
       "      <td>NaN</td>\n",
       "      <td>2500</td>\n",
       "      <td>1000</td>\n",
       "      <td>0.00</td>\n",
       "      <td>0.00</td>\n",
       "      <td>1.00</td>\n",
       "      <td>4.753</td>\n",
       "      <td>0.00</td>\n",
       "    </tr>\n",
       "    <tr>\n",
       "      <th>...</th>\n",
       "      <td>...</td>\n",
       "      <td>...</td>\n",
       "      <td>...</td>\n",
       "      <td>...</td>\n",
       "      <td>...</td>\n",
       "      <td>...</td>\n",
       "      <td>...</td>\n",
       "      <td>...</td>\n",
       "      <td>...</td>\n",
       "      <td>...</td>\n",
       "      <td>...</td>\n",
       "      <td>...</td>\n",
       "    </tr>\n",
       "    <tr>\n",
       "      <th>313</th>\n",
       "      <td>603214</td>\n",
       "      <td>732214</td>\n",
       "      <td>爱婴室</td>\n",
       "      <td>2018-03-21</td>\n",
       "      <td>2018-03-30</td>\n",
       "      <td>2500</td>\n",
       "      <td>2250</td>\n",
       "      <td>19.95</td>\n",
       "      <td>22.98</td>\n",
       "      <td>1.00</td>\n",
       "      <td>4.987</td>\n",
       "      <td>0.03</td>\n",
       "    </tr>\n",
       "    <tr>\n",
       "      <th>314</th>\n",
       "      <td>300504</td>\n",
       "      <td>300504</td>\n",
       "      <td>天邑股份</td>\n",
       "      <td>2018-03-21</td>\n",
       "      <td>2018-03-30</td>\n",
       "      <td>6685</td>\n",
       "      <td>6017</td>\n",
       "      <td>13.06</td>\n",
       "      <td>22.98</td>\n",
       "      <td>2.55</td>\n",
       "      <td>8.731</td>\n",
       "      <td>0.04</td>\n",
       "    </tr>\n",
       "    <tr>\n",
       "      <th>315</th>\n",
       "      <td>600929</td>\n",
       "      <td>730929</td>\n",
       "      <td>湖南盐业</td>\n",
       "      <td>2018-03-14</td>\n",
       "      <td>2018-03-26</td>\n",
       "      <td>15000</td>\n",
       "      <td>13500</td>\n",
       "      <td>3.71</td>\n",
       "      <td>22.99</td>\n",
       "      <td>4.50</td>\n",
       "      <td>5.565</td>\n",
       "      <td>0.08</td>\n",
       "    </tr>\n",
       "    <tr>\n",
       "      <th>316</th>\n",
       "      <td>002930</td>\n",
       "      <td>002930</td>\n",
       "      <td>宏川智慧</td>\n",
       "      <td>2018-03-14</td>\n",
       "      <td>2018-03-28</td>\n",
       "      <td>6083</td>\n",
       "      <td>5475</td>\n",
       "      <td>8.53</td>\n",
       "      <td>22.97</td>\n",
       "      <td>2.40</td>\n",
       "      <td>5.189</td>\n",
       "      <td>0.04</td>\n",
       "    </tr>\n",
       "    <tr>\n",
       "      <th>317</th>\n",
       "      <td>300634</td>\n",
       "      <td>300634</td>\n",
       "      <td>彩讯股份</td>\n",
       "      <td>2018-03-14</td>\n",
       "      <td>2018-03-23</td>\n",
       "      <td>4001</td>\n",
       "      <td>3601</td>\n",
       "      <td>7.17</td>\n",
       "      <td>22.98</td>\n",
       "      <td>1.20</td>\n",
       "      <td>2.869</td>\n",
       "      <td>0.04</td>\n",
       "    </tr>\n",
       "  </tbody>\n",
       "</table>\n",
       "<p>318 rows × 12 columns</p>\n",
       "</div>"
      ],
      "text/plain": [
       "       code   xcode  name    ipo_date  issue_date  amount  markets  price  \\\n",
       "0    300822  300822  贝仕达克  2020-03-04         NaN    2667     1067   0.00   \n",
       "1    300819  300819  聚杰微纤  2020-03-03         NaN    2487      987  15.07   \n",
       "2    300821  300821  东岳硅材  2020-03-03         NaN   30000     9000   0.00   \n",
       "3    603949  732949  雪龙集团  2020-02-27         NaN    3747     1499  12.66   \n",
       "4    002976  002976  瑞玛工业  2020-02-26         NaN    2500     1000   0.00   \n",
       "..      ...     ...   ...         ...         ...     ...      ...    ...   \n",
       "313  603214  732214   爱婴室  2018-03-21  2018-03-30    2500     2250  19.95   \n",
       "314  300504  300504  天邑股份  2018-03-21  2018-03-30    6685     6017  13.06   \n",
       "315  600929  730929  湖南盐业  2018-03-14  2018-03-26   15000    13500   3.71   \n",
       "316  002930  002930  宏川智慧  2018-03-14  2018-03-28    6083     5475   8.53   \n",
       "317  300634  300634  彩讯股份  2018-03-14  2018-03-23    4001     3601   7.17   \n",
       "\n",
       "        pe  limit   funds  ballot  \n",
       "0     0.00   1.05   6.286    0.00  \n",
       "1    22.99   0.95   3.748    0.00  \n",
       "2     0.00   9.00  20.700    0.00  \n",
       "3    22.99   1.40   4.744    0.00  \n",
       "4     0.00   1.00   4.753    0.00  \n",
       "..     ...    ...     ...     ...  \n",
       "313  22.98   1.00   4.987    0.03  \n",
       "314  22.98   2.55   8.731    0.04  \n",
       "315  22.99   4.50   5.565    0.08  \n",
       "316  22.97   2.40   5.189    0.04  \n",
       "317  22.98   1.20   2.869    0.04  \n",
       "\n",
       "[318 rows x 12 columns]"
      ]
     },
     "execution_count": 44,
     "metadata": {},
     "output_type": "execute_result"
    }
   ],
   "source": [
<<<<<<< HEAD
    "d1\n"
=======
    "s=input('请输入10个数字：')\n",
    "alist=list(map(int,s.split()))\n",
    "print('输入的数字列表是：',alist)\n",
    "n=len(alist)\n",
    "for i in range(0,n-1):\n",
    "    for j in range(i+1,n):\n",
    "        if alist[i]>alist[j]:\n",
    "            alist[i],alist[j]=alist[j],alist[i]\n",
    "print('列表排序后顺序是：',alist)"
>>>>>>> 000a38ad525bb392ba5c0a111766578d0159e8ca
   ]
  },
  {
   "cell_type": "markdown",
   "metadata": {},
   "source": [
    "### 实例038：矩阵对角线之和\n",
    "题目 求一个3*3矩阵主对角线元素之和。\n",
    "\n",
    "程序分析 无。"
   ]
  },
  {
   "cell_type": "code",
   "execution_count": null,
   "metadata": {},
   "outputs": [],
   "source": [
    "mat=[[1,2,3],\n",
    "     [3,4,5],\n",
    "     [4,5,6]\n",
    "    ]\n",
    "res=0\n",
    "for i in range(len(mat)):\n",
    "    res+=mat[i][i]\n",
    "print(res)"
   ]
  },
  {
   "cell_type": "markdown",
   "metadata": {},
   "source": [
    "### 实例039：有序列表插入元素\n",
    "题目 有一个已经排好序的数组。现输入一个数，要求按原来的规律将它插入数组中。\n",
    "\n",
    "程序分析 首先判断此数是否大于最后一个数，然后再考虑插入中间的数的情况，插入后此元素之后的数，依次后移一个位置。"
   ]
  },
  {
   "cell_type": "code",
   "execution_count": null,
   "metadata": {},
   "outputs": [],
   "source": [
    "lis=[1,10,100,1000,10000,100000]\n",
    "n=int(input('insert a number: '))\n",
    "lis.append(n)\n",
    "for i in range(len(lis)-1):\n",
    "    if lis[i]>=n:\n",
    "        for j in range(i,len(lis)):\n",
    "            lis[j],lis[-1]=lis[-1],lis[j]\n",
    "        break\n",
    "print(lis)\n"
   ]
  },
  {
   "cell_type": "markdown",
   "metadata": {},
   "source": [
    "### 实例040：逆序列表\n",
    "题目 将一个数组逆序输出。\n",
    "\n",
    "程序分析 依次交换位置，或者直接调用reverse方法"
   ]
  },
  {
   "cell_type": "code",
   "execution_count": null,
   "metadata": {},
   "outputs": [],
   "source": [
    "a = [9,6,5,4,1]\n",
    "left=0\n",
    "right=len(a)-1\n",
    "while left<right:\n",
    "    a[left],a[right]=a[right],a[left]\n",
    "    left+=1\n",
    "    right-=1\n",
    "    \n",
    "print(a)"
   ]
  },
  {
   "cell_type": "markdown",
   "metadata": {},
   "source": [
    "### 实例041：类的方法与变量---关注\n",
    "题目 模仿静态变量的用法。\n",
    "\n",
    "程序分析 构造类，了解类的方法与变量。"
   ]
  },
  {
   "cell_type": "code",
   "execution_count": null,
   "metadata": {},
   "outputs": [],
   "source": [
    "def dummy():\n",
    "    i=0\n",
    "    print(i)\n",
    "    i+=1\n",
    "\n",
    "class cls:\n",
    "    i=0\n",
    "    def dummy(self):\n",
    "        print(self.i)\n",
    "        self.i+=1\n",
    "\n",
    "a=cls()\n",
    "for i in range(5):\n",
    "    dummy()\n",
    "    a.dummy()\n"
   ]
  },
  {
   "cell_type": "code",
   "execution_count": null,
   "metadata": {},
   "outputs": [],
   "source": [
    "def varfunc():\n",
    "    var = 0\n",
    "    print( 'var = %d' % var)\n",
    "    var += 1\n",
    "if __name__ == '__main__':\n",
    "    for i in range(3):\n",
    "        varfunc()\n",
    "\n",
    "# 类的属性\n",
    "# 作为类的一个属性吧\n",
    "class Static:\n",
    "    StaticVar = 5\n",
    "    def varfunc(self):\n",
    "        self.StaticVar += 1\n",
    "        print(self.StaticVar)\n",
    "\n",
    "print(Static.StaticVar)\n",
    "a = Static()\n",
    "for i in range(3):\n",
    "    a.varfunc()"
   ]
  },
  {
   "cell_type": "markdown",
   "metadata": {},
   "source": [
    "### 实例042：变量作用域----关注\n",
    "题目 学习使用auto定义变量的用法。\n",
    "\n",
    "程序分析 python中的变量作用域"
   ]
  },
  {
   "cell_type": "code",
   "execution_count": null,
   "metadata": {},
   "outputs": [],
   "source": [
    "i=0\n",
    "n=0\n",
    "def dummy():\n",
    "    i=0\n",
    "    print(i)\n",
    "    i+=1\n",
    "def dummy2():\n",
    "    global n\n",
    "    print(n)\n",
    "    n+=1\n",
    "print('函数内部的同名变量')\n",
    "for j in range(20):\n",
    "    print(i)\n",
    "    dummy()\n",
    "    i+=1\n",
    "print('global声明同名变量')\n",
    "for k in range(20):\n",
    "    print(n)\n",
    "    dummy2()\n",
    "    n+=10\n"
   ]
  },
  {
   "cell_type": "code",
   "execution_count": null,
   "metadata": {},
   "outputs": [],
   "source": [
    "num = 2\n",
    "def autofunc():\n",
    "    num = 1\n",
    "    print('internal block num = %d' % num)\n",
    "    num += 1\n",
    "for i in range(3):\n",
    "    print('The num = %d' % num)\n",
    "    num += 1\n",
    "    autofunc()"
   ]
  },
  {
   "cell_type": "markdown",
   "metadata": {},
   "source": [
    "### 实例043：作用域、类的方法与变量----关注\n",
    "题目 模仿静态变量(static)另一案例。\n",
    "\n",
    "程序分析 综合实例041和实例042。"
   ]
  },
  {
   "cell_type": "code",
   "execution_count": null,
   "metadata": {},
   "outputs": [],
   "source": [
    "class dummy:\n",
    "    num=1\n",
    "    def Num(self):\n",
    "        print('class dummy num:',self.num)\n",
    "        print('global num: ',num)\n",
    "        self.num+=1\n",
    "\n",
    "n=dummy()\n",
    "num=1\n",
    "for i in range(5):\n",
    "    num*=10\n",
    "    n.Num()"
   ]
  },
  {
   "cell_type": "code",
   "execution_count": null,
   "metadata": {},
   "outputs": [],
   "source": [
    "class Num:\n",
    "    nNum = 1\n",
    "    def inc(self):\n",
    "        self.nNum += 1\n",
    "        print( 'nNum = %d' % self.nNum)\n",
    "\n",
    "if __name__ == '__main__':\n",
    "    nNum = 2\n",
    "    inst = Num()\n",
    "    for i in range(3):\n",
    "        nNum += 1\n",
    "        print( 'The num = %d' % nNum)\n",
    "        inst.inc()"
   ]
  },
  {
   "cell_type": "markdown",
   "metadata": {},
   "source": [
    "### 实例044：矩阵相加\n",
    "题目 计算两个矩阵相加。\n",
    "\n",
    "程序分析 创建一个新的矩阵，使用 for 迭代并取出 X 和 Y 矩阵中对应位置的值，相加后放到新矩阵的对应位置中。"
   ]
  },
  {
   "cell_type": "code",
   "execution_count": null,
   "metadata": {},
   "outputs": [],
   "source": [
    "X = [[12,7,3],\n",
    "    [4 ,5,6],\n",
    "    [7 ,8,9]]\n",
    "\n",
    "Y = [[5,8,1],\n",
    "    [6,7,3],\n",
    "    [4,5,9]]\n",
    "for i in range(3):\n",
    "    for j in range(3):\n",
    "        X[i][j]=X[i][j]+Y[i][j]\n",
    "print('X+Y=',X)"
   ]
  },
  {
   "cell_type": "markdown",
   "metadata": {},
   "source": [
    "#### 实例045：求和\n",
    "题目 统计 1 到 100 之和。\n",
    "\n",
    "程序分析 无"
   ]
  },
  {
   "cell_type": "code",
   "execution_count": null,
   "metadata": {},
   "outputs": [],
   "source": [
    "ans=0\n",
    "for i in range(100):\n",
    "    ans+=(i+1)\n",
    "print(ans)"
   ]
  },
  {
   "cell_type": "markdown",
   "metadata": {},
   "source": [
    "### 实例046：打破循环\n",
    "题目 求输入数字的平方，如果平方运算后小于 50 则退出。\n",
    "\n",
    "程序分析 无"
   ]
  },
  {
   "cell_type": "code",
   "execution_count": null,
   "metadata": {},
   "outputs": [],
   "source": [
    "while True:\n",
    "    try:\n",
    "        n=float(input('输入一个数字：'))\n",
    "    except:\n",
    "        print('输入错误')\n",
    "        continue\n",
    "    dn=n**2\n",
    "    print('其平方为：',dn)\n",
    "    if dn<50:\n",
    "        print('平方小于50，退出')\n",
    "        break\n"
   ]
  },
  {
   "cell_type": "markdown",
   "metadata": {},
   "source": [
    "### 实例047：函数交换变量\n",
    "题目 两个变量值用函数互换。\n",
    "\n",
    "程序分析 无"
   ]
  },
  {
   "cell_type": "code",
   "execution_count": null,
   "metadata": {},
   "outputs": [],
   "source": [
    "def exc(a,b):\n",
    "    return (b,a)\n",
    "a=0\n",
    "b=10\n",
    "a,b=exc(a,b)\n",
    "print(a,b)"
   ]
  },
  {
   "cell_type": "markdown",
   "metadata": {},
   "source": [
    "### 实例048：数字比大小\n",
    "题目 数字比较。\n",
    "\n",
    "程序分析 无"
   ]
  },
  {
   "cell_type": "code",
   "execution_count": null,
   "metadata": {},
   "outputs": [],
   "source": [
    "a=int(input('a='))\n",
    "b=int(input('b='))\n",
    "if a<b:\n",
    "    print('a<b')\n",
    "elif a>b:\n",
    "    print('a>b')\n",
    "else:\n",
    "    print('a=b')\n"
   ]
  },
  {
   "cell_type": "markdown",
   "metadata": {},
   "source": [
    "### 实例049：lambda---关注\n",
    "题目 使用lambda来创建匿名函数。\n",
    "\n",
    "程序分析 无"
   ]
  },
  {
   "cell_type": "code",
   "execution_count": null,
   "metadata": {},
   "outputs": [],
   "source": [
    "Max=lambda x,y:x*(x>=y)+y*(y>x)\n",
    "Min=lambda x,y:x*(x<=y)+y*(y<x)\n",
    "\n",
    "a=int(input('1:'))\n",
    "b=int(input('2:'))\n",
    "\n",
    "print(Max(a,b))\n",
    "print(Min(a,b))"
   ]
  },
  {
   "cell_type": "markdown",
   "metadata": {},
   "source": [
    "### 实例050：随机数\n",
    "题目 输出一个随机数。\n",
    "\n",
    "程序分析 使用 random 模块。"
   ]
  },
  {
   "cell_type": "code",
   "execution_count": 31,
   "metadata": {},
   "outputs": [
    {
     "name": "stdout",
     "output_type": "stream",
     "text": [
      "18.611964012755116\n"
     ]
    }
   ],
   "source": [
    "import random\n",
    "print(random.uniform(10,20))\n"
   ]
  },
  {
   "cell_type": "markdown",
   "metadata": {},
   "source": [
    "#### 实例051：按位与\n",
    "题目 学习使用按位与 & 。\n",
    "\n",
    "程序分析 0&0=0; 0&1=0; 1&0=0; 1&1=1。"
   ]
  },
  {
   "cell_type": "code",
   "execution_count": null,
   "metadata": {},
   "outputs": [],
   "source": []
  },
  {
   "cell_type": "code",
   "execution_count": null,
   "metadata": {},
   "outputs": [],
   "source": []
  },
  {
   "cell_type": "code",
   "execution_count": null,
   "metadata": {},
   "outputs": [],
   "source": []
  },
  {
   "cell_type": "code",
   "execution_count": null,
   "metadata": {},
   "outputs": [],
   "source": []
  },
  {
   "cell_type": "code",
   "execution_count": null,
   "metadata": {},
   "outputs": [],
   "source": []
  },
  {
   "cell_type": "code",
   "execution_count": null,
   "metadata": {},
   "outputs": [],
   "source": []
  }
 ],
 "metadata": {
  "kernelspec": {
   "display_name": "Python 3",
   "language": "python",
   "name": "python3"
  },
  "language_info": {
   "codemirror_mode": {
    "name": "ipython",
    "version": 3
   },
   "file_extension": ".py",
   "mimetype": "text/x-python",
   "name": "python",
   "nbconvert_exporter": "python",
   "pygments_lexer": "ipython3",
   "version": "3.8.1"
  },
  "toc": {
   "base_numbering": 1,
   "nav_menu": {},
   "number_sections": true,
   "sideBar": true,
   "skip_h1_title": false,
   "title_cell": "Table of Contents",
   "title_sidebar": "Contents",
   "toc_cell": false,
   "toc_position": {},
   "toc_section_display": true,
   "toc_window_display": false
  },
  "varInspector": {
   "cols": {
    "lenName": 16,
    "lenType": 16,
    "lenVar": 40
   },
   "kernels_config": {
    "python": {
     "delete_cmd_postfix": "",
     "delete_cmd_prefix": "del ",
     "library": "var_list.py",
     "varRefreshCmd": "print(var_dic_list())"
    },
    "r": {
     "delete_cmd_postfix": ") ",
     "delete_cmd_prefix": "rm(",
     "library": "var_list.r",
     "varRefreshCmd": "cat(var_dic_list()) "
    }
   },
   "types_to_exclude": [
    "module",
    "function",
    "builtin_function_or_method",
    "instance",
    "_Feature"
   ],
   "window_display": false
  }
 },
 "nbformat": 4,
 "nbformat_minor": 4
}
