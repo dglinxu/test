{
 "cells": [
  {
   "cell_type": "markdown",
   "metadata": {},
   "source": [
    "## 编码规范"
   ]
  },
  {
   "cell_type": "code",
   "execution_count": null,
   "metadata": {},
   "outputs": [],
   "source": [
    "一、import 一行一个模块，重要的在前；系统模块与用户模块隔一行；不要用import *,要指明具体模块；模块与下面正文空一行。\n",
    "二、全局变量用大写字母，与下面定义函数空两行;顶级定义之间空两行, 方法定义之间空一行。\n",
    "三、函数小写开头，无初值参数在前;当’=’用于指示关键字参数或默认参数值时, 不要在其两侧使用空格；函数参数名要具体化，不要用abc;函数第一行写函数文档。\n",
    "四、运算符前后有空格;不要在逗号, 分号, 冒号前面加空格, 但应该在它们后面加(除了在行尾)；注释‘#’至少与前面正文空两格，与后面空一格。\n",
    "五、判断表达式一行一个。\n",
    "六、程序的main文件应该以 #!/usr/bin/python2 或者 #!/usr/bin/python3开始.\n",
    "七、"
   ]
  }
 ],
 "metadata": {
  "kernelspec": {
   "display_name": "Python 3",
   "language": "python",
   "name": "python3"
  },
  "language_info": {
   "codemirror_mode": {
    "name": "ipython",
    "version": 3
   },
   "file_extension": ".py",
   "mimetype": "text/x-python",
   "name": "python",
   "nbconvert_exporter": "python",
   "pygments_lexer": "ipython3",
   "version": "3.8.0"
  },
  "toc": {
   "base_numbering": 1,
   "nav_menu": {},
   "number_sections": true,
   "sideBar": true,
   "skip_h1_title": false,
   "title_cell": "Table of Contents",
   "title_sidebar": "Contents",
   "toc_cell": false,
   "toc_position": {},
   "toc_section_display": true,
   "toc_window_display": false
  }
 },
 "nbformat": 4,
 "nbformat_minor": 4
}
