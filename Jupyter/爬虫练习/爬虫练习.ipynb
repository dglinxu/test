{
 "cells": [
  {
   "cell_type": "code",
   "execution_count": 1,
   "metadata": {},
   "outputs": [],
   "source": [
    "import requests\n"
   ]
  },
  {
   "cell_type": "code",
   "execution_count": 6,
   "metadata": {
    "collapsed": true
   },
   "outputs": [
    {
     "data": {
      "text/plain": [
       "'<!DOCTYPE html>\\r\\n<!--STATUS OK--><html> <head><meta http-equiv=content-type content=text/html;charset=utf-8><meta http-equiv=X-UA-Compatible content=IE=Edge><meta content=always name=referrer><link rel=stylesheet type=text/css href=http://s1.bdstatic.com/r/www/cache/bdorz/baidu.min.css><title>百度一下，你就知道</title></head> <body link=#0000cc> <div id=wrapper> <div id=head> <div class=head_wrapper> <div class=s_form> <div class=s_form_wrapper> <div id=lg> <img hidefocus=true src=//www.baidu.com/img/bd_logo1.png width=270 height=129> </div> <form id=form name=f action=//www.baidu.com/s class=fm> <input type=hidden name=bdorz_come value=1> <input type=hidden name=ie value=utf-8> <input type=hidden name=f value=8> <input type=hidden name=rsv_bp value=1> <input type=hidden name=rsv_idx value=1> <input type=hidden name=tn value=baidu><span class=\"bg s_ipt_wr\"><input id=kw name=wd class=s_ipt value maxlength=255 autocomplete=off autofocus></span><span class=\"bg s_btn_wr\"><input type=submit id=su value=百度一下 class=\"bg s_btn\"></span> </form> </div> </div> <div id=u1> <a href=http://news.baidu.com name=tj_trnews class=mnav>新闻</a> <a href=http://www.hao123.com name=tj_trhao123 class=mnav>hao123</a> <a href=http://map.baidu.com name=tj_trmap class=mnav>地图</a> <a href=http://v.baidu.com name=tj_trvideo class=mnav>视频</a> <a href=http://tieba.baidu.com name=tj_trtieba class=mnav>贴吧</a> <noscript> <a href=http://www.baidu.com/bdorz/login.gif?login&amp;tpl=mn&amp;u=http%3A%2F%2Fwww.baidu.com%2f%3fbdorz_come%3d1 name=tj_login class=lb>登录</a> </noscript> <script>document.write(\\'<a href=\"http://www.baidu.com/bdorz/login.gif?login&tpl=mn&u=\\'+ encodeURIComponent(window.location.href+ (window.location.search === \"\" ? \"?\" : \"&\")+ \"bdorz_come=1\")+ \\'\" name=\"tj_login\" class=\"lb\">登录</a>\\');</script> <a href=//www.baidu.com/more/ name=tj_briicon class=bri style=\"display: block;\">更多产品</a> </div> </div> </div> <div id=ftCon> <div id=ftConw> <p id=lh> <a href=http://home.baidu.com>关于百度</a> <a href=http://ir.baidu.com>About Baidu</a> </p> <p id=cp>&copy;2017&nbsp;Baidu&nbsp;<a href=http://www.baidu.com/duty/>使用百度前必读</a>&nbsp; <a href=http://jianyi.baidu.com/ class=cp-feedback>意见反馈</a>&nbsp;京ICP证030173号&nbsp; <img src=//www.baidu.com/img/gs.gif> </p> </div> </div> </div> </body> </html>\\r\\n'"
      ]
     },
     "metadata": {},
     "output_type": "display_data"
    },
    {
     "data": {
      "text/plain": [
       "b'<!DOCTYPE html>\\r\\n<!--STATUS OK--><html> <head><meta http-equiv=content-type content=text/html;charset=utf-8><meta http-equiv=X-UA-Compatible content=IE=Edge><meta content=always name=referrer><link rel=stylesheet type=text/css href=http://s1.bdstatic.com/r/www/cache/bdorz/baidu.min.css><title>\\xe7\\x99\\xbe\\xe5\\xba\\xa6\\xe4\\xb8\\x80\\xe4\\xb8\\x8b\\xef\\xbc\\x8c\\xe4\\xbd\\xa0\\xe5\\xb0\\xb1\\xe7\\x9f\\xa5\\xe9\\x81\\x93</title></head> <body link=#0000cc> <div id=wrapper> <div id=head> <div class=head_wrapper> <div class=s_form> <div class=s_form_wrapper> <div id=lg> <img hidefocus=true src=//www.baidu.com/img/bd_logo1.png width=270 height=129> </div> <form id=form name=f action=//www.baidu.com/s class=fm> <input type=hidden name=bdorz_come value=1> <input type=hidden name=ie value=utf-8> <input type=hidden name=f value=8> <input type=hidden name=rsv_bp value=1> <input type=hidden name=rsv_idx value=1> <input type=hidden name=tn value=baidu><span class=\"bg s_ipt_wr\"><input id=kw name=wd class=s_ipt value maxlength=255 autocomplete=off autofocus></span><span class=\"bg s_btn_wr\"><input type=submit id=su value=\\xe7\\x99\\xbe\\xe5\\xba\\xa6\\xe4\\xb8\\x80\\xe4\\xb8\\x8b class=\"bg s_btn\"></span> </form> </div> </div> <div id=u1> <a href=http://news.baidu.com name=tj_trnews class=mnav>\\xe6\\x96\\xb0\\xe9\\x97\\xbb</a> <a href=http://www.hao123.com name=tj_trhao123 class=mnav>hao123</a> <a href=http://map.baidu.com name=tj_trmap class=mnav>\\xe5\\x9c\\xb0\\xe5\\x9b\\xbe</a> <a href=http://v.baidu.com name=tj_trvideo class=mnav>\\xe8\\xa7\\x86\\xe9\\xa2\\x91</a> <a href=http://tieba.baidu.com name=tj_trtieba class=mnav>\\xe8\\xb4\\xb4\\xe5\\x90\\xa7</a> <noscript> <a href=http://www.baidu.com/bdorz/login.gif?login&amp;tpl=mn&amp;u=http%3A%2F%2Fwww.baidu.com%2f%3fbdorz_come%3d1 name=tj_login class=lb>\\xe7\\x99\\xbb\\xe5\\xbd\\x95</a> </noscript> <script>document.write(\\'<a href=\"http://www.baidu.com/bdorz/login.gif?login&tpl=mn&u=\\'+ encodeURIComponent(window.location.href+ (window.location.search === \"\" ? \"?\" : \"&\")+ \"bdorz_come=1\")+ \\'\" name=\"tj_login\" class=\"lb\">\\xe7\\x99\\xbb\\xe5\\xbd\\x95</a>\\');</script> <a href=//www.baidu.com/more/ name=tj_briicon class=bri style=\"display: block;\">\\xe6\\x9b\\xb4\\xe5\\xa4\\x9a\\xe4\\xba\\xa7\\xe5\\x93\\x81</a> </div> </div> </div> <div id=ftCon> <div id=ftConw> <p id=lh> <a href=http://home.baidu.com>\\xe5\\x85\\xb3\\xe4\\xba\\x8e\\xe7\\x99\\xbe\\xe5\\xba\\xa6</a> <a href=http://ir.baidu.com>About Baidu</a> </p> <p id=cp>&copy;2017&nbsp;Baidu&nbsp;<a href=http://www.baidu.com/duty/>\\xe4\\xbd\\xbf\\xe7\\x94\\xa8\\xe7\\x99\\xbe\\xe5\\xba\\xa6\\xe5\\x89\\x8d\\xe5\\xbf\\x85\\xe8\\xaf\\xbb</a>&nbsp; <a href=http://jianyi.baidu.com/ class=cp-feedback>\\xe6\\x84\\x8f\\xe8\\xa7\\x81\\xe5\\x8f\\x8d\\xe9\\xa6\\x88</a>&nbsp;\\xe4\\xba\\xacICP\\xe8\\xaf\\x81030173\\xe5\\x8f\\xb7&nbsp; <img src=//www.baidu.com/img/gs.gif> </p> </div> </div> </div> </body> </html>\\r\\n'"
      ]
     },
     "metadata": {},
     "output_type": "display_data"
    }
   ],
   "source": [
    "url=\"http://www.baidu.com\"\n",
    "reponse=requests.get(url=url)\n",
    "reponse.encoding='uft-8'\n",
    "reponse.text #显示文本数据，前面要enconding\n",
    "repolse.content #提取二进制数据，用于MP3.4数据的提取"
   ]
  },
  {
   "cell_type": "code",
   "execution_count": 10,
   "metadata": {
    "collapsed": true
   },
   "outputs": [
    {
     "data": {
      "text/plain": [
       "'{\\n  \"args\": {\\n    \"name\": \"dglinxu\", \\n    \"salary\": \"20000\"\\n  }, \\n  \"headers\": {\\n    \"Accept\": \"*/*\", \\n    \"Accept-Encoding\": \"gzip, deflate\", \\n    \"Host\": \"httpbin.org\", \\n    \"User-Agent\": \"python-requests/2.23.0\", \\n    \"X-Amzn-Trace-Id\": \"Root=1-5e6c35e4-e47ea4d254509b269416898a\"\\n  }, \\n  \"origin\": \"119.128.113.144\", \\n  \"url\": \"http://httpbin.org/get?name=dglinxu&salary=20000\"\\n}\\n'"
      ]
     },
     "execution_count": 10,
     "metadata": {},
     "output_type": "execute_result"
    }
   ],
   "source": [
    "url='http://httpbin.org/get'\n",
    "reponse=requests.get(url=url,params={'name':'dglinxu','salary':20000})\n",
    "reponse.text"
   ]
  },
  {
   "cell_type": "code",
   "execution_count": 24,
   "metadata": {},
   "outputs": [
    {
     "name": "stdout",
     "output_type": "stream",
     "text": [
      "200\n"
     ]
    }
   ],
   "source": [
    "# url='https://www.lmonkey.com/'\n",
    "# url='https://www.xicidaili.com/nn/'\n",
    "url='https://webmail30.189.cn/w2/logon/signOn.do?t=1584241597752#inbox/1/p1'\n",
    "# # data={'i': '你好','from':'AUTO','to': 'AUTO','smartresult': 'dict','client': 'fanyideskweb',\n",
    "#       'salt':'15842390217137','sign':'78d20d0b074b9800efbb1a75d6cf32c7','ts':1584239021713,\n",
    "#       'bv':'a9c3483a52d7863608142cc3f302a0ba','doctype':'json','version': 2.1,'keyfrom':'fanyi.web','action': 'FY_BY_REALTlME'}\n",
    "headers={'User-Agent': 'Mozilla/5.0 (Windows NT 10.0; Win64; x64) AppleWebKit/537.36 (KHTML, like Gecko) Chrome/80.0.3987.132 Safari/537.36',\n",
    "        'Cookie':'svid=935AD18C491084F8; s_fid=3E423216BA2A5201-2C91D5BFCCBE921C; lvid=b97f25ea2a73357bd15f3d721fdc552e; nvid=1; trkId=A855C43A-4409-41A4-9E64-549898A761A6; apm_ct=20191026213604470; apm_uid=B5500BD4E99E177C28CD2F4FDC456267; apm_ip=119.128.112.232; apm_ua=A04D23778112AC8D0F5AC17F82982377; cityCode=gd; bad_id92f4b1d0-eda7-11e6-9886-e964fbee51ea=e85a4ed1-1416-11ea-b542-b7c2ec97f789; d_cmpid=Null; d_source=other; d_channel=0; d_appid=null; d_openid=null; ijg=1584238931216; i_vnum=12; i_cc=true; loginStatus=non-logined; s_cc=true; i_ppv=100; i_url=http%3A%2F%2Fgd.189.cn%2Fdg%2Ffuke%2Findex1.html%3FSP%3DABzs%2FPzoPOz8vKg5iTkJ2ek6Ccl56RkZqTg86Dy8vOxs%2FPg8%2FIycbPzsbNzc7Mz7%2FOyczRmJuDzs7J0cvRxszRzsfHg86Dzs%2FKx8rGg87PzMbOy4POz82DmZ6RhpbRhpCKm56Q0ZyQkoPOysfLzczHxs7Gg86Dz4PNg8jMyM%2FLzs7HxoPOysfLzczHxs7Gz8%2FKx8bIzIOo37Grzs%2FRz9HSg82DzoPPg87NzP%3D%3D%26serial%3D15842389190058973; qimo_seokeywords_92f4b1d0-eda7-11e6-9886-e964fbee51ea=; qimo_seosource_92f4b1d0-eda7-11e6-9886-e964fbee51ea=%E7%AB%99%E5%86%85; href=https%3A%2F%2Fwebmail30.189.cn%2Fw2%2F; accessId=92f4b1d0-eda7-11e6-9886-e964fbee51ea; JSESSIONID=aaa0L-YfT5cVAei2b3-cx; LOGINMODE=2; 189WEB_SESSION_ID=68be1ebbdc71f7127f4a33e5821a3073; 189ACCOUNT=bxTdwXCytmfz3tctZMPE4R1h+641qjEvs6AlxBiguW0=; advertId=cd50ebb6323860738a51afba03a91c60c7a554f54374b673; globalValues=%7B%22isCT%22%3A%220%22%2C%22userName%22%3A%2213377694155%22%2C%22domainId%22%3A100%2C%22domainName%22%3A%22189.cn%22%2C%22mainAliasName%22%3A%22humen%40189.cn%22%2C%22aliasNameList%22%3A%5B%22humen%40189.cn%22%5D%2C%22colorId%22%3A11%2C%22puserId%22%3A%2220005783952%22%2C%22columnNum%22%3A3%2C%22sendMailAccount%22%3A%22humen%40189.cn%22%2C%22sendMailName%22%3A%22%22%2C%22bindAccount%22%3A%5B%5D%2C%22popLabelList%22%3A%5B%5D%2C%22homepage%22%3A0%2C%22addrLimit%22%3A50%2C%22sid%22%3A%2268be1ebbdc71f7127f4a33e5821a3073%22%2C%22lastOpTime%22%3A%22Mar+13%2C+2020+4%3A50%3A06+PM%22%2C%22uuserId%22%3A%221000114810%22%2C%22ouId%22%3A142%2C%22templateId%22%3A47%2C%22provinceId%22%3A%2220%22%2C%22fullMailSearchFlag%22%3A0%2C%22isRelatedDzzd%22%3Afalse%2C%22sessionToken%22%3A%22sdppichf%22%2C%22level%22%3A3%2C%22udDiminish%22%3A0%2C%22newUserGuide%22%3A%5B%7B%22id%22%3A%221%22%2C%22name%22%3A%22help%22%2C%22showDate%22%3A%221573142400000%22%7D%2C%7B%22id%22%3A%222%22%2C%22name%22%3A%22delete%22%2C%22showDate%22%3A%221554979996000%22%7D%5D%2C%22smartLabelFlag%22%3A0%2C%22pop3%22%3A%221%22%2C%22encodeUserName%22%3A%22bxTdwXCytmfz3tctZMPE4R1h%2B641qjEvs6AlxBiguW0%5Cu003d%22%2C%22code%22%3A0%7D; 189SERVERLEVEL=3; pageViewNum=2; nice_id92f4b1d0-eda7-11e6-9886-e964fbee51ea=0aa78a21-666a-11ea-8962-cf63da69c47c'}\n",
    "response=requests.post(url=url,headers=headers)\n",
    "r_code=response.status_code\n",
    "print(r_code)\n",
    "\n",
    "if r_code==200:\n",
    "    with open('爬虫.text','w',encoding='utf-8') as fp:\n",
    "        fp.write(response.text)\n",
    "        "
   ]
  },
  {
   "cell_type": "code",
   "execution_count": null,
   "metadata": {},
   "outputs": [],
   "source": []
  }
 ],
 "metadata": {
  "kernelspec": {
   "display_name": "Python 3",
   "language": "python",
   "name": "python3"
  },
  "language_info": {
   "codemirror_mode": {
    "name": "ipython",
    "version": 3
   },
   "file_extension": ".py",
   "mimetype": "text/x-python",
   "name": "python",
   "nbconvert_exporter": "python",
   "pygments_lexer": "ipython3",
   "version": "3.8.0"
  },
  "toc": {
   "base_numbering": 1,
   "nav_menu": {},
   "number_sections": true,
   "sideBar": true,
   "skip_h1_title": false,
   "title_cell": "Table of Contents",
   "title_sidebar": "Contents",
   "toc_cell": false,
   "toc_position": {},
   "toc_section_display": true,
   "toc_window_display": false
  }
 },
 "nbformat": 4,
 "nbformat_minor": 4
}
