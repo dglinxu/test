{
 "cells": [
  {
   "cell_type": "code",
   "execution_count": 4,
   "metadata": {},
   "outputs": [],
   "source": [
    "import numpy as np\n",
    "import pandas as pd\n",
    "import matplotlib.pyplot as plt\n",
    "from pandas import Series, DataFrame"
   ]
  },
  {
   "cell_type": "markdown",
   "metadata": {},
   "source": [
    "重新索引,index赋值直接修改原index的值,reindex是原来的index排序，产生新的视图，**原值不变**"
   ]
  },
  {
   "cell_type": "code",
   "execution_count": null,
   "metadata": {
    "scrolled": true
   },
   "outputs": [],
   "source": [
    "obj = pd.Series([4.5, 7.2, -5.3, 3.6], index=['d', 'b','a', 'c'])\n",
    "# obj.index=list('abcd')\n",
    "obj2=obj.reindex(sorted(obj.index))\n",
    "obj2"
   ]
  },
  {
   "cell_type": "markdown",
   "metadata": {},
   "source": [
    "重新索引，往后填充"
   ]
  },
  {
   "cell_type": "code",
   "execution_count": null,
   "metadata": {},
   "outputs": [],
   "source": [
    "obj.index=[2,4,6,8]\n",
    "obj.reindex(range(9),method='bfill')"
   ]
  },
  {
   "cell_type": "markdown",
   "metadata": {},
   "source": [
    "删除横、列,显示视图，原值不变"
   ]
  },
  {
   "cell_type": "code",
   "execution_count": null,
   "metadata": {},
   "outputs": [],
   "source": [
    "data = pd.DataFrame(np.arange(16).reshape((4, 4)),index=['Ohio', 'Colorado', 'Utah','New York'],columns=['one', 'two', 'three', 'four'])\n",
    "data.drop('Ohio',axis='index')\n",
    "data.drop('Ohio')\n",
    "data.drop('one',axis=1)\n",
    "data.drop('two',axis='columns')"
   ]
  },
  {
   "cell_type": "code",
   "execution_count": null,
   "metadata": {},
   "outputs": [],
   "source": [
    "data.drop('one',axis=1,inplace=True) #原地修改data,原值改变小心使用\n",
    "data"
   ]
  },
  {
   "cell_type": "code",
   "execution_count": null,
   "metadata": {},
   "outputs": [],
   "source": [
    "obj = pd.Series(np.arange(4.), index=['a', 'b', 'c', 'd'])\n",
    "obj[[1,3]]  #选取第1,3行\n",
    "obj[1:3] #取1-2行"
   ]
  },
  {
   "cell_type": "code",
   "execution_count": null,
   "metadata": {},
   "outputs": [],
   "source": [
    "data = pd.DataFrame(np.arange(16).reshape((4, 4)),index=['Ohio', 'Colorado', 'Utah','New York'],columns=['one', 'two', 'three', 'four'])\n",
    "data[1:3] #取1-2行\n",
    "data[['one','two']] #取两列\n",
    "data[data['three'] <5]=0 #数据清洗\n",
    "data"
   ]
  },
  {
   "cell_type": "code",
   "execution_count": null,
   "metadata": {},
   "outputs": [],
   "source": [
    "# 以下两式等价，iloc是用数字，loc用原名称\n",
    "data.loc['Colorado', ['two', 'three']]\n",
    "data.iloc[1,[1, 2]]"
   ]
  },
  {
   "cell_type": "code",
   "execution_count": null,
   "metadata": {},
   "outputs": [],
   "source": [
    "frame = pd.DataFrame(np.random.randn(4, 3), columns=list('bde'),index=['Utah', 'Ohio', 'Texas', 'Oregon'])\n",
    "np.abs(frame)\n",
    "f = lambda x: x.max() - x.min()\n",
    "frame.apply(f,axis=1)\n"
   ]
  },
  {
   "cell_type": "code",
   "execution_count": null,
   "metadata": {},
   "outputs": [],
   "source": [
    "# 构造函数，可以批量处理表格内数据，格式转换，判断等\n",
    "f=lambda x:pd.Series([x.min(), x.max()], index=['min','max'])\n",
    "frame.apply(f)\n",
    "format=lambda x:'%.2f'%x\n",
    "fs=lambda x:str(x)         \n",
    "fabs=lambda x:abs(x)\n",
    "frame.applymap(fs)\n",
    "frame.applymap(fabs)\n",
    "frame['e'].map(fs)+frame['e'].map(fs) #字符串相加"
   ]
  },
  {
   "cell_type": "code",
   "execution_count": null,
   "metadata": {},
   "outputs": [],
   "source": [
    "#根据索引，值进行排序\n",
    "frame.sort_index(axis=0,ascending=False)\n",
    "frame.sort_values(by='b',ascending=False)\n",
    "frame.sort_values(by=['b','d'],ascending=False)"
   ]
  },
  {
   "cell_type": "code",
   "execution_count": null,
   "metadata": {},
   "outputs": [],
   "source": [
    "frame['b'].rank(ascending=False)\n",
    "frame['b'].rank(method='first') #根据值在原数据中出现的顺序给出排名\n",
    "frame.rank(axis=0)"
   ]
  },
  {
   "cell_type": "code",
   "execution_count": null,
   "metadata": {},
   "outputs": [],
   "source": [
    "#常用函数\n",
    "frame.sum(axis=1,skipna=False)\n",
    "frame.cumsum()\n",
    "frame.describe()\n",
    "frame.var()\n",
    "frame.diff()\n",
    "frame.info()"
   ]
  },
  {
   "cell_type": "code",
   "execution_count": null,
   "metadata": {
    "scrolled": false
   },
   "outputs": [],
   "source": [
    "# 生成模拟数据并填入NaN,np.NaN用None也行，赋值的方法是构造index和column\n",
    "df=DataFrame(np.random.randint(1,150,size=(150,3)),columns=['Python','Math','En'])\n",
    "for i in range(15):\n",
    "    index=(np.random.randint(0,150,size=1))[0]\n",
    "    columns=(np.random.randint(0,3,size=1))[0]\n",
    "    df.iloc[index,columns]=np.NaN  #也可用None\n",
    "# df.info()\n",
    "\n",
    "# cond=df.isnull().any(axis=1)\n",
    "# df[cond]                           #取出有空数据的行\n",
    "\n",
    "# cond=df.notnull().all(axis=1)\n",
    "# df[cond]                           #取无NaN的数据\n",
    "\n",
    "# df.dropna()                        #删除有空数据的行\n",
    "\n",
    "# cond=df.isnull().any(axis=1)\n",
    "# index=df[cond].index\n",
    "# df.drop(labels=index)               #先找空值行，再找行的index,删除index的行\n",
    "\n",
    "# df.drop(labels=['En'],axis=1)      #删除一列，默认是行，所以要加axis\n",
    "\n",
    "# cond=(df<60).any(axis=1)\n",
    "# index=df[cond].index\n",
    "# df.drop(labels=index)               #删除小于60分的用户\n",
    "\n",
    "# cond=(df.mean(axis=1)<90)\n",
    "# index=df[cond].index\n",
    "# df.drop(index)                       #取平均分大于90的人\n",
    "\n",
    "# df.fillna(value=df.mean())            #Nan填各科的平均分\n",
    "# df.fillna(value=df.mean(axis=1))      #个人的平均分\n",
    "df.fillna(value=df.median())            #填各科的中位数"
   ]
  },
  {
   "cell_type": "code",
   "execution_count": null,
   "metadata": {},
   "outputs": [],
   "source": [
    "# 生成复合索引的数据，行列都可以多层索引\n",
    "df=DataFrame(np.random.randint(1,150,size=(20,3)),columns=['Python','Math','En'],\n",
    "             index=pd.MultiIndex.from_product([list('ABCDE'),['期中','期末'],['模一','模二']]))\n",
    "df1=DataFrame(np.random.randint(0,150,size=(5,6)),\n",
    "            columns=pd.MultiIndex.from_product([['Python','Math','En'],['期中','期末']]),\n",
    "                                                                   index=list('ABCDE'))\n",
    "# df1.stack()\n",
    "df.unstack(level=0)"
   ]
  },
  {
   "cell_type": "code",
   "execution_count": null,
   "metadata": {},
   "outputs": [],
   "source": [
    "'''map影响的是一列，apply和applymap影响的是整个表格'''\n",
    "df=DataFrame({'items':np.random.randint(0,10,size=100),\n",
    "             'seller':np.random.randint(0,10,size=100),\n",
    "             'weight':np.random.randint(30,300,size=100),\n",
    "             'price':np.random.randint(1,20,size=100)})\n",
    "def convert(x):\n",
    "    if x<2:\n",
    "        return '萝卜'\n",
    "    elif x<7:\n",
    "        return '白菜'\n",
    "    else:\n",
    "        return '青椒'\n",
    "\n",
    "def convert_seller(x):\n",
    "    if x<5:\n",
    "        return '张大妈'\n",
    "    elif x<7:\n",
    "        return '李大爷'\n",
    "    else:\n",
    "        return '王大妈'\n",
    "\n",
    "def convert_weight(x):\n",
    "    if x<80:\n",
    "        return 50\n",
    "    elif x<150:\n",
    "        return 100\n",
    "    else:\n",
    "        return 150\n",
    "   \n",
    "df['items']=df['items'].map(convert)   \n",
    "df['seller']=df['seller'].map(conver_seller)    \n",
    "df['weight']=df['weight'].transform(convert_weight)\n",
    "df.groupby('seller')['weight'].sum()                                     #分组求和\n",
    "df.groupby(['seller','items']).agg([np.sum,np.mean,np.average,np.size])\n",
    "df.groupby(['seller','items']).agg({'weight':np.sum,'price':np.mean}).round(2) #分别对不同列指定不同的计算方法"
   ]
  },
  {
   "cell_type": "markdown",
   "metadata": {},
   "source": [
    "***显示方式display(df1,df2)\n",
    "数据的级联,组成列表形式"
   ]
  },
  {
   "cell_type": "code",
   "execution_count": 17,
   "metadata": {},
   "outputs": [
    {
     "data": {
      "text/html": [
       "<div>\n",
       "<style scoped>\n",
       "    .dataframe tbody tr th:only-of-type {\n",
       "        vertical-align: middle;\n",
       "    }\n",
       "\n",
       "    .dataframe tbody tr th {\n",
       "        vertical-align: top;\n",
       "    }\n",
       "\n",
       "    .dataframe thead th {\n",
       "        text-align: right;\n",
       "    }\n",
       "</style>\n",
       "<table border=\"1\" class=\"dataframe\">\n",
       "  <thead>\n",
       "    <tr style=\"text-align: right;\">\n",
       "      <th></th>\n",
       "      <th>Python</th>\n",
       "      <th>Math</th>\n",
       "      <th>En</th>\n",
       "      <th>总分</th>\n",
       "    </tr>\n",
       "  </thead>\n",
       "  <tbody>\n",
       "    <tr>\n",
       "      <th>A</th>\n",
       "      <td>91</td>\n",
       "      <td>38</td>\n",
       "      <td>98</td>\n",
       "      <td>227</td>\n",
       "    </tr>\n",
       "    <tr>\n",
       "      <th>B</th>\n",
       "      <td>140</td>\n",
       "      <td>77</td>\n",
       "      <td>83</td>\n",
       "      <td>300</td>\n",
       "    </tr>\n",
       "    <tr>\n",
       "      <th>C</th>\n",
       "      <td>20</td>\n",
       "      <td>41</td>\n",
       "      <td>73</td>\n",
       "      <td>134</td>\n",
       "    </tr>\n",
       "    <tr>\n",
       "      <th>D</th>\n",
       "      <td>105</td>\n",
       "      <td>23</td>\n",
       "      <td>31</td>\n",
       "      <td>159</td>\n",
       "    </tr>\n",
       "    <tr>\n",
       "      <th>E</th>\n",
       "      <td>116</td>\n",
       "      <td>70</td>\n",
       "      <td>67</td>\n",
       "      <td>253</td>\n",
       "    </tr>\n",
       "  </tbody>\n",
       "</table>\n",
       "</div>"
      ],
      "text/plain": [
       "   Python  Math  En   总分\n",
       "A      91    38  98  227\n",
       "B     140    77  83  300\n",
       "C      20    41  73  134\n",
       "D     105    23  31  159\n",
       "E     116    70  67  253"
      ]
     },
     "execution_count": 17,
     "metadata": {},
     "output_type": "execute_result"
    }
   ],
   "source": [
    "df1=DataFrame(np.random.randint(1,150,size=(5,3)),columns=['Python','Math','En'],index=list('ABCDE'))\n",
    "df2=DataFrame(np.random.randint(1,150,size=(5,3)),columns=['Python','Math','En'],index=list('ABCDE'))\n",
    "d1=pd.concat([df1,df2],keys=['期中','期末'])\n",
    "d1.unstack(level=0).stack()\n",
    "df1['总分']=df1.sum(axis=1)\n",
    "df1"
   ]
  },
  {
   "cell_type": "code",
   "execution_count": null,
   "metadata": {},
   "outputs": [],
   "source": [
    "print('''hello \n",
    "world''')\n"
   ]
  },
  {
   "cell_type": "code",
   "execution_count": null,
   "metadata": {},
   "outputs": [],
   "source": [
    "import tushare\n",
    "td=tushare.get_day_all()"
   ]
  },
  {
   "cell_type": "code",
   "execution_count": null,
   "metadata": {},
   "outputs": [],
   "source": [
    "td.columns"
   ]
  },
  {
   "cell_type": "code",
   "execution_count": null,
   "metadata": {},
   "outputs": [],
   "source": [
    "td.index=td.iloc[:,0]"
   ]
  },
  {
   "cell_type": "code",
   "execution_count": null,
   "metadata": {},
   "outputs": [],
   "source": [
    "td.loc['600698']"
   ]
  },
  {
   "cell_type": "code",
   "execution_count": null,
   "metadata": {},
   "outputs": [],
   "source": [
    "data=np.random.randn(2,3)"
   ]
  },
  {
   "cell_type": "code",
   "execution_count": null,
   "metadata": {
    "scrolled": true
   },
   "outputs": [],
   "source": [
    "a=np.arange(1,13).reshape(2,2,3)\n",
    "a"
   ]
  },
  {
   "cell_type": "code",
   "execution_count": null,
   "metadata": {},
   "outputs": [],
   "source": [
    "b=a[0]\n",
    "b"
   ]
  },
  {
   "cell_type": "code",
   "execution_count": null,
   "metadata": {},
   "outputs": [],
   "source": [
    "a[0]=10"
   ]
  },
  {
   "cell_type": "code",
   "execution_count": null,
   "metadata": {},
   "outputs": [],
   "source": [
    "a"
   ]
  },
  {
   "cell_type": "code",
   "execution_count": null,
   "metadata": {},
   "outputs": [],
   "source": []
  },
  {
   "cell_type": "code",
   "execution_count": null,
   "metadata": {},
   "outputs": [],
   "source": [
    "arr = np.array([[1., 2., 3.], [4., 5., 6.]])\n",
    "arr2 = np.array([[0., 4., 1.], [7., 2., 12.]])"
   ]
  },
  {
   "cell_type": "code",
   "execution_count": null,
   "metadata": {},
   "outputs": [],
   "source": [
    "arr[(arr>arr2)]"
   ]
  },
  {
   "cell_type": "code",
   "execution_count": null,
   "metadata": {},
   "outputs": [],
   "source": [
    "a=np.arange(32).reshape(8,-1)"
   ]
  },
  {
   "cell_type": "code",
   "execution_count": null,
   "metadata": {},
   "outputs": [],
   "source": [
    "a[[1,5,0]]"
   ]
  },
  {
   "cell_type": "code",
   "execution_count": null,
   "metadata": {},
   "outputs": [],
   "source": [
    "a[(a>8)|(a<15)]=100"
   ]
  },
  {
   "cell_type": "code",
   "execution_count": null,
   "metadata": {},
   "outputs": [],
   "source": [
    "np.square(a,a)"
   ]
  },
  {
   "cell_type": "code",
   "execution_count": null,
   "metadata": {},
   "outputs": [],
   "source": [
    "e=10**(-2)\n",
    "x=y=9\n",
    "while (y**2-x)>e:\n",
    "    y=(y+x/y)/2\n",
    "print(y)"
   ]
  },
  {
   "cell_type": "code",
   "execution_count": null,
   "metadata": {},
   "outputs": [],
   "source": [
    "def sqrt(x):\n",
    "    y =x\n",
    "    n=1\n",
    "    while abs(y * y - x) > 1e-6 :\n",
    "        y= (y+x/y)/2\n",
    "        n+=1\n",
    "    return y,n\n",
    "print(sqrt(5000))"
   ]
  },
  {
   "cell_type": "code",
   "execution_count": null,
   "metadata": {},
   "outputs": [],
   "source": [
    "print(float(1e-6))"
   ]
  },
  {
   "cell_type": "code",
   "execution_count": null,
   "metadata": {},
   "outputs": [],
   "source": [
    "import random\n",
    "position = 0\n",
    "walk = [position]\n",
    "steps = 1000\n",
    "for i in range(steps):\n",
    "    step = 1 if random.randint(0, 1) else -1\n",
    "    position += step\n",
    "    walk.append(position)\n"
   ]
  },
  {
   "cell_type": "code",
   "execution_count": null,
   "metadata": {},
   "outputs": [],
   "source": [
    "plt.plot(walk[:100])"
   ]
  },
  {
   "cell_type": "code",
   "execution_count": null,
   "metadata": {},
   "outputs": [],
   "source": [
    "obj=pd.Series([1,2,5],index=list('abc'))\n",
    "obj2 = pd.Series([4, 7, -5, 3], index=['d', 'b', 'a', 'c'])"
   ]
  },
  {
   "cell_type": "code",
   "execution_count": null,
   "metadata": {},
   "outputs": [],
   "source": [
    "sdata = {'Ohio': 35000, 'Texas': 71000, 'Oregon': 16000,'Utah': 5000}\n",
    "obj4=pd.Series(sdata)\n",
    "states = ['California', 'Ohio', 'Oregon', 'Texas']\n",
    "obj4=pd.Series(sdata,index=states)\n"
   ]
  },
  {
   "cell_type": "code",
   "execution_count": null,
   "metadata": {},
   "outputs": [],
   "source": [
    "obj4[obj4.isnull()]=0"
   ]
  },
  {
   "cell_type": "code",
   "execution_count": null,
   "metadata": {},
   "outputs": [],
   "source": [
    "data = {'state': ['Ohio', 'Ohio', 'Ohio', 'Nevada', 'Nevada', 'Nevada'],'year': [2000, 2001, 2002, 2001, 2002, 2003],'pop': [1.5, 1.7, 3.6, 2.4, 2.9, 3.2]}\n",
    "frame = pd.DataFrame(data)"
   ]
  },
  {
   "cell_type": "code",
   "execution_count": null,
   "metadata": {},
   "outputs": [],
   "source": [
    "frame.index=[list('abcdef')]"
   ]
  },
  {
   "cell_type": "code",
   "execution_count": null,
   "metadata": {},
   "outputs": [],
   "source": [
    "list(frame.values)[1][2]=10\n"
   ]
  },
  {
   "cell_type": "code",
   "execution_count": null,
   "metadata": {},
   "outputs": [],
   "source": [
    "frame['add']=0"
   ]
  },
  {
   "cell_type": "code",
   "execution_count": null,
   "metadata": {},
   "outputs": [],
   "source": [
    "frame"
   ]
  },
  {
   "cell_type": "code",
   "execution_count": null,
   "metadata": {},
   "outputs": [],
   "source": [
    "dz=pd.read_excel('待装.xlsx')\n",
    "dz.to_excel('dz.xlsx',sheet_name='b',index=False)"
   ]
  },
  {
   "cell_type": "code",
   "execution_count": null,
   "metadata": {},
   "outputs": [],
   "source": [
    "pop = {'Nevada': {2001: 2.4, 2002: 2.9},'Ohio': {2000: 1.5, 2001: 1.7, 2002: 3.6}}\n",
    "frame3=pd.DataFrame(pop,index=['Nevada','Ohio'])"
   ]
  },
  {
   "cell_type": "code",
   "execution_count": null,
   "metadata": {},
   "outputs": [],
   "source": [
    "frame3"
   ]
  },
  {
   "cell_type": "code",
   "execution_count": null,
   "metadata": {},
   "outputs": [],
   "source": [
    "dz.to_excel('dz.xlsx',sheet_name='b',index=False)"
   ]
  },
  {
   "cell_type": "code",
   "execution_count": null,
   "metadata": {},
   "outputs": [],
   "source": [
    "def f(s):\n",
    "    d={'(':')','[':']','{':'}'}\n",
    "    t=[]\n",
    "    for c in s:\n",
    "        if c in '([{':\n",
    "            t.append(c)\n",
    "        if not t and (c in ')]}'):\n",
    "            return False\n",
    "        if (c in ')]}') and (d[t[-1]]==c):\n",
    "            t.pop()\n",
    "    if t:\n",
    "        return False\n",
    "    else:\n",
    "        return True\n",
    "\n",
    "s=input()\n",
    "print(f(s))\n",
    "    \n",
    "\n",
    "    \n",
    "        "
   ]
  },
  {
   "cell_type": "code",
   "execution_count": null,
   "metadata": {},
   "outputs": [],
   "source": [
    "s=input()\n",
    "res=[]\n",
    "for c in s:\n",
    "    if not res:\n",
    "        res.append(c)\n",
    "    elif c==res[-1]:\n",
    "        res.pop()\n",
    "    else:\n",
    "        res.append(c)\n",
    "if res:\n",
    "    print(''.join(res))\n",
    "else:\n",
    "    print('None')"
   ]
  },
  {
   "cell_type": "code",
   "execution_count": null,
   "metadata": {},
   "outputs": [],
   "source": [
    "n=int(input())\n",
    "print(' '*(n-1)+'#')\n",
    "for i in range(n-2):\n",
    "    print(' '*(n-i-2)+'#'+' '*(i*2+1)+'#')\n",
    "print('#'*(2*n-1))"
   ]
  },
  {
   "cell_type": "code",
   "execution_count": null,
   "metadata": {},
   "outputs": [],
   "source": [
    "def f(n):\n",
    "    print('*'.center(n))\n",
    "    for i in range(n-2):\n",
    "        print(('*'+' '*int(((i+1)*n/(n-1))+0.5)+'*').center(n))\n",
    "    print('*'*n)\n",
    "f(15)\n",
    "    "
   ]
  },
  {
   "cell_type": "code",
   "execution_count": null,
   "metadata": {},
   "outputs": [],
   "source": [
    "import akshare as ak\n",
    "franchise_china_df = ak.franchise_china()\n",
    "print(franchise_china_df.head())"
   ]
  },
  {
   "cell_type": "code",
   "execution_count": null,
   "metadata": {},
   "outputs": [],
   "source": [
    "df"
   ]
  },
  {
   "cell_type": "code",
   "execution_count": null,
   "metadata": {},
   "outputs": [],
   "source": [
    "class Human:\n",
    "\n",
    "    def __init__(self, name):\n",
    "        print('init method for {}'.format(name))\n",
    "\n",
    "    def __new__(cls, name):\n",
    "        print(name)\n",
    "        if name == 'chengjie':\n",
    "            r = super(Human, cls).__new__(cls)\n",
    "            return r\n",
    "        else:\n",
    "            pass\n",
    "\n",
    "\n",
    "    # 方法\n",
    "    def eat(self):\n",
    "        print('eat method')\n",
    "\n",
    "    def run(self):\n",
    "        print('run method')\n",
    "\n",
    "\n",
    "human = Human('chengjie')  # 执行这一步实例化对象human之后, 会先触发__new__打印出chengjie,返回实例化对象,再触发 __init__,打印出init method for chengjie"
   ]
  },
  {
   "cell_type": "code",
   "execution_count": null,
   "metadata": {},
   "outputs": [],
   "source": []
  }
 ],
 "metadata": {
  "kernelspec": {
   "display_name": "Python 3",
   "language": "python",
   "name": "python3"
  },
  "language_info": {
   "codemirror_mode": {
    "name": "ipython",
    "version": 3
   },
   "file_extension": ".py",
   "mimetype": "text/x-python",
   "name": "python",
   "nbconvert_exporter": "python",
   "pygments_lexer": "ipython3",
   "version": "3.8.0"
  },
  "toc": {
   "base_numbering": 1,
   "nav_menu": {},
   "number_sections": true,
   "sideBar": true,
   "skip_h1_title": false,
   "title_cell": "Table of Contents",
   "title_sidebar": "Contents",
   "toc_cell": false,
   "toc_position": {},
   "toc_section_display": true,
   "toc_window_display": false
  },
  "varInspector": {
   "cols": {
    "lenName": 16,
    "lenType": 16,
    "lenVar": 40
   },
   "kernels_config": {
    "python": {
     "delete_cmd_postfix": "",
     "delete_cmd_prefix": "del ",
     "library": "var_list.py",
     "varRefreshCmd": "print(var_dic_list())"
    },
    "r": {
     "delete_cmd_postfix": ") ",
     "delete_cmd_prefix": "rm(",
     "library": "var_list.r",
     "varRefreshCmd": "cat(var_dic_list()) "
    }
   },
   "types_to_exclude": [
    "module",
    "function",
    "builtin_function_or_method",
    "instance",
    "_Feature"
   ],
   "window_display": false
  }
 },
 "nbformat": 4,
 "nbformat_minor": 4
}
