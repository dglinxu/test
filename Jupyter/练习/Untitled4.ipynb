{
 "cells": [
  {
   "cell_type": "code",
   "execution_count": null,
   "metadata": {},
   "outputs": [],
   "source": [
    "import math"
   ]
  },
  {
   "cell_type": "code",
   "execution_count": null,
   "metadata": {},
   "outputs": [],
   "source": [
    "n=int(input())\n",
    "a=sin(15*math.pi/180)\n",
    "b=math.exp(n)-5*n\n",
    "c=math.sqrt(n**2+1)\n",
    "d=math.log(3*n)\n",
    "ans=a+(b/c)-d\n",
    "print(round(ans,10))"
   ]
  },
  {
   "cell_type": "code",
   "execution_count": null,
   "metadata": {},
   "outputs": [],
   "source": [
    "n=1\n",
    "while True:\n",
    "    i=n+150\n",
    "    j=i+136\n",
    "    if (int(i**0.5)**2)==i and (int(j**0.5)**2)==j:\n",
    "        print(n)\n",
    "        break\n",
    "    n+=1"
   ]
  },
  {
   "cell_type": "code",
   "execution_count": null,
   "metadata": {},
   "outputs": [],
   "source": [
    "n=int(input())\n",
    "m=n*2-1\n",
    "for i in range(m):\n",
    "    if i<n-1:\n",
    "        print('+'*i+'X'+'+'*(m-2*i-2)+'X'+'+'*i)\n",
    "    elif i==n-1:\n",
    "        print('+'*i+'X'+'+'*i)\n",
    "    else:\n",
    "        print('+'*(m-i-1)+'X'+'+'*(2*i-2*n+1)+'X'+'+'*(m-i-1))            \n",
    "\n"
   ]
  },
  {
   "cell_type": "code",
   "execution_count": null,
   "metadata": {},
   "outputs": [],
   "source": [
    "5**0.5\n"
   ]
  },
  {
   "cell_type": "code",
   "execution_count": null,
   "metadata": {},
   "outputs": [],
   "source": [
    "class A:\n",
    "    z=555\n",
    "    def __init__(self):\n",
    "        self.x=123\n",
    "        self.y=456\n",
    "    def foo(self):\n",
    "        return self.x*self.y\n",
    "a=A()\n",
    "    "
   ]
  },
  {
   "cell_type": "code",
   "execution_count": null,
   "metadata": {},
   "outputs": [],
   "source": [
    "a.qq=789"
   ]
  },
  {
   "cell_type": "code",
   "execution_count": null,
   "metadata": {},
   "outputs": [],
   "source": [
    "a.x=123"
   ]
  },
  {
   "cell_type": "code",
   "execution_count": null,
   "metadata": {},
   "outputs": [],
   "source": [
    "0**1"
   ]
  },
  {
   "cell_type": "code",
   "execution_count": null,
   "metadata": {},
   "outputs": [],
   "source": [
    "a.__dict__\n"
   ]
  },
  {
   "cell_type": "code",
   "execution_count": null,
   "metadata": {},
   "outputs": [],
   "source": [
    "A.__dict__"
   ]
  },
  {
   "cell_type": "code",
   "execution_count": null,
   "metadata": {},
   "outputs": [],
   "source": [
    "%timeit\n",
    "import time\n",
    "n=300\n",
    "s=0\n",
    "start=time.time()\n",
    "for i in range(1,300+1):\n",
    "    m=1\n",
    "    for j in range(1,i+1):\n",
    "        m=m*j\n",
    "    s+=m\n",
    "stop=time.time()\n",
    "print(stop-start,'秒')\n",
    "        \n",
    "        "
   ]
  },
  {
   "cell_type": "code",
   "execution_count": null,
   "metadata": {},
   "outputs": [],
   "source": [
    "in_list=list(map(int,input().split()))\n",
    "n=int(input())\n",
    "for i,v in enumerate(in_list):\n",
    "    m=n-v\n",
    "    if m in in_list[i+1:]:\n",
    "        print([i,in_list.index(m)])\n",
    "\n",
    "    "
   ]
  },
  {
   "cell_type": "code",
   "execution_count": null,
   "metadata": {},
   "outputs": [],
   "source": [
    "x=int(input())\n",
    "y=int(input())\n",
    "n=int(input())\n",
    "ans=[]\n",
    "for i in range(n+1):\n",
    "    t1=x**i\n",
    "    for j in range(n+1):\n",
    "        s=t1+y**j\n",
    "        if s<=n and (s not in ans):\n",
    "            ans.append(s)\n",
    "        else:\n",
    "            break\n",
    "print(sorted(ans))"
   ]
  },
  {
   "cell_type": "code",
   "execution_count": null,
   "metadata": {},
   "outputs": [],
   "source": [
    "x,y,z=list(map(int,input().split()))\n",
    "if (x+y>z) and (x+z>y) and (y+z)>x:\n",
    "    print(x+y+z)\n",
    "else:\n",
    "    print(0)"
   ]
  },
  {
   "cell_type": "code",
   "execution_count": 49,
   "metadata": {},
   "outputs": [],
   "source": [
    "import datetime\n",
    "import calendar\n",
    "import time \n",
    "from fractions import Fraction\n",
    "import random"
   ]
  },
  {
   "cell_type": "code",
   "execution_count": 44,
   "metadata": {},
   "outputs": [
    {
     "data": {
      "text/plain": [
       "'2020-4-11'"
      ]
     },
     "execution_count": 44,
     "metadata": {},
     "output_type": "execute_result"
    }
   ],
   "source": [
    "t=time.localtime()\n",
    "str(t[0])+'-'+str(t[1])+'-'+str(t[2])"
   ]
  },
  {
   "cell_type": "code",
   "execution_count": 53,
   "metadata": {},
   "outputs": [
    {
     "data": {
      "text/plain": [
       "'0b1001110010'"
      ]
     },
     "execution_count": 53,
     "metadata": {},
     "output_type": "execute_result"
    }
   ],
   "source": [
    "bin(random.getrandbits(10))"
   ]
  },
  {
   "cell_type": "code",
   "execution_count": null,
   "metadata": {},
   "outputs": [],
   "source": []
  }
 ],
 "metadata": {
  "kernelspec": {
   "display_name": "Python 3",
   "language": "python",
   "name": "python3"
  },
  "language_info": {
   "codemirror_mode": {
    "name": "ipython",
    "version": 3
   },
   "file_extension": ".py",
   "mimetype": "text/x-python",
   "name": "python",
   "nbconvert_exporter": "python",
   "pygments_lexer": "ipython3",
   "version": "3.8.0"
  },
  "toc": {
   "base_numbering": 1,
   "nav_menu": {},
   "number_sections": true,
   "sideBar": true,
   "skip_h1_title": false,
   "title_cell": "Table of Contents",
   "title_sidebar": "Contents",
   "toc_cell": false,
   "toc_position": {},
   "toc_section_display": true,
   "toc_window_display": false
  }
 },
 "nbformat": 4,
 "nbformat_minor": 4
}
