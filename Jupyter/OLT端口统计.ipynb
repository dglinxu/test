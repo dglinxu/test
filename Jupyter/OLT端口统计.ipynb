{
 "cells": [
  {
   "cell_type": "markdown",
   "metadata": {},
   "source": [
    "### OLTt设备端口统计"
   ]
  },
  {
   "cell_type": "code",
   "execution_count": null,
   "metadata": {},
   "outputs": [],
   "source": [
    "import pandas as pd\n",
    "import numpy as np\n",
    "import openpyxl \n",
    "\n",
    "col=['所属站点', '所属机房','名称', '编码', 'PON标识', '设备类型','端口总数', '端口占用数', '端口空闲数']\n",
    "# 读出多个表，df=pd.read_excel('OLT总表.xlsx',sheet_name=[0,1,2,3])，df[0]是第一个表\n",
    "data=pd.read_excel('OLTDEVICE-2020-03-09-1583718616233.xlsx')\n",
    "olt=data[col]\n",
    "olt.to_excel('OLT总表.xlsx',sheet_name='OLT总表')\n",
    "\n",
    "# cond=(olt.设备类型.isin(['MA5800-X17']))&(olt.PON标识.isnull().values==True) #用括号分割，isin是列表\n",
    "\n",
    "# 视图不能进行赋值，产生错误是链式赋值SettingWithCopyWarning，只能用loc进行赋值操作要拷贝后操作data.price].copy()\n",
    "c_gpon=(olt['设备类型'].str.contains('MA5680T(标准)|ZXA10 C300(标准)|ZXA10 C600'))&(olt['PON标识'].isnull().values==True)\n",
    "c_epon=(olt['设备类型'].str.contains('MA5800-X17'))&(olt['PON标识'].isnull().values==True)\n",
    "olt.loc[c_gpon,'PON标识']='GPON'\n",
    "olt.loc[c_epon,'PON标识']='10G-EPON'\n",
    "\n",
    "olt.to_excel('虎门OLT端口统计表.xlsx',sheet_name='OLT总表')\n",
    "'''table = pd.pivot_table(df, values=['D', 'E'], index=['A', 'C'],aggfunc={'D': np.mean,'E': [min, max, np.mean]},fill_value=0)'''\n",
    "piv=pd.pivot_table(olt,index=['所属站点','PON标识'],aggfunc=np.sum) #默认是求平均值\n",
    "\n",
    "# with pd.ExcelWriter('output.xlsx') as writer:  \n",
    "# ...     df1.to_excel(writer, sheet_name='Sheet_name_1')\n",
    "# ...     df2.to_excel(writer, sheet_name='Sheet_name_2')   这种可以把多个表按顺序写入电子表格\n",
    "''' with pd.ExcelWriter('output.xlsx',mode='a') as writer:\n",
    "...     df.to_excel(writer, sheet_name='Sheet_name_3')'''          #使用ExcelWriter的增加模式，在原簿中增加一个表。\n",
    "with pd.ExcelWriter('虎门OLT端口统计表.xlsx',mode='a') as writer:\n",
    "    piv.to_excel(writer,sheet_name='汇总表（按局站）')"
   ]
  },
  {
   "cell_type": "code",
   "execution_count": null,
   "metadata": {},
   "outputs": [],
   "source": [
    "'''修改输出表格的格式'''\n",
    "# alignment=Alignment(horizontal='center',#水平'center', 'centerContinuous', 'justify', 'fill', 'general', 'distributed', 'left', 'right'\n",
    "#             vertical='top',#垂直'distributed', 'bottom', 'top', 'center', 'justify'\n",
    "#             text_rotation=0,#旋转角度0~180\n",
    "#             wrap_text=False,#文字换行\n",
    "#             shrink_to_fit=True,#自适应宽度，改变文字大小,上一项false\n",
    "#             indent=0)\n",
    "from openpyxl.styles import NamedStyle,PatternFill, Border, Side, Font, Alignment\n",
    "wb=openpyxl.load_workbook('虎门OLT端口统计表.xlsx')\n",
    "ws=wb['汇总表（按局站）']\n",
    "\n",
    "# 设置行高，列宽\n",
    "green_fill = PatternFill(fill_type='solid', fgColor=\"FFC125\")\n",
    "for i in 'ABCDE':\n",
    "    col=i+'1'\n",
    "    ws.column_dimensions[i].width = 15\n",
    "    ws['a1'].fill=green_fill\n",
    "for i in range(1,60):\n",
    "    ws.row_dimensions[i].height = 18\n",
    "\n",
    "# 设置自适应\n",
    "ws.page_setup.fitToHeight = 1\n",
    "ws.page_setup.fitToWidth = 1\n",
    "\n",
    "# 设置字体，边框，对其方式，并创建风格名称，进行整体修改\n",
    "style=NamedStyle(name='style')\n",
    "style.font=Font('微软雅黑',size=11,color='000000',bold=False,italic=False)\n",
    "thin=Side(border_style=\"thin\", color=\"000000\")\n",
    "style.border=Border(top=thin, left=thin, right=thin, bottom=thin)\n",
    "style.alignment=Alignment(horizontal='center',vertical='center',wrap_text=False)\n",
    "for row in ws['a1:e59']:\n",
    "    for cell in row:\n",
    "        cell.style=style\n",
    "\n",
    "# 给首行填色，及调整字体\n",
    "yellow_fill = PatternFill(fill_type='solid', fgColor=\"FFC125\")        \n",
    "for i in 'ABCDE':\n",
    "    ws[i+'1'].fill=green_fill\n",
    "    ws[i+'1'].font=Font(bold=True,size=12)\n",
    "    \n",
    "wb.save('虎门OLT端口统计表.xlsx')"
   ]
  },
  {
   "cell_type": "code",
   "execution_count": null,
   "metadata": {},
   "outputs": [],
   "source": []
  },
  {
   "cell_type": "code",
   "execution_count": null,
   "metadata": {},
   "outputs": [],
   "source": []
  },
  {
   "cell_type": "code",
   "execution_count": null,
   "metadata": {},
   "outputs": [],
   "source": []
  },
  {
   "cell_type": "code",
   "execution_count": null,
   "metadata": {},
   "outputs": [],
   "source": []
  },
  {
   "cell_type": "code",
   "execution_count": null,
   "metadata": {},
   "outputs": [],
   "source": []
  }
 ],
 "metadata": {
  "kernelspec": {
   "display_name": "Python 3",
   "language": "python",
   "name": "python3"
  },
  "language_info": {
   "codemirror_mode": {
    "name": "ipython",
    "version": 3
   },
   "file_extension": ".py",
   "mimetype": "text/x-python",
   "name": "python",
   "nbconvert_exporter": "python",
   "pygments_lexer": "ipython3",
   "version": "3.8.1"
  },
  "toc": {
   "base_numbering": 1,
   "nav_menu": {},
   "number_sections": true,
   "sideBar": true,
   "skip_h1_title": false,
   "title_cell": "Table of Contents",
   "title_sidebar": "Contents",
   "toc_cell": false,
   "toc_position": {},
   "toc_section_display": true,
   "toc_window_display": false
  },
  "varInspector": {
   "cols": {
    "lenName": 16,
    "lenType": 16,
    "lenVar": 40
   },
   "kernels_config": {
    "python": {
     "delete_cmd_postfix": "",
     "delete_cmd_prefix": "del ",
     "library": "var_list.py",
     "varRefreshCmd": "print(var_dic_list())"
    },
    "r": {
     "delete_cmd_postfix": ") ",
     "delete_cmd_prefix": "rm(",
     "library": "var_list.r",
     "varRefreshCmd": "cat(var_dic_list()) "
    }
   },
   "types_to_exclude": [
    "module",
    "function",
    "builtin_function_or_method",
    "instance",
    "_Feature"
   ],
   "window_display": false
  }
 },
 "nbformat": 4,
 "nbformat_minor": 4
}
