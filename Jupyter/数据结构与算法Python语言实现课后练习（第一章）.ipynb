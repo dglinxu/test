{
 "cells": [
  {
   "cell_type": "markdown",
   "metadata": {},
   "source": [
    "### 第 1 章 课后练习答案\n",
    "Excercise1.12 练习\n",
    "##### R-1.1 编写一个Python函数 is_multiple(n, m)，用来接收两个整数值 n 和 m，如果 n 是 m 的倍数，即存在整数 i 使得 n = mi，那么函数返回 True，否则返回 False："
   ]
  },
  {
   "cell_type": "code",
   "execution_count": null,
   "metadata": {},
   "outputs": [],
   "source": [
    "def is_multiple(n,m):\n",
    "    return (n%m==0)\n",
    "is_multiple(4, 2)"
   ]
  },
  {
   "cell_type": "markdown",
   "metadata": {},
   "source": [
    "##### R-1.2 编写一个Python函数 is_even(k)，用来接收一个整数 k,如果 k 是偶数返回 True，否则返回 False。但是，函数中不能使用乘法、除法或取余操作."
   ]
  },
  {
   "cell_type": "code",
   "execution_count": null,
   "metadata": {},
   "outputs": [],
   "source": [
    "def is_even(k):\n",
    "    s=str(bin(k))\n",
    "    return s[-1]=='0'\n",
    "is_even(-9)"
   ]
  },
  {
   "cell_type": "code",
   "execution_count": null,
   "metadata": {},
   "outputs": [],
   "source": [
    "def is_even(k):\n",
    "    return (k & 1 == 0)\n",
    "is_even(-9)"
   ]
  },
  {
   "cell_type": "code",
   "execution_count": null,
   "metadata": {},
   "outputs": [],
   "source": [
    "def is_even(k):\n",
    "    n=abs(k)\n",
    "    while n>0:\n",
    "        n-=2\n",
    "    return n==0\n",
    "is_even(10)"
   ]
  },
  {
   "cell_type": "markdown",
   "metadata": {},
   "source": [
    "##### R-1.3 编写一个Python函数 minmax(data)，找出最小数和最大数，并以一个长度为 2 的元组的形式返回。注意：不能通过内置函数 min 和 max 来实现。"
   ]
  },
  {
   "cell_type": "code",
   "execution_count": null,
   "metadata": {},
   "outputs": [],
   "source": [
    "def minmax(data):\n",
    "    min,max=float('inf'),float('-inf')\n",
    "    #min,max=data[0],data[0]\n",
    "    for item in data:\n",
    "        if item>max:\n",
    "            max=item\n",
    "        if item<min:\n",
    "            min=item\n",
    "    return (min,max)\n",
    "data = [1, 5, 6, 2, 9, 7, 8]\n",
    "minmax(data)"
   ]
  },
  {
   "cell_type": "markdown",
   "metadata": {},
   "source": [
    "##### R-1.4 编写一个Python函数，用来接收正整数 n，返回 1 ~ n 的平方和。"
   ]
  },
  {
   "cell_type": "code",
   "execution_count": null,
   "metadata": {},
   "outputs": [],
   "source": [
    "def sumSquare(n):\n",
    "    return sum(i**2 for i in range(1,n+1))\n",
    "sumSquare(4)    "
   ]
  },
  {
   "cell_type": "markdown",
   "metadata": {},
   "source": [
    "##### R-1.5 基于Python的解析语法和内置函数 sum，写一个单独的命令来计算练习R-1.4中的和。"
   ]
  },
  {
   "cell_type": "code",
   "execution_count": null,
   "metadata": {},
   "outputs": [],
   "source": [
    "def sumSquare(n):\n",
    "    return sum(i**2 for i in range(1,n+1))\n",
    "sumSquare(4)   "
   ]
  },
  {
   "cell_type": "markdown",
   "metadata": {},
   "source": [
    "##### R-1.6 编写一个Python函数，用来接收正整数n，并返回 1 ~ n 中所有的奇数的平方和。"
   ]
  },
  {
   "cell_type": "code",
   "execution_count": null,
   "metadata": {},
   "outputs": [],
   "source": [
    "def sumOddsquare(n):\n",
    "    return sum(i**2 for i in range(1,n+1) if i%2==1)\n",
    "sumOddsquare(4)"
   ]
  },
  {
   "cell_type": "markdown",
   "metadata": {},
   "source": [
    "##### R-1.7 基于Python的解析语法和内置函数 sum，写一个单独的命令来计算练习R-1.6中的和。"
   ]
  },
  {
   "cell_type": "code",
   "execution_count": null,
   "metadata": {},
   "outputs": [],
   "source": [
    "def sumOddsquare(n):\n",
    "    return sum(i**2 for i in range(1,n+1) if i%2==1)\n",
    "sumOddsquare(4)"
   ]
  },
  {
   "cell_type": "markdown",
   "metadata": {},
   "source": [
    "##### R-1.8 Python 允许负整数作为序列的索引值，如一个长度为 n 的字符串 s，当索引值 -n ≤ k < 0 时，所指的元素为 s[k]，那么求一个正整数索引值 j ⩾ 0，使得 s[j] 指向的也是相同的元素。"
   ]
  },
  {
   "cell_type": "code",
   "execution_count": null,
   "metadata": {},
   "outputs": [],
   "source": [
    "j=n+k"
   ]
  },
  {
   "cell_type": "markdown",
   "metadata": {},
   "source": [
    "##### R-1.9 要生成一个值为 50， 60， 70， 80 的排列，求 range构造函数的参数."
   ]
  },
  {
   "cell_type": "code",
   "execution_count": null,
   "metadata": {},
   "outputs": [],
   "source": [
    "alist=list(range(50,81,10))\n",
    "alist"
   ]
  },
  {
   "cell_type": "markdown",
   "metadata": {},
   "source": [
    "##### R-1.10 要生成一个值为 8, 6, 4, 2, 0, -2, -4, -6, -8 的排列，求 range 构造函数中的参数。"
   ]
  },
  {
   "cell_type": "code",
   "execution_count": null,
   "metadata": {},
   "outputs": [],
   "source": [
    "list(range(8,-10,-2))"
   ]
  },
  {
   "cell_type": "markdown",
   "metadata": {},
   "source": [
    "##### R-1.11 演示怎样使用 Python 列表解析语法来产生列表 [1, 2, 4, 8, 16, 32, 64, 128, 256]."
   ]
  },
  {
   "cell_type": "code",
   "execution_count": null,
   "metadata": {},
   "outputs": [],
   "source": [
    "list(2**i for i in range(9))"
   ]
  },
  {
   "cell_type": "markdown",
   "metadata": {},
   "source": [
    "##### R-1.12 Python 的 random 模块包括一个函数 choice(data)，可以从一个非空序列返回一个随机元素。Random模块还包含一个更基本的 randrange 函数，参数化类似于内置的 range 函数，可以在给定范围内返回一个随机数。只使用 randrange 函数，实现自己的 choice 函数。"
   ]
  },
  {
   "cell_type": "code",
   "execution_count": null,
   "metadata": {},
   "outputs": [],
   "source": [
    "import random\n",
    "def choice(data):\n",
    "    return data[random.randrange(len(data))] #边界与range一致\n",
    "data = [1, 2, 3, 4, 5, 6, 7, 8, 9]\n",
    "choice(data)"
   ]
  },
  {
   "cell_type": "markdown",
   "metadata": {},
   "source": [
    "### 创新：\n",
    "##### C-1.13 编写一个函数的伪代码描述，该函数用来逆置 n 个整数的列表，使这些以相反的顺序输出，并将该方法与可以实现相同功能的 Python 函数进行比较。"
   ]
  },
  {
   "cell_type": "code",
   "execution_count": null,
   "metadata": {},
   "outputs": [],
   "source": [
    "def myReverse(data):\n",
    "    return data[::-1]\n",
    "data=[1,2,3]\n",
    "myReverse(data)"
   ]
  },
  {
   "cell_type": "code",
   "execution_count": null,
   "metadata": {},
   "outputs": [],
   "source": [
    "reverse(data)##注意与reversed的区别"
   ]
  },
  {
   "cell_type": "markdown",
   "metadata": {},
   "source": [
    "##### C-1.14 编写一个 Python 函数，用来接收一个整数序列，并判断该序列中是否存在一对乘积是奇数的互不相同的数。"
   ]
  },
  {
   "cell_type": "code",
   "execution_count": null,
   "metadata": {},
   "outputs": [],
   "source": [
    "def odd_pair(data):\n",
    "    return len(set(i for i in data if i%2==1))>1  #要乘积为奇数，列表必须有两个不相同的奇数\n",
    "data=[1,2,0,4,2,6]\n",
    "odd_pair(data)"
   ]
  },
  {
   "cell_type": "markdown",
   "metadata": {},
   "source": [
    "##### C-1.15 编写一个 Python 函数，用来接收一个数字序列，并判断是否所有数字都互不相同。"
   ]
  },
  {
   "cell_type": "code",
   "execution_count": null,
   "metadata": {},
   "outputs": [],
   "source": [
    "def distict(data):\n",
    "    return len(set(data))==len(data)\n",
    "data=[1,2,3,5,6]\n",
    "distict(data)"
   ]
  },
  {
   "cell_type": "code",
   "execution_count": null,
   "metadata": {},
   "outputs": [],
   "source": [
    "def isDiff(data):\n",
    "    for i in range(len(data)-1):\n",
    "        if i in data[i+1:]:\n",
    "            return False\n",
    "    return True\n",
    "data=[1,2,3,2,6]\n",
    "isDiff(data)       "
   ]
  },
  {
   "cell_type": "markdown",
   "metadata": {},
   "source": [
    "##### C-1.16 在1.5.1节 scale 函数的实现中，循环体内执行的命令 data[j] *= factor。我们已经说过这个数字类型是不可变的，操作符 *= 在这种背景下使用是创建一个新的实例（而不是现有实例的变化）。那么 scale 函数是如何实现改变调用者发送的实际参数呢？"
   ]
  },
  {
   "cell_type": "code",
   "execution_count": null,
   "metadata": {},
   "outputs": [],
   "source": [
    "def scale(data,factor):\n",
    "    for j in range(len(data)):\n",
    "        data[j]*=factor"
   ]
  },
  {
   "cell_type": "markdown",
   "metadata": {},
   "source": [
    "##### C-1.17 1.5.1节 scale 函数的实现如下。它能正常工作吗？请给出原因。"
   ]
  },
  {
   "cell_type": "code",
   "execution_count": null,
   "metadata": {},
   "outputs": [],
   "source": [
    "def  scale(data, factor):\n",
    "    for val in data:\n",
    "        val = val * factor\n",
    "#val只是对data列表中数据的引用，是一个变量，而不是列表元素对象本身。需要在对象上改变，需要采用索引的方法"
   ]
  },
  {
   "cell_type": "markdown",
   "metadata": {},
   "source": [
    "##### C-1.18 演示如何使用 Python 列表解析语法来产生列表 [0, 2, 6, 12, 20, 30, 42, 56, 72, 90]。"
   ]
  },
  {
   "cell_type": "code",
   "execution_count": null,
   "metadata": {},
   "outputs": [],
   "source": [
    "list(i*(i+1) for i in range(10))"
   ]
  },
  {
   "cell_type": "markdown",
   "metadata": {},
   "source": [
    "##### C-1.19 演示如何使用 Python 列表解析语法在不输入所有 26 个英文字母的情况下产生列表 [‘a’, ‘b’, ‘c’,…, ‘z’]。"
   ]
  },
  {
   "cell_type": "code",
   "execution_count": null,
   "metadata": {},
   "outputs": [],
   "source": [
    "list(chr(i) for i in range(97,123))"
   ]
  },
  {
   "cell_type": "markdown",
   "metadata": {},
   "source": [
    "##### C-1.20 Python 的 random 模块包括一个函数 shuffle(data)，它可以接受一个元素的列表和一个随机的重新排列元素，以使每个可能的序列发生概率相等。 random 模块还包括一个更基本的函数 randint(a, b)，它可以返回一个 a 到 b （包括两个端点）的随机整数。只使用 randint 函数，实现自己的 shuffle 函数"
   ]
  },
  {
   "cell_type": "code",
   "execution_count": null,
   "metadata": {},
   "outputs": [],
   "source": [
    "import random\n",
    "def myShuffle(data):\n",
    "    n=len(data)\n",
    "    t_list=[]   #存产生的随机索引\n",
    "    ans=[]      #根据随机索引取data\n",
    "    while n>0:\n",
    "        t=random.randint(0,len(data)-1)\n",
    "        if t not in t_list:     #产生的随机数不能出现在已产生列表\n",
    "            t_list.append(t)\n",
    "            ans.append(data[t])\n",
    "            n-=1\n",
    "    return ans\n",
    "data=[1,2,3,4,5,6]\n",
    "myShuffle(data)    "
   ]
  },
  {
   "cell_type": "markdown",
   "metadata": {},
   "source": [
    "##### C-1.21 编写一个Python程序，反复从标准输入读取一行直到抛出 EOFError 异常，然后以相反的顺序输出这些行（用户可以通过键按 Ctrl + D 结束输入）"
   ]
  },
  {
   "cell_type": "code",
   "execution_count": null,
   "metadata": {},
   "outputs": [],
   "source": [
    "stop=False\n",
    "res=[]\n",
    "while not stop:\n",
    "    try:\n",
    "        s=input()\n",
    "        res.append(s)\n",
    "    except:\n",
    "        print(''.join(res[::-1]))\n",
    "        stop=True\n",
    "        "
   ]
  },
  {
   "cell_type": "markdown",
   "metadata": {},
   "source": [
    "##### C-1.22 编写一个Python程序，用来接收长度为 n 的两个整型数组 a 和 b 并返回数组 a 和 b 的点积。也就是返回一个长度为 n 的数组 c，即 c[i] = a[i] ⋅ b[i], for i = 0, …, n-1."
   ]
  },
  {
   "cell_type": "code",
   "execution_count": null,
   "metadata": {},
   "outputs": [],
   "source": [
    "a=[1,2,3]\n",
    "b=[4,5,6]\n",
    "list(a[i]*b[i] for i in range(len(a)))"
   ]
  },
  {
   "cell_type": "markdown",
   "metadata": {},
   "source": [
    "##### C-1.23 给出一个 Python 代码片段的例子，编写一个索引可能越界的元素列表。如果索引越界，程序应该捕获异常结果并打印以下错误消息：“Don’t try buffer overflow attacks in Python!”"
   ]
  },
  {
   "cell_type": "code",
   "execution_count": null,
   "metadata": {},
   "outputs": [],
   "source": [
    "def get_error(data,i):\n",
    "    try:\n",
    "        print(data[i])\n",
    "    except:\n",
    "        print(\"Don't try buffer overflow attacks in Python!\")\n",
    "data=[1,2,3,4,5]\n",
    "get_error(data,10)"
   ]
  },
  {
   "cell_type": "markdown",
   "metadata": {},
   "source": [
    "##### C-1.24 编写一个 Python 函数，计算所给字符串中元音字母的个数。"
   ]
  },
  {
   "cell_type": "code",
   "execution_count": null,
   "metadata": {},
   "outputs": [],
   "source": [
    "def numVowel(string):\n",
    "    total=0\n",
    "    for c in string:\n",
    "        if c in 'aeiouAEIOU':\n",
    "            total+=1\n",
    "    return total\n",
    "s=\"aeioUHIJKku\"\n",
    "numVowel(s)"
   ]
  },
  {
   "cell_type": "markdown",
   "metadata": {},
   "source": [
    "##### C-1.25 编写一个 Python函数，接收一个表示一个句子的字符串 s，然后返回该字符串的删除了所有标点符号的副本。例如， 给定字符串 “Let’s try, Mike.”，这个函数将返回 “Lets try Mike”"
   ]
  },
  {
   "cell_type": "code",
   "execution_count": null,
   "metadata": {},
   "outputs": [],
   "source": [
    "import re\n",
    "def delPunc(string):\n",
    "    return re.sub(\"[',.’，。]\",'',string)\n",
    "s=\"Let’s try, Mike.\"\n",
    "delPunc(s)"
   ]
  },
  {
   "cell_type": "markdown",
   "metadata": {},
   "source": [
    "##### C-1.26 编写一个程序，需要从控制台输入 3 个整数 a、b、c，并确定它们是否可以在一个正确的算术公式（在给定的顺序）下成立，如“a + b = c” “a = b - c” 或 “a * b = c”。"
   ]
  },
  {
   "cell_type": "code",
   "execution_count": null,
   "metadata": {},
   "outputs": [],
   "source": [
    "def compare():\n",
    "    a=int(input())\n",
    "    b=int(input())\n",
    "    c=int(input())\n",
    "    if (a+b)==c or a==(b-c) or (a*b)==c:\n",
    "        return True\n",
    "    else:\n",
    "        return False\n",
    "compare()"
   ]
  },
  {
   "cell_type": "markdown",
   "metadata": {},
   "source": [
    "##### C-1.27 在 1.8 节中，我们对于计算所给整数的因子时提供了 3 种不同的生成器的实现方法。 1.8 节末尾处的第三种方法是最有效的，但我们注意到，它没有按递增顺序来产生因子。修改生成器，使得其按递增顺序来产生因子，同时保持其性能优势。(产生100以内的因数）"
   ]
  },
  {
   "cell_type": "code",
   "execution_count": null,
   "metadata": {},
   "outputs": [],
   "source": [
    "def factors(n):\n",
    "    k=1\n",
    "    res=[]\n",
    "    while k*k<=n:\n",
    "        if n%k==0:\n",
    "            yield k\n",
    "            res.append(k)   #把中间结果存起来，计算后面因数\n",
    "        k+=1\n",
    "    for i in res[::-1]:\n",
    "        if i*i!=n:          #如果等于某数平方，可能产生两个相同的值\n",
    "            yield n//i\n",
    "\n",
    "\n",
    "list(factors(10))\n"
   ]
  },
  {
   "cell_type": "markdown",
   "metadata": {},
   "source": [
    "##### R-1.28 在 n 维空间定义一个向量 v=(v1,v2,…,vn) v=(v1,v2,…,vn) 的 p 范数, 如下所示：||v||=(v1P+V2P+…VnP)(1/p)对于 p = 2 的特殊情况，这就成了传统的欧几里得范数，表示向量的长度。例如，一个二维向量坐标为 (4,3) 的欧几里得范数为(42+32)(1/2)=(16+9)(1/2)=25**(1/2).编写 norm 函数，即 norm(v, p)，返回向量 v 的 p 范数的值， norm(v)，返回向量 v 的欧几里得范数。你可以假定 v 是一个数字列表。sqrt(x**2+y**2)=z"
   ]
  },
  {
   "cell_type": "code",
   "execution_count": null,
   "metadata": {},
   "outputs": [],
   "source": [
    "def norm(v, p=2):\n",
    "    import math\n",
    "    return math.sqrt(sum(pow(x, p) for x in v))\n",
    "v = [3, 4]\n",
    "norm(v)"
   ]
  },
  {
   "cell_type": "markdown",
   "metadata": {},
   "source": [
    "##### P-1.29 编写一个 Python 程序，输出由字母 ‘c’,‘a’,‘t’,‘d’,‘o’,‘g’ 组成的所有可能的字符串（每个字母只使用1次）。"
   ]
  },
  {
   "cell_type": "code",
   "execution_count": null,
   "metadata": {},
   "outputs": [],
   "source": [
    "#这个递归简单直接\n",
    "def permute(string):\n",
    "    if len(string)<2:\n",
    "        return string\n",
    "    result=[]\n",
    "    for i in range(len(string)):\n",
    "        for j in permute(string[:i]+string[i+1:]): #使用逐层缩减规模，而不是string[i]+permute(string[:i]+string[i+1:])\n",
    "            result.append(string[i]+j)\n",
    "    return result\n",
    "permute('catdog')"
   ]
  },
  {
   "cell_type": "code",
   "execution_count": null,
   "metadata": {},
   "outputs": [],
   "source": [
    "#书中递归方法，最后三行很是难理解\n",
    "def permute(string,result):\n",
    "    if len(string)==0:\n",
    "        print(''.join(result))\n",
    "    else:\n",
    "        for i in range(len(string)):\n",
    "            result.append(string.pop(i))    #这部分有点难理解\n",
    "            permute(string,result)\n",
    "            string.insert(i,result.pop())\n",
    "\n",
    "permute(list('catdog'),[])"
   ]
  },
  {
   "cell_type": "code",
   "execution_count": null,
   "metadata": {},
   "outputs": [],
   "source": [
    "#用itertools 库产生不同排列组合\n",
    "from itertools import permutations\n",
    "def permute(string):\n",
    "    result= list(map(''.join, permutations(string)))\n",
    "    print(result, len(result)) # 总共有720个\n",
    "\n",
    "permute(list('catdog'))\n"
   ]
  },
  {
   "cell_type": "markdown",
   "metadata": {},
   "source": [
    "##### P-1.30 编写一个 Python 程序，输入一个大于 2 的正整数，求将该数反复被 2 整除直到商小于 2 为止的次数。"
   ]
  },
  {
   "cell_type": "code",
   "execution_count": null,
   "metadata": {},
   "outputs": [],
   "source": [
    "def divBytwo(number):\n",
    "    n=0\n",
    "    while number>1:\n",
    "        n+=1\n",
    "        number=number//2\n",
    "    return n\n",
    "number=16\n",
    "divBytwo(number)"
   ]
  },
  {
   "cell_type": "markdown",
   "metadata": {},
   "source": [
    "##### P-1.31 编写一个可以“找零钱”的 Python 程序。程序应该将两个数字作为输入，一个是需要支付的钱数，另一个是你给的钱数。当你需要支付的和所给的钱数不同时，它应该返回所找的纸币和硬币的数量。纸币和硬币的值可以基于之前或现在政府的货币体系。试设计程序，以便返回尽可能少的纸币和硬币。"
   ]
  },
  {
   "cell_type": "code",
   "execution_count": 54,
   "metadata": {},
   "outputs": [
    {
     "name": "stdout",
     "output_type": "stream",
     "text": [
      "面值50,张数：1\n",
      "面值10,张数：1\n",
      "面值1,张数：3\n"
     ]
    }
   ],
   "source": [
    "#这个是贪婪算法，并非返回最少张数的钱币\n",
    "def makeChange(coins,change):\n",
    "    if change==0:\n",
    "        return\n",
    "    i=0\n",
    "    stop=False\n",
    "    while not stop:\n",
    "        if coins[i]<=change:\n",
    "            print('面值'+str(coins[i])+',张数：'+str(change//coins[i]))\n",
    "            stop=True\n",
    "            makeChange(coins,change%coins[i])\n",
    "        i+=1\n",
    "coins=[100,50,21,10,5,1,0.5,0.1]\n",
    "makeChange(coins,63)"
   ]
  },
  {
   "cell_type": "markdown",
   "metadata": {},
   "source": [
    "##### P-1.32 编写一个 Python 程序来模拟一个简单的计算器，使用控制台作为输入和输出的专用设备。也就是说，计算器的每一次输入做一个单独的行，它可以输入一个数字（如1034或12.34）或操作符（如 + 或 = ）。每一次输入后，应该输出计算器显示的结果并将其输出到 Python 控制台。\n"
   ]
  },
  {
   "cell_type": "code",
   "execution_count": null,
   "metadata": {
    "scrolled": true
   },
   "outputs": [],
   "source": [
    "import re\n",
    "def caculator():\n",
    "    print('模拟计数器')\n",
    "    stop=False\n",
    "    negative = re.compile(\"^-？[0-9]+$\")           #整数含负数数判断\n",
    "    decimal = re.compile(r\"^(-?\\d+)(\\.\\d*)?$\")   #小数、负数、整数判断\n",
    "    while not stop:\n",
    "        n1=input()\n",
    "        if not re.match(decimal,n1):\n",
    "            print('输入错误，请重新输入整数或小数。')\n",
    "        else:\n",
    "            stop=True\n",
    "    stop=False\n",
    "    while not stop:\n",
    "        operator=input()\n",
    "        if operator not in ('+','-','*',\"/\"):\n",
    "            print('输入错误，请重新输入运算符。')\n",
    "        else:\n",
    "            stop=True\n",
    "    stop=False\n",
    "    while not stop:\n",
    "        n2=input()\n",
    "        if not re.match(decimal,n1):\n",
    "            print('输入错误，请重新输入整数或小数。')\n",
    "        else:\n",
    "            stop=True\n",
    "    ans=eval(n1+operator+n2)\n",
    "    print(\"%s %s %s = %d\"%(n1,operator,n2,ans))\n",
    "\n",
    "caculator()\n",
    "        "
   ]
  },
  {
   "cell_type": "code",
   "execution_count": null,
   "metadata": {},
   "outputs": [],
   "source": [
    "import re\n",
    "from decimal import *\n",
    "s='222.3'\n",
    "negative = re.compile(\"^-?[0-9]+$\")           #负数判断\n",
    "decimal = re.compile(r\"^(-?\\d+)(\\.\\d*)?$\")\n",
    "re.match(decimal,s)"
   ]
  },
  {
   "cell_type": "markdown",
   "metadata": {},
   "source": [
    "##### P-1.33 编写一个 Python 程序来模拟一个手持计算器，程序应该可以处理来自 Python 控制台（表示 Push 按钮）的输入，每个操作执行完毕后内容输出到屏幕。计算器至少应该能够处理基本的算术运算和复位/清除操作。"
   ]
  },
  {
   "cell_type": "code",
   "execution_count": null,
   "metadata": {},
   "outputs": [],
   "source": []
  },
  {
   "cell_type": "markdown",
   "metadata": {},
   "source": [
    "##### P-1.34 一种惩罚学生的常见方法是让他们将一个句子重复写很多次。编写独立的 Python 程序，将以下句子 “I will never spam my friends again.” 写 100 次。程序应该对句子进行计数，另外，应该有 8 次不同的随机输入错误。"
   ]
  },
  {
   "cell_type": "code",
   "execution_count": null,
   "metadata": {},
   "outputs": [],
   "source": [
    "from random import choices,choice\n",
    "from time import sleep\n",
    "def get_space_index(sample):\n",
    "    sample=list(sample)  #sample转换成list列表\n",
    "    space_index_list=[]  #定义一个空列表\n",
    "    while ' ' in sample:    #当sample中有空格时\n",
    "        index=sample.index(' ')  #将sample空格的索引赋值给index\n",
    "        space_index_list.append(index+len(space_index_list))  #在space_index_list 列表中添加索引和长度\n",
    "        sample.pop(index)\n",
    "    return space_index_list\n"
   ]
  },
  {
   "cell_type": "code",
   "execution_count": null,
   "metadata": {},
   "outputs": [],
   "source": [
    "def punish_write():\n",
    "    sample=list(\" I will never spam my friends again.\")\n",
    "    cnt=0\n",
    "    wrong_cnt=8\n",
    "    wrong_index_list=choices(list(range(100)),k=8)#拼写错误的索引组成的列表\n",
    "    print(wrong_index_list) \n",
    "    space_index_list=get_space_index(sample)  #调用上述定义的函数，创造sample中含有的空格的索引列表\n",
    "    wrong_times=0 #错误0次\n",
    "    while cnt<100:\n",
    "        if cnt in wrong_index_list:#如果当前的索引在错误列表索引中\n",
    "            wrong_times+=1\n",
    "            while True:\n",
    "                wrong=choice(range(len(sample)))#选择在sample列表的任意一部分出错的索引，并将之赋值给wrong\n",
    "                if wrong not in space_index_list:#如果出现错误的地方不在空格列表中\n",
    "                    sample[wrong]=choice([chr(i) for i in range(65,65+26)]+[chr(i) for i in range(97,97+26)]+[',','.'])#错误出现在字母拼写中\n",
    "                    break\n",
    "            for i in sample:\n",
    "                print(i,end='')\n",
    "                sleep(0.05)\n",
    "            print(' |{:3d}| \\twrong {}'.format(cnt+1,wrong_times),end='\\n')\n",
    "            sleep(0.1)\n",
    "        else:\n",
    "            for i in sample:\n",
    "                print(i,end='')\n",
    "                sleep(0.03)\n",
    "            print('|{:3d}|'.format(cnt+1),end='\\n')\n",
    "            sleep(0.1)\n",
    "        cnt+=1\n",
    "        sample=list(\" I will never spam my friends again.\")\n"
   ]
  },
  {
   "cell_type": "markdown",
   "metadata": {},
   "source": [
    "##### P-1.35 生日悖论是说，当房间中人数 n 超过 23 时，那么该房间里有两个人生日相同的可能性是一半以上。这其实不是一个悖论，但许多人觉得不可思议。设计一个 Python 程序，可以通过一系列随机生成的生日的实验来测试这个悖论，例如可以 n = 5, 10, 15, 20, …, 100 测试这个悖论\n"
   ]
  },
  {
   "cell_type": "code",
   "execution_count": null,
   "metadata": {},
   "outputs": [],
   "source": [
    "def birth_age(num):\n",
    "    import math\n",
    "    prop = 1 - math.pow((364 / 365), (num * (num - 1) / 2))\n",
    "    return prop\n",
    "\n",
    "\n",
    "print(birth_age(23))"
   ]
  },
  {
   "cell_type": "markdown",
   "metadata": {},
   "source": [
    "###### P-1.36 编写一个 Python程序，输入一个由空格分隔的单词列表，并输出列表中的每个单词出现的次数。在这一点上，你不需要担心效率，因为这个问题会在本书后面的部分予以解决。"
   ]
  },
  {
   "cell_type": "code",
   "execution_count": null,
   "metadata": {},
   "outputs": [],
   "source": [
    "def wordCount(words):\n",
    "    word_list=list(words.split())\n",
    "    count={}\n",
    "    for word in word_list:\n",
    "        count[word]=count.get(word,0)+1\n",
    "    return count\n",
    "words='i love you you love me'\n",
    "wordCount(words)"
   ]
  },
  {
   "cell_type": "code",
   "execution_count": null,
   "metadata": {},
   "outputs": [],
   "source": []
  }
 ],
 "metadata": {
  "kernelspec": {
   "display_name": "Python 3",
   "language": "python",
   "name": "python3"
  },
  "language_info": {
   "codemirror_mode": {
    "name": "ipython",
    "version": 3
   },
   "file_extension": ".py",
   "mimetype": "text/x-python",
   "name": "python",
   "nbconvert_exporter": "python",
   "pygments_lexer": "ipython3",
   "version": "3.8.0"
  },
  "toc": {
   "base_numbering": 1,
   "nav_menu": {},
   "number_sections": true,
   "sideBar": true,
   "skip_h1_title": false,
   "title_cell": "Table of Contents",
   "title_sidebar": "Contents",
   "toc_cell": false,
   "toc_position": {},
   "toc_section_display": true,
   "toc_window_display": false
  }
 },
 "nbformat": 4,
 "nbformat_minor": 4
}
