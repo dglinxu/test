{
 "cells": [
  {
   "cell_type": "code",
   "execution_count": null,
   "metadata": {},
   "outputs": [],
   "source": [
    "import requests\n",
    "from lxml import etree\n"
   ]
  },
  {
   "cell_type": "code",
   "execution_count": null,
   "metadata": {},
   "outputs": [],
   "source": [
    "url_climb=\"https://movie.douban.com/subject/30413052/comments?start=%d&limit=20&sort=new_score&status=P\"\n",
    "headers={'User-Agent': 'Opera/9.80 (Windows NT 6.0) Presto/2.12.388 Version/12.14'}\n",
    "result=[]\n",
    "for i in range(11):\n",
    "    url=url_climb%(i*20)\n",
    "    response=requests.get(url=url,headers=headers)\n",
    "    html=etree.HTML(response.text)\n",
    "    data=html.xpath('//div[@class=\"comment\"]')\n",
    "    for d in data:\n",
    "        user=d.xpath('.//a/text()')[1]\n",
    "        score=d.xpath('.//span[@class=\"comment-info\"]//span[2]/@class')[0].split()[0]\n",
    "        date=d.xpath('.//span[@class=\"comment-time \"]/@title')[0]\n",
    "        comment=d.xpath('.//span[@class=\"short\"]/text()')[0].strip()\n",
    "        result.append((user+' 评分：'+score+'  '+date,comment))\n",
    "    print('第%d页,%d'%(i,len(result)))\n"
   ]
  },
  {
   "cell_type": "code",
   "execution_count": null,
   "metadata": {},
   "outputs": [],
   "source": [
    "with open('./豆瓣评论.txt','w',encoding='utf-8') as fp:\n",
    "    for line in result:\n",
    "        fp.write(line[0]+'\\n')\n",
    "        fp.write(line[1]+'\\n')\n",
    "\n"
   ]
  },
  {
   "cell_type": "code",
   "execution_count": null,
   "metadata": {},
   "outputs": [],
   "source": [
    "result=[]\n",
    "for d in data:\n",
    "    user=d.xpath('.//a/text()')[1]\n",
    "    score=d.xpath('.//span[@class=\"comment-info\"]//span[2]/@class')[0].split()[0]\n",
    "    date=d.xpath('.//span[@class=\"comment-time \"]/@title')[0]\n",
    "    comment=d.xpath('.//span[@class=\"short\"]/text()')[0].strip()\n",
    "    result.append((user+' 评分：'+score+'  '+date,comment))\n"
   ]
  },
  {
   "cell_type": "code",
   "execution_count": null,
   "metadata": {},
   "outputs": [],
   "source": [
    "len(result)\n",
    "\n",
    "\n"
   ]
  },
  {
   "cell_type": "code",
   "execution_count": null,
   "metadata": {},
   "outputs": [],
   "source": []
  }
 ],
 "metadata": {
  "kernelspec": {
   "display_name": "Python 3",
   "language": "python",
   "name": "python3"
  },
  "language_info": {
   "codemirror_mode": {
    "name": "ipython",
    "version": 3
   },
   "file_extension": ".py",
   "mimetype": "text/x-python",
   "name": "python",
   "nbconvert_exporter": "python",
   "pygments_lexer": "ipython3",
   "version": "3.8.1"
  },
  "toc": {
   "base_numbering": 1,
   "nav_menu": {},
   "number_sections": true,
   "sideBar": true,
   "skip_h1_title": false,
   "title_cell": "Table of Contents",
   "title_sidebar": "Contents",
   "toc_cell": false,
   "toc_position": {},
   "toc_section_display": true,
   "toc_window_display": false
  },
  "varInspector": {
   "cols": {
    "lenName": 16,
    "lenType": 16,
    "lenVar": 40
   },
   "kernels_config": {
    "python": {
     "delete_cmd_postfix": "",
     "delete_cmd_prefix": "del ",
     "library": "var_list.py",
     "varRefreshCmd": "print(var_dic_list())"
    },
    "r": {
     "delete_cmd_postfix": ") ",
     "delete_cmd_prefix": "rm(",
     "library": "var_list.r",
     "varRefreshCmd": "cat(var_dic_list()) "
    }
   },
   "types_to_exclude": [
    "module",
    "function",
    "builtin_function_or_method",
    "instance",
    "_Feature"
   ],
   "window_display": false
  }
 },
 "nbformat": 4,
 "nbformat_minor": 4
}
