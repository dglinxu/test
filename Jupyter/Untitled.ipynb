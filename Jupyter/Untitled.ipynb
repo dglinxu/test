{
 "cells": [
  {
   "cell_type": "code",
   "execution_count": null,
   "metadata": {
    "pycharm": {
     "is_executing": false
    }
   },
   "outputs": [],
   "source": [
    "%config IPCompleter.greedy=True"
   ]
  },
  {
   "cell_type": "code",
   "execution_count": null,
   "metadata": {},
   "outputs": [],
   "source": [
    "'''统计i have a dream 单词使用词频'''\n",
    "def data_clean(line):\n",
    "#     for c in [\"\\\\n\",',','.',':','\"','!',\"'\"]:\n",
    "#         line=line.replace(c,' ')\n",
    "    line=line.replace(\"\\\\n\",' ')  \n",
    "    for c in [',','.',':','\"','!',\"'\"]:\n",
    "        line=line.replace(c,' '+c+' ')\n",
    "    return line\n",
    "    \n",
    "words=[]\n",
    "with open('i have a dream.txt','r') as fp:\n",
    "    lines=fp.readlines()\n",
    "for line in lines:\n",
    "    word=[word.lower() for word in data_clean(line).split() if word]\n",
    "    words.extend(word)\n",
    "print(len(words))\n",
    "words_count=dict()\n",
    "for word in words:\n",
    "    words_count[word]=words_count.get(word,0)+1\n",
    "words_count=sorted(words_count.items(),key=lambda x:x[1],reverse=True)\n",
    "print(words_count)\n",
    "    "
   ]
  },
  {
   "cell_type": "code",
   "execution_count": null,
   "metadata": {},
   "outputs": [],
   "source": [
    "s='AAabcd,.de'\n",
    "s=s.lower()\n",
    "s.replace(',','H')"
   ]
  },
  {
   "cell_type": "code",
   "execution_count": null,
   "metadata": {},
   "outputs": [],
   "source": [
    "def data_clean1(line):\n",
    "    for c in [\"\\\\n\",\",\",\".\",\":\",\"\\\"\",\"!\",\"'\"]:\n",
    "        line=line.replace(c,' ')\n",
    "    return line\n",
    "s1='abcde,efg.aa!'\n",
    "print(data_clean1(s1))"
   ]
  },
  {
   "cell_type": "code",
   "execution_count": null,
   "metadata": {},
   "outputs": [],
   "source": [
    "def prime(num):\n",
    "    n=int(num**0.5)\n",
    "    for i in range(2,n+1):\n",
    "        if num%i==0:\n",
    "            return False\n",
    "    return True\n",
    "def monisen(no):\n",
    "    count=1\n",
    "    t=2\n",
    "    while True:\n",
    "        if prime(t)==False:\n",
    "            t+=1\n",
    "            continue\n",
    "        m=2**t-1\n",
    "        if prime(m)==False:\n",
    "            t+=1\n",
    "            continue\n",
    "        if count==no:\n",
    "            return m\n",
    "        else:\n",
    "            print(t,m)\n",
    "            t+=1\n",
    "            count+=1\n",
    "            \n",
    "\n",
    "print(monisen(4))        \n",
    "    "
   ]
  },
  {
   "cell_type": "code",
   "execution_count": null,
   "metadata": {},
   "outputs": [],
   "source": [
    "def prime(num):\n",
    "    n=int(num**0.5)\n",
    "    for i in range(2,n+1):\n",
    "        if num%i==0:\n",
    "            return False\n",
    "    return True\n",
    "def monisen(no):\n",
    "    count=1\n",
    "    t=2\n",
    "    while True:\n",
    "        if prime(t)==False:\n",
    "            t+=1\n",
    "            continue\n",
    "        m=2**t-1\n",
    "        if prime(m)==False:\n",
    "            t+=1\n",
    "            continue\n",
    "        if count==no:\n",
    "            return m\n",
    "        else:\n",
    "            print(t,m)\n",
    "            t+=1\n",
    "            count+=1\n",
    "print(monisen(int(input())))\n"
   ]
  },
  {
   "cell_type": "code",
   "execution_count": null,
   "metadata": {},
   "outputs": [],
   "source": [
    "def prime(num):\n",
    "    n=int(num**0.5)\n",
    "    for i in range(2,n+1):\n",
    "        if num%i==0:\n",
    "            return False\n",
    "    return True\n",
    "print(prime(71))"
   ]
  },
  {
   "cell_type": "code",
   "execution_count": null,
   "metadata": {},
   "outputs": [],
   "source": [
    "def fac(n):\n",
    "\n",
    "    if n==1 or n==0:\n",
    "\n",
    "        return False\n",
    "\n",
    "    b=0\n",
    "\n",
    "    for i in range(1,n):\n",
    "\n",
    "        if n % i == 0:\n",
    "\n",
    "            b += i\n",
    "\n",
    "    return b\n",
    "\n",
    "n=int(input())\n",
    "\n",
    "for a in range(1,n+1):\n",
    "\n",
    "    for b in range(a+1,n+1):\n",
    "\n",
    "        if fac(a)==b and fac(b)==a:\n",
    "\n",
    "            print(\"{}-{}\".format(a, b))\n",
    "\n",
    "            break\n"
   ]
  },
  {
   "cell_type": "code",
   "execution_count": null,
   "metadata": {},
   "outputs": [],
   "source": [
    "def fac(n):\n",
    "    res=0\n",
    "    for i in range(1,n//2+1):\n",
    "        if n%i==0:\n",
    "            res+=i\n",
    "    return res\n",
    "n = int(input())\n",
    "for i in range(2,n-1):\n",
    "    t=fac(i)\n",
    "    if t<=i:\n",
    "        continue\n",
    "    elif fac(t)==i:\n",
    "        print(\"{}-{}\".format(i, t))\n",
    "\n",
    "    "
   ]
  },
  {
   "cell_type": "code",
   "execution_count": null,
   "metadata": {},
   "outputs": [],
   "source": [
    "import tushare as ts\n",
    "import pandas as pd\n",
    "ts.set_token('d395ba7d2500948651273858dd5eb26862dc383eaa7522d956a71be1')\n",
    "pro = ts.pro_api()\n",
    "df = pro.news(src='sina', start_date='2020-03-01 09:00:00', end_date='2020-03-22 22:10:00')\n",
    "print(df)"
   ]
  },
  {
   "cell_type": "code",
   "execution_count": null,
   "metadata": {},
   "outputs": [],
   "source": [
    "import tushare as ts\n",
    "import pandas as pd\n",
    "ts.get_latest_news()"
   ]
  },
  {
   "cell_type": "code",
   "execution_count": null,
   "metadata": {},
   "outputs": [],
   "source": [
    "ts."
   ]
  },
  {
   "cell_type": "code",
   "execution_count": 37,
   "metadata": {},
   "outputs": [
    {
     "data": {
      "text/plain": [
       "\"i hope you didnt translate it by hand. thats what computers are for. doing it in by hand is inefficient and that's why this text is so long. using string.maketrans() is recommended. now apply on the url.\""
      ]
     },
     "execution_count": 37,
     "metadata": {},
     "output_type": "execute_result"
    }
   ],
   "source": [
    "d1='abcdefghijklmnopqrstuvwxyz'\n",
    "d2='cdefghijklmnopqrstuvwxyzab'\n",
    "d={k:v for k,v in zip(d1,d2)}\n",
    "s=\"g fmnc wms bgblr rpylqjyrc gr zw fylb. rfyrq ufyr amknsrcpq ypc dmp. bmgle gr gl zw fylb gq glcddgagclr ylb rfyr'q ufw rfgq rcvr gq qm jmle. sqgle qrpgle.kyicrpylq() gq pcamkkclbcb. lmu ynnjw ml rfc spj.\"\n",
    "lis=list(s)\n",
    "res=[]\n",
    "for i in lis:\n",
    "    if i.isalpha():\n",
    "        res.append(d[i])\n",
    "    else:\n",
    "        res.append(i)\n",
    "''.join(res)\n",
    "    "
   ]
  },
  {
   "cell_type": "code",
   "execution_count": null,
   "metadata": {},
   "outputs": [],
   "source": [
    "s=\"g fmnc wms bgblr rpylqjyrc gr zw fylb. rfyrq ufyr amknsrcpq ypc dmp. bmgle gr gl zw fylb gq glcddgagclr ylb rfyr'q ufw rfgq rcvr gq qm jmle. sqgle qrpgle.kyicrpylq() gq pcamkkclbcb. lmu ynnjw ml rfc spj.\"\n",
    "set(list(s))"
   ]
  },
  {
   "cell_type": "code",
   "execution_count": 35,
   "metadata": {},
   "outputs": [
    {
     "data": {
      "text/plain": [
       "{'a': 'c',\n",
       " 'b': 'd',\n",
       " 'c': 'e',\n",
       " 'd': 'f',\n",
       " 'e': 'g',\n",
       " 'f': 'h',\n",
       " 'g': 'i',\n",
       " 'h': 'j',\n",
       " 'i': 'k',\n",
       " 'j': 'l',\n",
       " 'k': 'm',\n",
       " 'l': 'n',\n",
       " 'm': 'o',\n",
       " 'n': 'p',\n",
       " 'o': 'q',\n",
       " 'p': 'r',\n",
       " 'q': 's',\n",
       " 'r': 't',\n",
       " 's': 'u',\n",
       " 't': 'v',\n",
       " 'u': 'w',\n",
       " 'v': 'x',\n",
       " 'w': 'y',\n",
       " 'x': 'z',\n",
       " 'y': 'a',\n",
       " 'z': 'b'}"
      ]
     },
     "execution_count": 35,
     "metadata": {},
     "output_type": "execute_result"
    }
   ],
   "source": [
    "d"
   ]
  },
  {
   "cell_type": "code",
   "execution_count": null,
   "metadata": {},
   "outputs": [],
   "source": [
    "s=\"\"\"\n",
    "g fmnc wms bgblr rpylqjyrc gr zw fylb. rfyrq ufyr amknsrcpq ypc dmp. bmgle gr gl zw fylb gq glcddgagclr ylb rfyr'q ufw rfgq rcvr gq qm jmle. sqgle qrpgle.kyicrpylq() gq pcamkkclbcb. lmu ynnjw ml rfc spj. \n",
    "\"\"\"\n",
    "old=\"abcdefghijklmnopqrstuvwxyz\"\n",
    "new=\"cdefghijklmnopqrstuvwxyzab\"\n",
    "string.translate(s,string.maketrans(old,new))"
   ]
  },
  {
   "cell_type": "code",
   "execution_count": null,
   "metadata": {},
   "outputs": [],
   "source": [
    "s=\"\"\"\n",
    "g fmnc wms bgblr rpylqjyrc gr zw fylb. rfyrq ufyr amknsrcpq ypc dmp. bmgle gr gl zw fylb gq glcddgagclr ylb rfyr'q ufw rfgq rcvr gq qm jmle. sqgle qrpgle.kyicrpylq() gq pcamkkclbcb. lmu ynnjw ml rfc spj. \n",
    "\"\"\"\n",
    "ali=list(s)\n",
    "ali"
   ]
  },
  {
   "cell_type": "code",
   "execution_count": null,
   "metadata": {},
   "outputs": [],
   "source": [
    "s=\"g fmnc wms bgblr rpylqjyrc gr zw fylb. rfyrq ufyr amknsrcpq ypc dmp. bmgle gr gl zw fylb gq glcddgagclr ylb rfyr'q ufw rfgq rcvr gq qm jmle. sqgle qrpgle.kyicrpylq() gq pcamkkclbcb. lmu ynnjw ml rfc spj.\"\n",
    "ali=list(s)\n",
    "res=[]\n",
    "for i in ali:\n",
    "    if i.isalpha():\n",
    "        res.append(chr(ord(i)+2))\n",
    "    else:\n",
    "        res.append(i)\n",
    "''.join(res)"
   ]
  },
  {
   "cell_type": "code",
   "execution_count": null,
   "metadata": {},
   "outputs": [],
   "source": []
  },
  {
   "cell_type": "code",
   "execution_count": null,
   "metadata": {},
   "outputs": [],
   "source": []
  }
 ],
 "metadata": {
  "kernelspec": {
   "display_name": "Python 3",
   "language": "python",
   "name": "python3"
  },
  "language_info": {
   "codemirror_mode": {
    "name": "ipython",
    "version": 3
   },
   "file_extension": ".py",
   "mimetype": "text/x-python",
   "name": "python",
   "nbconvert_exporter": "python",
   "pygments_lexer": "ipython3",
   "version": "3.8.1"
  },
  "pycharm": {
   "stem_cell": {
    "cell_type": "raw",
    "metadata": {
     "collapsed": false
    },
    "source": []
   }
  },
  "toc": {
   "base_numbering": 1,
   "nav_menu": {},
   "number_sections": true,
   "sideBar": true,
   "skip_h1_title": false,
   "title_cell": "Table of Contents",
   "title_sidebar": "Contents",
   "toc_cell": false,
   "toc_position": {
    "height": "calc(100% - 180px)",
    "left": "10px",
    "top": "150px",
    "width": "165px"
   },
   "toc_section_display": true,
   "toc_window_display": true
  },
  "varInspector": {
   "cols": {
    "lenName": 16,
    "lenType": 16,
    "lenVar": 40
   },
   "kernels_config": {
    "python": {
     "delete_cmd_postfix": "",
     "delete_cmd_prefix": "del ",
     "library": "var_list.py",
     "varRefreshCmd": "print(var_dic_list())"
    },
    "r": {
     "delete_cmd_postfix": ") ",
     "delete_cmd_prefix": "rm(",
     "library": "var_list.r",
     "varRefreshCmd": "cat(var_dic_list()) "
    }
   },
   "types_to_exclude": [
    "module",
    "function",
    "builtin_function_or_method",
    "instance",
    "_Feature"
   ],
   "window_display": false
  }
 },
 "nbformat": 4,
 "nbformat_minor": 4
}
