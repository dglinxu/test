{
 "cells": [
  {
   "cell_type": "code",
   "execution_count": null,
   "metadata": {
    "pycharm": {
     "is_executing": false
    }
   },
   "outputs": [],
   "source": [
    "%config IPCompleter.greedy=True"
   ]
  },
  {
   "cell_type": "code",
   "execution_count": 48,
   "metadata": {},
   "outputs": [
    {
     "name": "stdout",
     "output_type": "stream",
     "text": [
      "1870\n",
      "[('the', 103), ('of', 99), (',', 77), ('.', 75), ('to', 59), ('and', 53), ('a', 37), ('we', 33), ('be', 33), ('will', 27), ('that', 24), ('is', 23), ('in', 22), ('as', 20), ('freedom', 20), ('this', 20), ('\"', 20), ('from', 18), ('our', 17), ('have', 17), ('with', 16), ('i', 15), ('negro', 15), ('one', 13), ('not', 13), ('let', 13), ('day', 12), ('ring', 12), ('nation', 11), (\"'\", 11), ('dream', 11), ('come', 10), ('every', 10), ('today', 9), ('go', 9), ('for', 9), ('back', 9), ('you', 8), ('by', 8), ('are', 8), ('justice', 8), ('must', 8), ('able', 8), ('s', 7), ('when', 7), ('all', 7), ('their', 7), ('satisfied', 7), ('together', 7), ('it', 6), ('long', 6), ('but', 6), ('white', 6), ('there', 6), ('now', 6), ('cannot', 6), ('!', 6), ('years', 5), ('great', 5), ('free', 5), ('on', 5), ('check', 5), ('which', 5), ('men', 5), ('america', 5), ('has', 5), ('time', 5), ('children', 5), ('my', 5), (':', 5), ('new', 5), ('shall', 5), ('faith', 5), ('down', 4), ('american', 4), ('hope', 4), ('who', 4), ('hundred', 4), ('later', 4), ('still', 4), ('an', 4), ('land', 4), ('so', 4), ('black', 4), ('us', 4), ('god', 4), ('until', 4), ('into', 4), ('up', 4), ('can', 4), ('mississippi', 4), ('at', 4), ('mountain', 4), ('join', 3), ('stand', 3), ('injustice', 3), ('his', 3), ('ve', 3), ('here', 3), ('words', 3), ('they', 3), ('note', 3), ('rights', 3), ('people', 3), ('no', 3), ('make', 3), ('rise', 3), ('valley', 3), ('brotherhood', 3), ('sweltering', 3), ('never', 3), ('some', 3), ('out', 3), ('where', 3), ('--', 3), ('alabama', 3), ('georgia', 3), ('its', 3), ('state', 3), ('little', 3), ('made', 3), ('sing', 3), ('last', 3), ('am', 2), ('history', 2), ('came', 2), ('slaves', 2), ('been', 2), ('end', 2), ('bad', 2), ('life', 2), ('segregation', 2), ('cash', 2), ('promissory', 2), ('was', 2), ('would', 2), ('liberty', 2), ('color', 2), ('insufficient', 2), ('funds', 2), ('refuse', 2), ('believe', 2), ('urgency', 2), ('off', 2), ('racial', 2), ('those', 2), ('content', 2), ('if', 2), ('continue', 2), ('say', 2), ('struggle', 2), ('dignity', 2), ('allow', 2), ('creative', 2), ('physical', 2), ('again', 2), ('force', 2), ('brothers', 2), ('realize', 2), ('destiny', 2), ('walk', 2), ('police', 2), ('brutality', 2), ('cities', 2), ('only', 2), ('vote', 2), ('york', 2), ('like', 2), ('mighty', 2), ('jail', 2), ('quest', 2), ('suffering', 2), ('work', 2), ('south', 2), ('knowing', 2), ('despair', 2), ('even', 2), ('live', 2), ('true', 2), ('meaning', 2), ('sons', 2), ('former', 2), ('heat', 2), ('boys', 2), ('girls', 2), ('hands', 2), ('hill', 2), ('places', 2), ('stone', 2), ('thee', 2), ('mountainside', 2), ('happy', 1), ('what', 1), ('greatest', 1), ('demonstration', 1), ('five', 1), ('score', 1), ('ago', 1), ('whose', 1), ('symbolic', 1), ('shadow', 1), ('signed', 1), ('emancipation', 1), ('proclamation', 1), ('momentous', 1), ('decree', 1), ('beacon', 1), ('light', 1), ('millions', 1), ('had', 1), ('seared', 1), ('flames', 1), ('withering', 1), ('joyous', 1), ('daybreak', 1), ('night', 1), ('captivity', 1), ('sadly', 1), ('crippled', 1), ('manacles', 1), ('chains', 1), ('discrimination', 1), ('lives', 1), ('lonely', 1), ('island', 1), ('poverty', 1), ('midst', 1), ('vast', 1), ('ocean', 1), ('material', 1), ('prosperity', 1), ('languished', 1), ('corners', 1), ('society', 1), ('finds', 1), ('himself', 1), ('exile', 1), ('own', 1), ('dramatize', 1), ('shameful', 1), ('condition', 1), ('sense', 1), ('capital', 1), ('architects', 1), ('republic', 1), ('wrote', 1), ('magnificent', 1), ('constitution', 1), ('declaration', 1), ('independence', 1), ('were', 1), ('signing', 1), ('fall', 1), ('heir', 1), ('promise', 1), ('yes', 1), ('well', 1), ('guaranteed', 1), ('unalienable', 1), ('pursuit', 1), ('happiness', 1), ('obvious', 1), ('defaulted', 1), ('insofar', 1), ('her', 1), ('citizens', 1), ('concerned', 1), ('instead', 1), ('honoring', 1), ('sacred', 1), ('obligation', 1), ('given', 1), ('marked', 1), ('bank', 1), ('bankrupt', 1), ('vaults', 1), ('opportunity', 1), ('give', 1), ('upon', 1), ('demand', 1), ('riches', 1), ('security', 1), ('also', 1), ('hallowed', 1), ('spot', 1), ('remind', 1), ('fierce', 1), ('engage', 1), ('luxury', 1), ('cooling', 1), ('or', 1), ('take', 1), ('tranquilizing', 1), ('drug', 1), ('gradualism', 1), ('real', 1), ('promises', 1), ('democracy', 1), ('dark', 1), ('desolate', 1), ('sunlit', 1), ('path', 1), ('lift', 1), ('quicksands', 1), ('solid', 1), ('rock', 1), ('reality', 1), ('fatal', 1), ('overlook', 1), ('moment', 1), ('summer', 1), ('legitimate', 1), ('discontent', 1), ('pass', 1), ('invigorating', 1), ('autumn', 1), ('equality', 1), ('nineteen', 1), ('sixty-three', 1), ('beginning', 1), ('needed', 1), ('blow', 1), ('steam', 1), ('rude', 1), ('awakening', 1), ('returns', 1), ('business', 1), ('usual', 1), ('neither', 1), ('rest', 1), ('nor', 1), ('tranquility', 1), ('granted', 1), ('citizenship', 1), ('whirlwinds', 1), ('revolt', 1), ('shake', 1), ('foundations', 1), ('bright', 1), ('emerges', 1), ('something', 1), ('warm', 1), ('threshold', 1), ('leads', 1), ('palace', 1), ('process', 1), ('gaining', 1), ('rightful', 1), ('place', 1), ('guilty', 1), ('wrongful', 1), ('deeds', 1), ('seek', 1), ('satisfy', 1), ('thirst', 1), ('drinking', 1), ('cup', 1), ('bitterness', 1), ('hatred', 1), ('forever', 1), ('conduct', 1), ('high', 1), ('plane', 1), ('discipline', 1), ('protest', 1), ('degenerate', 1), ('violence', 1), ('majestic', 1), ('heights', 1), ('meeting', 1), ('soul', 1), ('marvelous', 1), ('militancy', 1), ('engulfed', 1), ('community', 1), ('lead', 1), ('distrust', 1), ('many', 1), ('evidenced', 1), ('presence', 1), ('tied', 1), ('inextricably', 1), ('bound', 1), ('alone', 1), ('pledge', 1), ('always', 1), ('march', 1), ('ahead', 1), ('turn', 1), ('asking', 1), ('devotees', 1), ('civil', 1), ('satisfied?', 1), ('victim', 1), ('unspeakable', 1), ('horrors', 1), ('bodies', 1), ('heavy', 1), ('fatigue', 1), ('travel', 1), ('gain', 1), ('lodging', 1), ('motels', 1), ('highways', 1), ('hotels', 1), ('basic', 1), ('mobility', 1), ('smaller', 1), ('ghetto', 1), ('larger', 1), ('stripped', 1), ('selfhood', 1), ('robbed', 1), ('signs', 1), ('stating', 1), ('whites', 1), ('believes', 1), ('he', 1), ('nothing', 1), ('rolls', 1), ('waters', 1), ('righteousness', 1), ('stream', 1), ('unmindful', 1), ('trials', 1), ('tribulations', 1), ('fresh', 1), ('narrow', 1), ('cells', 1), ('areas', 1), ('your', 1), ('left', 1), ('battered', 1), ('storms', 1), ('persecution', 1), ('staggered', 1), ('winds', 1), ('veterans', 1), ('unearned', 1), ('redemptive', 1), ('carolina', 1), ('louisiana', 1), ('slums', 1), ('ghettos', 1), ('northern', 1), ('somehow', 1), ('situation', 1), ('changed', 1), ('wallow', 1), ('friends', 1), ('though', 1), ('face', 1), ('difficulties', 1), ('tomorrow', 1), ('deeply', 1), ('rooted', 1), ('creed', 1), ('hold', 1), ('these', 1), ('truths', 1), ('self-evident', 1), ('man', 1), ('created', 1), ('equal', 1), ('red', 1), ('hills', 1), ('slave', 1), ('owners', 1), ('sit', 1), ('table', 1), ('oppression', 1), ('transformed', 1), ('oasis', 1), ('four', 1), ('judged', 1), ('skin', 1), ('character', 1), ('vicious', 1), ('racists', 1), ('governor', 1), ('having', 1), ('lips', 1), ('dripping', 1), ('interposition', 1), ('nullification', 1), ('right', 1), ('sisters', 1), ('exalted', 1), ('low', 1), ('rough', 1), ('plain', 1), ('crooked', 1), ('straight;', 1), ('glory', 1), ('lord', 1), ('revealed', 1), ('flesh', 1), ('see', 1), ('hew', 1), ('transform', 1), ('jangling', 1), ('discords', 1), ('beautiful', 1), ('symphony', 1), ('pray', 1), ('country', 1), ('tis', 1), ('sweet', 1), ('fathers', 1), ('died', 1), ('pilgrim', 1), ('pride', 1), ('become', 1), ('prodigious', 1), ('hilltops', 1), ('hampshire', 1), ('mountains', 1), ('heightening', 1), ('alleghenies', 1), ('pennsylvania', 1), ('snow-capped', 1), ('rockies', 1), ('colorado', 1), ('curvaceous', 1), ('slopes', 1), ('california', 1), ('lookout', 1), ('tennessee', 1), ('molehill', 1), ('happens', 1), ('village', 1), ('hamlet', 1), ('city', 1), ('speed', 1), ('jews', 1), ('gentiles', 1), ('protestants', 1), ('catholics', 1), ('old', 1), ('spiritual', 1), ('thank', 1), ('almighty', 1)]\n"
     ]
    }
   ],
   "source": [
    "'''统计i have a dream 单词使用词频'''\n",
    "def data_clean(line):\n",
    "#     for c in [\"\\\\n\",',','.',':','\"','!',\"'\"]:\n",
    "#         line=line.replace(c,' ')\n",
    "    line=line.replace(\"\\\\n\",' ')  \n",
    "    for c in [',','.',':','\"','!',\"'\"]:\n",
    "        line=line.replace(c,' '+c+' ')\n",
    "    return line\n",
    "    \n",
    "words=[]\n",
    "with open('i have a dream.txt','r') as fp:\n",
    "    lines=fp.readlines()\n",
    "for line in lines:\n",
    "    word=[word.lower() for word in data_clean(line).split() if word]\n",
    "    words.extend(word)\n",
    "print(len(words))\n",
    "words_count=dict()\n",
    "for word in words:\n",
    "    words_count[word]=words_count.get(word,0)+1\n",
    "words_count=sorted(words_count.items(),key=lambda x:x[1],reverse=True)\n",
    "print(words_count)\n",
    "    "
   ]
  },
  {
   "cell_type": "code",
   "execution_count": 36,
   "metadata": {},
   "outputs": [
    {
     "data": {
      "text/plain": [
       "'aaabcdH.de'"
      ]
     },
     "execution_count": 36,
     "metadata": {},
     "output_type": "execute_result"
    }
   ],
   "source": [
    "s='AAabcd,.de'\n",
    "s=s.lower()\n",
    "s.replace(',','H')"
   ]
  },
  {
   "cell_type": "code",
   "execution_count": null,
   "metadata": {},
   "outputs": [],
   "source": [
    "def data_clean1(line):\n",
    "    for c in [\"\\\\n\",\",\",\".\",\":\",\"\\\"\",\"!\",\"'\"]:\n",
    "        line=line.replace(c,' ')\n",
    "    return line\n",
    "s1='abcde,efg.aa!'\n",
    "print(data_clean1(s1))"
   ]
  },
  {
   "cell_type": "code",
   "execution_count": null,
   "metadata": {},
   "outputs": [],
   "source": [
    "def prime(num):\n",
    "    n=int(num**0.5)\n",
    "    for i in range(2,n+1):\n",
    "        if num%i==0:\n",
    "            return False\n",
    "    return True\n",
    "def monisen(no):\n",
    "    count=1\n",
    "    t=2\n",
    "    while True:\n",
    "        if prime(t)==False:\n",
    "            t+=1\n",
    "            continue\n",
    "        m=2**t-1\n",
    "        if prime(m)==False:\n",
    "            t+=1\n",
    "            continue\n",
    "        if count==no:\n",
    "            return m\n",
    "        else:\n",
    "            print(t,m)\n",
    "            t+=1\n",
    "            count+=1\n",
    "            \n",
    "\n",
    "print(monisen(4))        \n",
    "    "
   ]
  },
  {
   "cell_type": "code",
   "execution_count": null,
   "metadata": {},
   "outputs": [],
   "source": [
    "def prime(num):\n",
    "    n=int(num**0.5)\n",
    "    for i in range(2,n+1):\n",
    "        if num%i==0:\n",
    "            return False\n",
    "    return True\n",
    "def monisen(no):\n",
    "    count=1\n",
    "    t=2\n",
    "    while True:\n",
    "        if prime(t)==False:\n",
    "            t+=1\n",
    "            continue\n",
    "        m=2**t-1\n",
    "        if prime(m)==False:\n",
    "            t+=1\n",
    "            continue\n",
    "        if count==no:\n",
    "            return m\n",
    "        else:\n",
    "            print(t,m)\n",
    "            t+=1\n",
    "            count+=1\n",
    "print(monisen(int(input())))\n"
   ]
  },
  {
   "cell_type": "code",
   "execution_count": null,
   "metadata": {},
   "outputs": [],
   "source": [
    "def prime(num):\n",
    "    n=int(num**0.5)\n",
    "    for i in range(2,n+1):\n",
    "        if num%i==0:\n",
    "            return False\n",
    "    return True\n",
    "print(prime(71))"
   ]
  },
  {
   "cell_type": "code",
   "execution_count": null,
   "metadata": {},
   "outputs": [],
   "source": [
    "def fac(n):\n",
    "\n",
    "    if n==1 or n==0:\n",
    "\n",
    "        return False\n",
    "\n",
    "    b=0\n",
    "\n",
    "    for i in range(1,n):\n",
    "\n",
    "        if n % i == 0:\n",
    "\n",
    "            b += i\n",
    "\n",
    "    return b\n",
    "\n",
    "n=int(input())\n",
    "\n",
    "for a in range(1,n+1):\n",
    "\n",
    "    for b in range(a+1,n+1):\n",
    "\n",
    "        if fac(a)==b and fac(b)==a:\n",
    "\n",
    "            print(\"{}-{}\".format(a, b))\n",
    "\n",
    "            break\n"
   ]
  },
  {
   "cell_type": "code",
   "execution_count": null,
   "metadata": {},
   "outputs": [],
   "source": [
    "def fac(n):\n",
    "    res=0\n",
    "    for i in range(1,n//2+1):\n",
    "        if n%i==0:\n",
    "            res+=i\n",
    "    return res\n",
    "n = int(input())\n",
    "for i in range(2,n-1):\n",
    "    t=fac(i)\n",
    "    if t<=i:\n",
    "        continue\n",
    "    elif fac(t)==i:\n",
    "        print(\"{}-{}\".format(i, t))\n",
    "\n",
    "    "
   ]
  },
  {
   "cell_type": "code",
   "execution_count": 52,
   "metadata": {},
   "outputs": [
    {
     "ename": "Exception",
     "evalue": "抱歉，您没有访问该接口的权限，权限的具体详情访问：https://tushare.pro/document/1?doc_id=108。",
     "output_type": "error",
     "traceback": [
      "\u001b[1;31m---------------------------------------------------------------------------\u001b[0m",
      "\u001b[1;31mException\u001b[0m                                 Traceback (most recent call last)",
      "\u001b[1;32m<ipython-input-52-7c9fc1ce4562>\u001b[0m in \u001b[0;36m<module>\u001b[1;34m\u001b[0m\n\u001b[0;32m      3\u001b[0m \u001b[0mts\u001b[0m\u001b[1;33m.\u001b[0m\u001b[0mset_token\u001b[0m\u001b[1;33m(\u001b[0m\u001b[1;34m'd395ba7d2500948651273858dd5eb26862dc383eaa7522d956a71be1'\u001b[0m\u001b[1;33m)\u001b[0m\u001b[1;33m\u001b[0m\u001b[1;33m\u001b[0m\u001b[0m\n\u001b[0;32m      4\u001b[0m \u001b[0mpro\u001b[0m \u001b[1;33m=\u001b[0m \u001b[0mts\u001b[0m\u001b[1;33m.\u001b[0m\u001b[0mpro_api\u001b[0m\u001b[1;33m(\u001b[0m\u001b[1;33m)\u001b[0m\u001b[1;33m\u001b[0m\u001b[1;33m\u001b[0m\u001b[0m\n\u001b[1;32m----> 5\u001b[1;33m \u001b[0mdf\u001b[0m \u001b[1;33m=\u001b[0m \u001b[0mpro\u001b[0m\u001b[1;33m.\u001b[0m\u001b[0mnews\u001b[0m\u001b[1;33m(\u001b[0m\u001b[0msrc\u001b[0m\u001b[1;33m=\u001b[0m\u001b[1;34m'sina'\u001b[0m\u001b[1;33m,\u001b[0m \u001b[0mstart_date\u001b[0m\u001b[1;33m=\u001b[0m\u001b[1;34m'2020-03-01 09:00:00'\u001b[0m\u001b[1;33m,\u001b[0m \u001b[0mend_date\u001b[0m\u001b[1;33m=\u001b[0m\u001b[1;34m'2020-03-22 22:10:00'\u001b[0m\u001b[1;33m)\u001b[0m\u001b[1;33m\u001b[0m\u001b[1;33m\u001b[0m\u001b[0m\n\u001b[0m\u001b[0;32m      6\u001b[0m \u001b[0mprint\u001b[0m\u001b[1;33m(\u001b[0m\u001b[0mdf\u001b[0m\u001b[1;33m)\u001b[0m\u001b[1;33m\u001b[0m\u001b[1;33m\u001b[0m\u001b[0m\n",
      "\u001b[1;32mc:\\program files\\python38\\lib\\site-packages\\tushare\\pro\\client.py\u001b[0m in \u001b[0;36mquery\u001b[1;34m(self, api_name, fields, **kwargs)\u001b[0m\n\u001b[0;32m     41\u001b[0m         \u001b[0mresult\u001b[0m \u001b[1;33m=\u001b[0m \u001b[0mjson\u001b[0m\u001b[1;33m.\u001b[0m\u001b[0mloads\u001b[0m\u001b[1;33m(\u001b[0m\u001b[0mres\u001b[0m\u001b[1;33m.\u001b[0m\u001b[0mtext\u001b[0m\u001b[1;33m)\u001b[0m\u001b[1;33m\u001b[0m\u001b[1;33m\u001b[0m\u001b[0m\n\u001b[0;32m     42\u001b[0m         \u001b[1;32mif\u001b[0m \u001b[0mresult\u001b[0m\u001b[1;33m[\u001b[0m\u001b[1;34m'code'\u001b[0m\u001b[1;33m]\u001b[0m \u001b[1;33m!=\u001b[0m \u001b[1;36m0\u001b[0m\u001b[1;33m:\u001b[0m\u001b[1;33m\u001b[0m\u001b[1;33m\u001b[0m\u001b[0m\n\u001b[1;32m---> 43\u001b[1;33m             \u001b[1;32mraise\u001b[0m \u001b[0mException\u001b[0m\u001b[1;33m(\u001b[0m\u001b[0mresult\u001b[0m\u001b[1;33m[\u001b[0m\u001b[1;34m'msg'\u001b[0m\u001b[1;33m]\u001b[0m\u001b[1;33m)\u001b[0m\u001b[1;33m\u001b[0m\u001b[1;33m\u001b[0m\u001b[0m\n\u001b[0m\u001b[0;32m     44\u001b[0m         \u001b[0mdata\u001b[0m \u001b[1;33m=\u001b[0m \u001b[0mresult\u001b[0m\u001b[1;33m[\u001b[0m\u001b[1;34m'data'\u001b[0m\u001b[1;33m]\u001b[0m\u001b[1;33m\u001b[0m\u001b[1;33m\u001b[0m\u001b[0m\n\u001b[0;32m     45\u001b[0m         \u001b[0mcolumns\u001b[0m \u001b[1;33m=\u001b[0m \u001b[0mdata\u001b[0m\u001b[1;33m[\u001b[0m\u001b[1;34m'fields'\u001b[0m\u001b[1;33m]\u001b[0m\u001b[1;33m\u001b[0m\u001b[1;33m\u001b[0m\u001b[0m\n",
      "\u001b[1;31mException\u001b[0m: 抱歉，您没有访问该接口的权限，权限的具体详情访问：https://tushare.pro/document/1?doc_id=108。"
     ]
    }
   ],
   "source": [
    "import tushare as ts\n",
    "import pandas as pd\n",
    "ts.set_token('d395ba7d2500948651273858dd5eb26862dc383eaa7522d956a71be1')\n",
    "pro = ts.pro_api()\n",
    "df = pro.news(src='sina', start_date='2020-03-01 09:00:00', end_date='2020-03-22 22:10:00')\n",
    "print(df)"
   ]
  },
  {
   "cell_type": "code",
   "execution_count": 1,
   "metadata": {},
   "outputs": [
    {
     "name": "stdout",
     "output_type": "stream",
     "text": [
      "list index out of range\n"
     ]
    }
   ],
   "source": [
    "import tushare as ts\n",
    "import pandas as pd\n",
    "ts.get_latest_news()"
   ]
  },
  {
   "cell_type": "code",
   "execution_count": null,
   "metadata": {},
   "outputs": [],
   "source": [
    "ts."
   ]
  },
  {
   "cell_type": "code",
   "execution_count": null,
   "metadata": {},
   "outputs": [],
   "source": []
  }
 ],
 "metadata": {
  "kernelspec": {
   "display_name": "Python 3",
   "language": "python",
   "name": "python3"
  },
  "language_info": {
   "codemirror_mode": {
    "name": "ipython",
    "version": 3
   },
   "file_extension": ".py",
   "mimetype": "text/x-python",
   "name": "python",
   "nbconvert_exporter": "python",
   "pygments_lexer": "ipython3",
   "version": "3.8.1"
  },
  "pycharm": {
   "stem_cell": {
    "cell_type": "raw",
    "metadata": {
     "collapsed": false
    },
    "source": []
   }
  },
  "toc": {
   "base_numbering": 1,
   "nav_menu": {},
   "number_sections": true,
   "sideBar": true,
   "skip_h1_title": false,
   "title_cell": "Table of Contents",
   "title_sidebar": "Contents",
   "toc_cell": false,
   "toc_position": {
    "height": "calc(100% - 180px)",
    "left": "10px",
    "top": "150px",
    "width": "165px"
   },
   "toc_section_display": true,
   "toc_window_display": true
  },
  "varInspector": {
   "cols": {
    "lenName": 16,
    "lenType": 16,
    "lenVar": 40
   },
   "kernels_config": {
    "python": {
     "delete_cmd_postfix": "",
     "delete_cmd_prefix": "del ",
     "library": "var_list.py",
     "varRefreshCmd": "print(var_dic_list())"
    },
    "r": {
     "delete_cmd_postfix": ") ",
     "delete_cmd_prefix": "rm(",
     "library": "var_list.r",
     "varRefreshCmd": "cat(var_dic_list()) "
    }
   },
   "types_to_exclude": [
    "module",
    "function",
    "builtin_function_or_method",
    "instance",
    "_Feature"
   ],
   "window_display": false
  }
 },
 "nbformat": 4,
 "nbformat_minor": 4
}
