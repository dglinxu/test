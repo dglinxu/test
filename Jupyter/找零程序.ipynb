{
 "cells": [
  {
   "cell_type": "markdown",
   "metadata": {},
   "source": [
    "# 找零钱"
   ]
  },
  {
   "cell_type": "code",
   "execution_count": 9,
   "metadata": {},
   "outputs": [],
   "source": [
    "def make_change(amount,coins,hand=None):\n",
    "    hand=[] if hand is None else hand\n",
    "    if amount==0:\n",
    "        yield hand\n",
    "    for coin in coins:\n",
    "        if coin > amount or (len(hand)>0 and hand[-1] > coin):\n",
    "            continue\n",
    "        for result in make_change(amount-coin,coins,hand=hand+[coin]):\n",
    "            yield  result      "
   ]
  },
  {
   "cell_type": "code",
   "execution_count": 13,
   "metadata": {},
   "outputs": [
    {
     "name": "stdout",
     "output_type": "stream",
     "text": [
      "[10, 10, 10, 10, 10, 10, 10, 10, 10, 10]\n",
      "[10, 10, 10, 10, 10, 25, 25]\n",
      "[10, 10, 10, 10, 10, 50]\n",
      "[25, 25, 25, 25]\n",
      "[25, 25, 50]\n",
      "[50, 50]\n"
     ]
    }
   ],
   "source": [
    "for way in make_change(100,coins=[10,25,50]):\n",
    "    print(way)"
   ]
  },
  {
   "cell_type": "code",
   "execution_count": null,
   "metadata": {
    "scrolled": false
   },
   "outputs": [],
   "source": [
    "for way in make_change(50,coins=[1,2,5,10,20]):\n",
    "    print(way)"
   ]
  },
  {
   "cell_type": "code",
   "execution_count": null,
   "metadata": {},
   "outputs": [],
   "source": [
    "def make_change(amount,coins=[1,5,10,25],hand=None):\n",
    "    #三元表达式\n",
    "    hand = [] if hand is None else hand\n",
    "    #递归结束点，不断在hand列表生成元素\n",
    "    if amount == 0:\n",
    "        yield hand\n",
    "        #最后amount==0生成的hand将作为返回值进行迭代，然后不断的迭代返回\n",
    "    for coin in coins:\n",
    "        #确保我们给出的硬币没有超出总额，且组合是唯一的\n",
    "        if coin > amount or (len(hand) >0 and hand[-1] < coin):\n",
    "            #如果coins里的元素大于要分配的美分，进行下一次循环。\n",
    "            # 或者hand处理方法的长度大于0并且处理方法的最后一个元素比现在的coin元素下，尝试进行下一个coin的比较\n",
    "            continue\n",
    "        for result in make_change(amount - coin,coins=coins,hand=hand+[coin]):\n",
    "            yield result\n",
    "for way in make_change(100,coins=[10,25,50]):\n",
    "    print way```\n",
    "\n"
   ]
  },
  {
   "cell_type": "markdown",
   "metadata": {},
   "source": [
    "### 强迫症老板和他的洗碗工\n",
    "题目内容：\n",
    "洗碗工小明碰上了一位强迫症老板老王，餐厅一共就10只盘子，老板给仔细编上了0～9等10个号码，并要求小明按照从0到9的编号来洗盘子，当然，每洗好一只盘子，就必须得整齐叠放起来。\n",
    "小明洗盘子期间，经常就有顾客来取盘子，当然每位顾客只能从盘子堆最上面取1只盘子离开。\n",
    "老王在收银台仔细地记录了顾客依次取到盘子的编号，比如“1043257689”，这样他就能判断小明是不是遵照命令按照0123456789的次序来洗盘子了。\n",
    "\n",
    "你也能像老王一样作出准确的判断吗？\n",
    "\n",
    "输入格式:\n",
    "长度为10的字符串，其中只包含0～9的数字，且不重复，代表顾客依次取到的盘子编号\n",
    "\n",
    "输出格式：\n",
    "字符串：Yes或者No，表示遵照次序洗盘子，或者没有遵照次序洗盘子\n",
    "\n",
    "输入样例1：\n",
    "1043257689\n",
    "输出样例1：\n",
    "Yes\n",
    "\n",
    "输入样例2：\n",
    "4230178956\n",
    "输出样例2：\n",
    "No\n",
    "\n"
   ]
  },
  {
   "cell_type": "code",
   "execution_count": 2,
   "metadata": {},
   "outputs": [
    {
     "name": "stdout",
     "output_type": "stream",
     "text": [
      "4230178956\n",
      "No\n"
     ]
    }
   ],
   "source": [
    "s=input()\n",
    "def f(s):\n",
    "    t=[-1]\n",
    "    r=[]\n",
    "    for i in s:\n",
    "        d=int(i)\n",
    "        r.append(d)\n",
    "        if d>t[-1]:\n",
    "            t.extend([i for i in range(d-1) if i not in r])\n",
    "        elif d==t[-1]:\n",
    "            t.pop()            \n",
    "        else:\n",
    "            return 'No'\n",
    "    return 'Yes'\n",
    "print(f(s))"
   ]
  },
  {
   "cell_type": "code",
   "execution_count": 9,
   "metadata": {},
   "outputs": [
    {
     "name": "stdout",
     "output_type": "stream",
     "text": [
      "7\n",
      "      *\n",
      "    * *\n",
      "    *  *\n",
      "    *   *\n",
      "    *    *\n",
      "    *     *\n",
      "    *      *\n",
      "    *       *\n",
      "    *        *\n",
      "    *         *\n",
      "    *          *\n",
      "    *           *\n",
      "    *            *\n",
      "    *             *\n",
      "***************\n"
     ]
    }
   ],
   "source": [
    "def f(n):\n",
    "    m=n//2\n",
    "    print(m)\n",
    "    print('*'.rjust(m))\n",
    "    for i in range(n-2):\n",
    "        print(('*'+' '*(i+1)+'*').rjust(m+i))\n",
    "    print('*'*n)\n",
    "f(15)"
   ]
  },
  {
   "cell_type": "code",
   "execution_count": 17,
   "metadata": {},
   "outputs": [
    {
     "name": "stdout",
     "output_type": "stream",
     "text": [
      "Microsoft Windows [版本 10.0.18363.693]\r\n",
      "(c) 2019 Microsoft Corporation。保留所有权利。\r\n",
      "\r\n",
      "I:\\python\\Jupyter>ping www.baidu.com -j host-list\n",
      "错误的参数 host-list。\r\n",
      "\r\n",
      "I:\\python\\Jupyter>"
     ]
    }
   ],
   "source": [
    "%%cmd\n",
    "ping www.baidu.com -j host-list"
   ]
  },
  {
   "cell_type": "code",
   "execution_count": null,
   "metadata": {},
   "outputs": [],
   "source": [
    "import "
   ]
  }
 ],
 "metadata": {
  "kernelspec": {
   "display_name": "Python 3",
   "language": "python",
   "name": "python3"
  },
  "language_info": {
   "codemirror_mode": {
    "name": "ipython",
    "version": 3
   },
   "file_extension": ".py",
   "mimetype": "text/x-python",
   "name": "python",
   "nbconvert_exporter": "python",
   "pygments_lexer": "ipython3",
   "version": "3.8.0"
  },
  "toc": {
   "base_numbering": 1,
   "nav_menu": {},
   "number_sections": true,
   "sideBar": true,
   "skip_h1_title": false,
   "title_cell": "Table of Contents",
   "title_sidebar": "Contents",
   "toc_cell": false,
   "toc_position": {},
   "toc_section_display": true,
   "toc_window_display": false
  },
  "varInspector": {
   "cols": {
    "lenName": 16,
    "lenType": 16,
    "lenVar": 40
   },
   "kernels_config": {
    "python": {
     "delete_cmd_postfix": "",
     "delete_cmd_prefix": "del ",
     "library": "var_list.py",
     "varRefreshCmd": "print(var_dic_list())"
    },
    "r": {
     "delete_cmd_postfix": ") ",
     "delete_cmd_prefix": "rm(",
     "library": "var_list.r",
     "varRefreshCmd": "cat(var_dic_list()) "
    }
   },
   "types_to_exclude": [
    "module",
    "function",
    "builtin_function_or_method",
    "instance",
    "_Feature"
   ],
   "window_display": false
  }
 },
 "nbformat": 4,
 "nbformat_minor": 4
}
