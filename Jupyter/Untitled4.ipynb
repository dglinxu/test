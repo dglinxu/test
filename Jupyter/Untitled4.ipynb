{
 "cells": [
  {
   "cell_type": "code",
   "execution_count": null,
   "metadata": {
    "scrolled": true
   },
   "outputs": [],
   "source": [
    "def next_smaller(n):\n",
    "    pass\n",
    "    sn=list(str(n))\n",
    "    if sn==sorted(sn):\n",
    "        return -1\n",
    "    for i in range(len(sn)-1,0,-1):\n",
    "        if sn[i]<sn[i-1]:\n",
    "            print(sn)\n",
    "            sn[i],sn[i-1]=sn[i-1],sn[i]\n",
    "            print(sn[i],sn[i])\n",
    "            print('.......')\n",
    "            print(sn)\n",
    "            break\n",
    "    return int(''.join(sn))\n",
    "next_smaller(907) #1234567890"
   ]
  },
  {
   "cell_type": "code",
   "execution_count": null,
   "metadata": {
    "scrolled": true
   },
   "outputs": [],
   "source": [
    "\"{:02x} {:x}\".format(1,20) "
   ]
  },
  {
   "cell_type": "code",
   "execution_count": null,
   "metadata": {
    "scrolled": true
   },
   "outputs": [],
   "source": [
    "print(\"{:03}\".format(34))"
   ]
  },
  {
   "cell_type": "code",
   "execution_count": null,
   "metadata": {
    "scrolled": true
   },
   "outputs": [],
   "source": [
    "def fibonacci(n):\n",
    "    a,b=0,1\n",
    "    for i in range(2,n+1):\n",
    "        a,b=b,a+b\n",
    "\n",
    "    return b\n",
    "fibonacci(70)"
   ]
  },
  {
   "cell_type": "code",
   "execution_count": null,
   "metadata": {
    "scrolled": true
   },
   "outputs": [],
   "source": [
    "array = [1, 3, 5]\n",
    "g = (x for x in array if array.count(x) > 0)\n",
    "array = [5, 7, 9]\n",
    "list(g)"
   ]
  },
  {
   "cell_type": "code",
   "execution_count": null,
   "metadata": {
    "scrolled": true
   },
   "outputs": [],
   "source": [
    "y,m,d=list(map(int,input().split('/')))\n",
    "date_list=[31,28,31,30,31,30,31,31,30,31,30,31]\n",
    "if(y%4==0 and y%100!=0) or y%400==0:\n",
    "    date_list[1]+=1\n",
    "ans=sum(date_list[:m-1])+d\n",
    "print(ans)"
   ]
  },
  {
   "cell_type": "code",
   "execution_count": null,
   "metadata": {
    "scrolled": true
   },
   "outputs": [],
   "source": [
    "n=int(input())\n",
    "m=int(input())\n",
    "person=list(range(n))\n",
    "ans=[]\n",
    "i=0\n",
    "while n>0:\n",
    "    i+=m-1\n",
    "    i=i%n\n",
    "    ans.append(person.pop(i))\n",
    "    n-=1\n",
    "print(ans)\n",
    "    \n",
    "    \n",
    "    "
   ]
  },
  {
   "cell_type": "code",
   "execution_count": 19,
   "metadata": {
    "scrolled": true
   },
   "outputs": [
    {
     "name": "stdout",
     "output_type": "stream",
     "text": [
      "This is new！\n",
      "input number is : 1\n",
      "This is init.\n",
      "This is del.\n"
     ]
    }
   ],
   "source": [
    "class A:\n",
    "    '''This is a class.'''\n",
    "    def __init__(self,n):\n",
    "        self.n=n\n",
    "        print('This is init.')\n",
    "    def __new__(cls,n):\n",
    "        print('This is new！')\n",
    "        print('input number is :',n)\n",
    "        return super().__new__(cls)\n",
    "     \n",
    "    def __del__(self):\n",
    "        print('This is del.')\n",
    "a=A(1)\n",
    "del a\n"
   ]
  },
  {
   "cell_type": "code",
   "execution_count": 30,
   "metadata": {
    "scrolled": true
   },
   "outputs": [
    {
     "name": "stdout",
     "output_type": "stream",
     "text": [
      "128092192\n",
      "128092192\n",
      "128092192\n"
     ]
    }
   ],
   "source": [
    "class CapStr:\n",
    "    def __new__(cls, s):\n",
    "        self_in_init = super().__new__(cls)\n",
    "        print(id(self_in_init))\n",
    "        return self_in_init\n",
    "    def __init__(self,s):\n",
    "        print(id(self))\n",
    " \n",
    "a = CapStr(10)\n",
    "print(id(a))"
   ]
  },
  {
   "cell_type": "code",
   "execution_count": 15,
   "metadata": {
    "scrolled": true
   },
   "outputs": [],
   "source": [
    "class A:\n",
    "    a = 'a'\n",
    "    @staticmethod\n",
    "    def foo1(cls,name):\n",
    "        print('hello', name)\n",
    "    def foo2(self, name):\n",
    "        print('hello', name)\n",
    "    \n",
    "    @classmethod\n",
    "    def foo3(cls, name):\n",
    "        print('hello', name)\n",
    "\n",
    "\n"
   ]
  },
  {
   "cell_type": "code",
   "execution_count": 14,
   "metadata": {},
   "outputs": [
    {
     "ename": "TypeError",
     "evalue": "foo1() missing 1 required positional argument: 'name'",
     "output_type": "error",
     "traceback": [
      "\u001b[1;31m---------------------------------------------------------------------------\u001b[0m",
      "\u001b[1;31mTypeError\u001b[0m                                 Traceback (most recent call last)",
      "\u001b[1;32m<ipython-input-14-62e24559440a>\u001b[0m in \u001b[0;36m<module>\u001b[1;34m\u001b[0m\n\u001b[0;32m      1\u001b[0m \u001b[0ma\u001b[0m\u001b[1;33m=\u001b[0m\u001b[0mA\u001b[0m\u001b[1;33m(\u001b[0m\u001b[1;33m)\u001b[0m\u001b[1;33m\u001b[0m\u001b[1;33m\u001b[0m\u001b[0m\n\u001b[1;32m----> 2\u001b[1;33m \u001b[0ma\u001b[0m\u001b[1;33m.\u001b[0m\u001b[0mfoo1\u001b[0m\u001b[1;33m(\u001b[0m\u001b[1;34m'阿土仔'\u001b[0m\u001b[1;33m)\u001b[0m\u001b[1;33m\u001b[0m\u001b[1;33m\u001b[0m\u001b[0m\n\u001b[0m\u001b[0;32m      3\u001b[0m \u001b[0mA\u001b[0m\u001b[1;33m.\u001b[0m\u001b[0mfoo1\u001b[0m\u001b[1;33m(\u001b[0m\u001b[1;34m'阿土仔'\u001b[0m\u001b[1;33m)\u001b[0m\u001b[1;33m\u001b[0m\u001b[1;33m\u001b[0m\u001b[0m\n",
      "\u001b[1;31mTypeError\u001b[0m: foo1() missing 1 required positional argument: 'name'"
     ]
    }
   ],
   "source": [
    "a=A()\n",
    "a.foo1('阿土仔')\n",
    "A.foo1('阿土仔')"
   ]
  },
  {
   "cell_type": "code",
   "execution_count": 16,
   "metadata": {},
   "outputs": [
    {
     "name": "stdout",
     "output_type": "stream",
     "text": [
      "hello 阿土仔\n"
     ]
    },
    {
     "ename": "TypeError",
     "evalue": "foo2() missing 1 required positional argument: 'name'",
     "output_type": "error",
     "traceback": [
      "\u001b[1;31m---------------------------------------------------------------------------\u001b[0m",
      "\u001b[1;31mTypeError\u001b[0m                                 Traceback (most recent call last)",
      "\u001b[1;32m<ipython-input-16-fa04f8a50719>\u001b[0m in \u001b[0;36m<module>\u001b[1;34m\u001b[0m\n\u001b[0;32m      1\u001b[0m \u001b[0ma\u001b[0m\u001b[1;33m.\u001b[0m\u001b[0mfoo2\u001b[0m\u001b[1;33m(\u001b[0m\u001b[1;34m'阿土仔'\u001b[0m\u001b[1;33m)\u001b[0m\u001b[1;33m\u001b[0m\u001b[1;33m\u001b[0m\u001b[0m\n\u001b[1;32m----> 2\u001b[1;33m \u001b[0mA\u001b[0m\u001b[1;33m.\u001b[0m\u001b[0mfoo2\u001b[0m\u001b[1;33m(\u001b[0m\u001b[1;34m'阿土仔'\u001b[0m\u001b[1;33m)\u001b[0m\u001b[1;33m\u001b[0m\u001b[1;33m\u001b[0m\u001b[0m\n\u001b[0m",
      "\u001b[1;31mTypeError\u001b[0m: foo2() missing 1 required positional argument: 'name'"
     ]
    }
   ],
   "source": [
    "a.foo2('阿土仔')\n",
    "A.foo2('阿土仔')"
   ]
  },
  {
   "cell_type": "code",
   "execution_count": 22,
   "metadata": {},
   "outputs": [
    {
     "name": "stdout",
     "output_type": "stream",
     "text": [
      "1\n",
      "2\n",
      "5\n",
      "[2, 3, 5]\n"
     ]
    }
   ],
   "source": [
    "x=int(input())\n",
    "y=int(input())\n",
    "n=int(input())\n",
    "res=[]\n",
    "for i in range(n+1):\n",
    "    s1=x**i\n",
    "    for j in range(n+1):\n",
    "        s=s1+y**j\n",
    "        if s<=n and s not in res:\n",
    "            res.append(s)\n",
    "        elif s>n:\n",
    "            break\n",
    "print(sorted(res))\n",
    "    "
   ]
  },
  {
   "cell_type": "code",
   "execution_count": 15,
   "metadata": {},
   "outputs": [
    {
     "name": "stdout",
     "output_type": "stream",
     "text": [
      "jack tom\n",
      "96 98\n",
      "90 92\n",
      "99 98\n",
      "tom 98 92 98\n"
     ]
    }
   ],
   "source": [
    "class Students:\n",
    "    score={}\n",
    "    def __init__(self,sname,cscore,mscore,escore):\n",
    "        Students.score[sname]=[cscore,mscore,escore]\n",
    "    def top_Student(self):\n",
    "        return max(Students.score.items(),key=lambda x:sum(x[1]))\n",
    "sname=input().split()\n",
    "cscore=list(map(int,input().split()))\n",
    "mscore=list(map(int,input().split()))\n",
    "escore=list(map(int,input().split()))\n",
    "\n",
    "for i in range(len(sname)):\n",
    "    Students(sname[i],cscore[i],mscore[i],escore[i])\n",
    "a,b=Students.top_Student(Students.score)\n",
    "print(a,b[0],b[1],b[2])\n",
    "        \n",
    "            \n",
    "            "
   ]
  },
  {
   "cell_type": "code",
   "execution_count": 32,
   "metadata": {},
   "outputs": [
    {
     "data": {
      "text/plain": [
       "2"
      ]
     },
     "execution_count": 32,
     "metadata": {},
     "output_type": "execute_result"
    }
   ],
   "source": [
    "class B:\n",
    "    s=0\n",
    "    __m=0\n",
    "    def __init__(self,n):\n",
    "        B.s+=n\n",
    "B.__m=2\n",
    "B.__m"
   ]
  },
  {
   "cell_type": "code",
   "execution_count": 5,
   "metadata": {},
   "outputs": [
    {
     "data": {
      "text/plain": [
       "('c', [3, 5, 6])"
      ]
     },
     "execution_count": 5,
     "metadata": {},
     "output_type": "execute_result"
    }
   ],
   "source": [
    "d={'a':[1,2,3],'b':[2,4,5],'c':[3,5,6]}\n",
    "max(d.items(),key=lambda x:sum(x[1]))\n"
   ]
  },
  {
   "cell_type": "code",
   "execution_count": 25,
   "metadata": {},
   "outputs": [
    {
     "name": "stdout",
     "output_type": "stream",
     "text": [
      "2 1 2\n",
      "5\n"
     ]
    }
   ],
   "source": [
    "alist=list(map(int,input().split()))\n",
    "n=len(alist)\n",
    "m=0\n",
    "for i in range(n-2):\n",
    "    for j in range(i+1,n-1):\n",
    "        for k in range(j+1,n):\n",
    "            if (alist[i]+alist[j]>alist[k]) and (alist[i]+alist[k]>alist[j]) and (alist[k]+alist[j]>alist[i]):\n",
    "                m=max(m,alist[i]+alist[j]+alist[k])\n",
    "print(m)\n",
    "                "
   ]
  },
  {
   "cell_type": "code",
   "execution_count": 29,
   "metadata": {},
   "outputs": [
    {
     "name": "stdout",
     "output_type": "stream",
     "text": [
      "100\n"
     ]
    }
   ],
   "source": [
    "class parent:\n",
    "    def __init__(self,param):\n",
    "        self.v1=param\n",
    "class child(parent):\n",
    "    def __init__(self,param):\n",
    "        parent.__init__(self,param)\n",
    "        self.v2=param\n",
    "odj=child(100)\n",
    "\n",
    "print(odj.v2)"
   ]
  },
  {
   "cell_type": "code",
   "execution_count": 77,
   "metadata": {},
   "outputs": [
    {
     "name": "stdout",
     "output_type": "stream",
     "text": [
      "100\n",
      "100\n"
     ]
    }
   ],
   "source": [
    "class A:\n",
    "    n=0\n",
    "    t=100\n",
    "    __m=100\n",
    "    def __init__(self,a):\n",
    "        self.x=a\n",
    "        A.n+=1\n",
    "        print(A.__m)\n",
    "    def r(self):\n",
    "        return A.__m\n",
    "a1=A(10)\n",
    "a2=A(20)\n"
   ]
  },
  {
   "cell_type": "code",
   "execution_count": 76,
   "metadata": {},
   "outputs": [
    {
     "ename": "AttributeError",
     "evalue": "type object 'A' has no attribute '__m'",
     "output_type": "error",
     "traceback": [
      "\u001b[1;31m---------------------------------------------------------------------------\u001b[0m",
      "\u001b[1;31mAttributeError\u001b[0m                            Traceback (most recent call last)",
      "\u001b[1;32m<ipython-input-76-af3ad3dbd351>\u001b[0m in \u001b[0;36m<module>\u001b[1;34m\u001b[0m\n\u001b[1;32m----> 1\u001b[1;33m \u001b[0mA\u001b[0m\u001b[1;33m.\u001b[0m\u001b[0m__m\u001b[0m\u001b[1;33m\u001b[0m\u001b[1;33m\u001b[0m\u001b[0m\n\u001b[0m",
      "\u001b[1;31mAttributeError\u001b[0m: type object 'A' has no attribute '__m'"
     ]
    }
   ],
   "source": [
    "A.__m"
   ]
  },
  {
   "cell_type": "code",
   "execution_count": 68,
   "metadata": {},
   "outputs": [],
   "source": [
    "A.t=1000"
   ]
  },
  {
   "cell_type": "code",
   "execution_count": 73,
   "metadata": {},
   "outputs": [
    {
     "data": {
      "text/plain": [
       "1000"
      ]
     },
     "execution_count": 73,
     "metadata": {},
     "output_type": "execute_result"
    }
   ],
   "source": [
    "a2.t"
   ]
  },
  {
   "cell_type": "code",
   "execution_count": 83,
   "metadata": {},
   "outputs": [
    {
     "name": "stdout",
     "output_type": "stream",
     "text": [
      "类属性：Student.i--> 1\n",
      "类私有属性：Student._Student__j--> 2\n",
      "类属性可以实例调用：st1.i--> 1\n",
      "类属性：Student.i--> 1\n",
      "24\n",
      "类私有属性的实例化调用：st1._Student__age--> 24\n"
     ]
    }
   ],
   "source": [
    "class Student():\n",
    "    i = 1\n",
    "    __j = 2\n",
    "    \n",
    "    def __init__(self,name,age):  \n",
    "        self.name = name\n",
    "        self.__age = age\n",
    "        \n",
    "    def pt_age(self):\n",
    "        print(self.__age)\n",
    "        \n",
    "print('类属性：Student.i-->',Student.i)\n",
    "print('类私有属性：Student._Student__j-->',Student._Student__j)\n",
    " \n",
    "st1 = Student('tao',24)\n",
    "st2 = Student('阿土仔',25)\n",
    "print('类属性可以实例调用：st1.i-->',st1.i)\n",
    "print('类属性：Student.i-->',Student.i)\n",
    "\n",
    "st1.pt_age()\n",
    "print('类私有属性的实例化调用：st1._Student__age-->',st1._Student__age)\n"
   ]
  },
  {
   "cell_type": "code",
   "execution_count": 58,
   "metadata": {},
   "outputs": [
    {
     "data": {
      "text/plain": [
       "1000"
      ]
     },
     "execution_count": 58,
     "metadata": {},
     "output_type": "execute_result"
    }
   ],
   "source": [
    "a1.n"
   ]
  },
  {
   "cell_type": "code",
   "execution_count": 59,
   "metadata": {},
   "outputs": [
    {
     "data": {
      "text/plain": [
       "1000"
      ]
     },
     "execution_count": 59,
     "metadata": {},
     "output_type": "execute_result"
    }
   ],
   "source": [
    "a2.n"
   ]
  },
  {
   "cell_type": "code",
   "execution_count": 2,
   "metadata": {},
   "outputs": [
    {
     "data": {
      "text/plain": [
       "288230376151711744"
      ]
     },
     "execution_count": 2,
     "metadata": {},
     "output_type": "execute_result"
    }
   ],
   "source": [
    "2**58\n"
   ]
  },
  {
   "cell_type": "code",
   "execution_count": null,
   "metadata": {},
   "outputs": [],
   "source": []
  }
 ],
 "metadata": {
  "kernelspec": {
   "display_name": "Python 3",
   "language": "python",
   "name": "python3"
  },
  "language_info": {
   "codemirror_mode": {
    "name": "ipython",
    "version": 3
   },
   "file_extension": ".py",
   "mimetype": "text/x-python",
   "name": "python",
   "nbconvert_exporter": "python",
   "pygments_lexer": "ipython3",
   "version": "3.8.1"
  },
  "toc": {
   "base_numbering": 1,
   "nav_menu": {},
   "number_sections": true,
   "sideBar": true,
   "skip_h1_title": false,
   "title_cell": "Table of Contents",
   "title_sidebar": "Contents",
   "toc_cell": false,
   "toc_position": {},
   "toc_section_display": true,
   "toc_window_display": false
  },
  "varInspector": {
   "cols": {
    "lenName": 16,
    "lenType": 16,
    "lenVar": 40
   },
   "kernels_config": {
    "python": {
     "delete_cmd_postfix": "",
     "delete_cmd_prefix": "del ",
     "library": "var_list.py",
     "varRefreshCmd": "print(var_dic_list())"
    },
    "r": {
     "delete_cmd_postfix": ") ",
     "delete_cmd_prefix": "rm(",
     "library": "var_list.r",
     "varRefreshCmd": "cat(var_dic_list()) "
    }
   },
   "types_to_exclude": [
    "module",
    "function",
    "builtin_function_or_method",
    "instance",
    "_Feature"
   ],
   "window_display": false
  }
 },
 "nbformat": 4,
 "nbformat_minor": 4
}
