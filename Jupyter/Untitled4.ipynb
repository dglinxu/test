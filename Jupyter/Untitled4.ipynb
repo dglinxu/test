{
 "cells": [
  {
   "cell_type": "code",
   "execution_count": null,
   "metadata": {
    "scrolled": true
   },
   "outputs": [],
   "source": [
    "def next_smaller(n):\n",
    "    pass\n",
    "    sn=list(str(n))\n",
    "    if sn==sorted(sn):\n",
    "        return -1\n",
    "    for i in range(len(sn)-1,0,-1):\n",
    "        if sn[i]<sn[i-1]:\n",
    "            print(sn)\n",
    "            sn[i],sn[i-1]=sn[i-1],sn[i]\n",
    "            print(sn[i],sn[i])\n",
    "            print('.......')\n",
    "            print(sn)\n",
    "            break\n",
    "    return int(''.join(sn))\n",
    "next_smaller(907) #1234567890"
   ]
  },
  {
   "cell_type": "code",
   "execution_count": null,
   "metadata": {
    "scrolled": true
   },
   "outputs": [],
   "source": [
    "\"{:02x} {:x}\".format(1,20) "
   ]
  },
  {
   "cell_type": "code",
   "execution_count": null,
   "metadata": {
    "scrolled": true
   },
   "outputs": [],
   "source": [
    "print(\"{:03}\".format(34))"
   ]
  },
  {
   "cell_type": "code",
   "execution_count": null,
   "metadata": {
    "scrolled": true
   },
   "outputs": [],
   "source": [
    "def fibonacci(n):\n",
    "    a,b=0,1\n",
    "    for i in range(2,n+1):\n",
    "        a,b=b,a+b\n",
    "\n",
    "    return b\n",
    "fibonacci(70)"
   ]
  },
  {
   "cell_type": "code",
   "execution_count": null,
   "metadata": {
    "scrolled": true
   },
   "outputs": [],
   "source": [
    "array = [1, 3, 5]\n",
    "g = (x for x in array if array.count(x) > 0)\n",
    "array = [5, 7, 9]\n",
    "list(g)"
   ]
  },
  {
   "cell_type": "code",
   "execution_count": null,
   "metadata": {
    "scrolled": true
   },
   "outputs": [],
   "source": [
    "y,m,d=list(map(int,input().split('/')))\n",
    "date_list=[31,28,31,30,31,30,31,31,30,31,30,31]\n",
    "if(y%4==0 and y%100!=0) or y%400==0:\n",
    "    date_list[1]+=1\n",
    "ans=sum(date_list[:m-1])+d\n",
    "print(ans)"
   ]
  },
  {
   "cell_type": "code",
   "execution_count": null,
   "metadata": {
    "scrolled": true
   },
   "outputs": [],
   "source": [
    "n=int(input())\n",
    "m=int(input())\n",
    "person=list(range(n))\n",
    "ans=[]\n",
    "i=0\n",
    "while n>0:\n",
    "    i+=m-1\n",
    "    i=i%n\n",
    "    ans.append(person.pop(i))\n",
    "    n-=1\n",
    "print(ans)\n",
    "    \n",
    "    \n",
    "    "
   ]
  },
  {
   "cell_type": "code",
   "execution_count": null,
   "metadata": {
    "scrolled": true
   },
   "outputs": [],
   "source": [
    "class A:\n",
    "    '''This is a class.'''\n",
    "    def __init__(self,n):\n",
    "        self.n=n\n",
    "        print('This is init.')\n",
    "    def __new__(cls,n):\n",
    "        print('This is new！')\n",
    "        print('input number is :',n)\n",
    "        return super().__new__(cls)\n",
    "     \n",
    "    def __del__(self):\n",
    "        print('This is del.')\n",
    "a=A(1)\n",
    "del a\n"
   ]
  },
  {
   "cell_type": "code",
   "execution_count": null,
   "metadata": {
    "scrolled": true
   },
   "outputs": [],
   "source": [
    "class CapStr:\n",
    "    def __new__(cls, s):\n",
    "        self_in_init = super().__new__(cls)\n",
    "        print(id(self_in_init))\n",
    "        return self_in_init\n",
    "    def __init__(self,s):\n",
    "        print(id(self))\n",
    " \n",
    "a = CapStr(10)\n",
    "print(id(a))"
   ]
  },
  {
   "cell_type": "code",
   "execution_count": null,
   "metadata": {
    "scrolled": true
   },
   "outputs": [],
   "source": [
    "class A:\n",
    "    a = 'a'\n",
    "    @staticmethod\n",
    "    def foo1(cls,name):\n",
    "        print('hello', name)\n",
    "    def foo2(self, name):\n",
    "        print('hello', name)\n",
    "    \n",
    "    @classmethod\n",
    "    def foo3(cls, name):\n",
    "        print('hello', name)\n",
    "\n",
    "\n"
   ]
  },
  {
   "cell_type": "code",
   "execution_count": null,
   "metadata": {},
   "outputs": [],
   "source": [
    "a=A()\n",
    "a.foo1('阿土仔')\n",
    "A.foo1('阿土仔')"
   ]
  },
  {
   "cell_type": "code",
   "execution_count": null,
   "metadata": {},
   "outputs": [],
   "source": [
    "a.foo2('阿土仔')\n",
    "A.foo2('阿土仔')"
   ]
  },
  {
   "cell_type": "code",
   "execution_count": null,
   "metadata": {},
   "outputs": [],
   "source": [
    "x=int(input())\n",
    "y=int(input())\n",
    "n=int(input())\n",
    "res=[]\n",
    "for i in range(n+1):\n",
    "    s1=x**i\n",
    "    for j in range(n+1):\n",
    "        s=s1+y**j\n",
    "        if s<=n and s not in res:\n",
    "            res.append(s)\n",
    "        elif s>n:\n",
    "            break\n",
    "print(sorted(res))\n",
    "    "
   ]
  },
  {
   "cell_type": "code",
   "execution_count": null,
   "metadata": {},
   "outputs": [],
   "source": [
    "class Students:\n",
    "    score={}\n",
    "    def __init__(self,sname,cscore,mscore,escore):\n",
    "        Students.score[sname]=[cscore,mscore,escore]\n",
    "    def top_Student(self):\n",
    "        return max(Students.score.items(),key=lambda x:sum(x[1]))\n",
    "sname=input().split()\n",
    "cscore=list(map(int,input().split()))\n",
    "mscore=list(map(int,input().split()))\n",
    "escore=list(map(int,input().split()))\n",
    "\n",
    "for i in range(len(sname)):\n",
    "    Students(sname[i],cscore[i],mscore[i],escore[i])\n",
    "a,b=Students.top_Student(Students.score)\n",
    "print(a,b[0],b[1],b[2])\n",
    "        \n",
    "            \n",
    "            "
   ]
  },
  {
   "cell_type": "code",
   "execution_count": null,
   "metadata": {},
   "outputs": [],
   "source": [
    "class B:\n",
    "    s=0\n",
    "    __m=0\n",
    "    def __init__(self,n):\n",
    "        B.s+=n\n",
    "B.__m=2\n",
    "B.__m"
   ]
  },
  {
   "cell_type": "code",
   "execution_count": null,
   "metadata": {},
   "outputs": [],
   "source": [
    "d={'a':[1,2,3],'b':[2,4,5],'c':[3,5,6]}\n",
    "max(d.items(),key=lambda x:sum(x[1]))\n"
   ]
  },
  {
   "cell_type": "code",
   "execution_count": null,
   "metadata": {},
   "outputs": [],
   "source": [
    "alist=list(map(int,input().split()))\n",
    "n=len(alist)\n",
    "m=0\n",
    "for i in range(n-2):\n",
    "    for j in range(i+1,n-1):\n",
    "        for k in range(j+1,n):\n",
    "            if (alist[i]+alist[j]>alist[k]) and (alist[i]+alist[k]>alist[j]) and (alist[k]+alist[j]>alist[i]):\n",
    "                m=max(m,alist[i]+alist[j]+alist[k])\n",
    "print(m)\n",
    "                "
   ]
  },
  {
   "cell_type": "code",
   "execution_count": null,
   "metadata": {},
   "outputs": [],
   "source": [
    "class parent:\n",
    "    def __init__(self,param):\n",
    "        self.v1=param\n",
    "class child(parent):\n",
    "    def __init__(self,param):\n",
    "        parent.__init__(self,param)\n",
    "        self.v2=param\n",
    "odj=child(100)\n",
    "\n",
    "print(odj.v2)"
   ]
  },
  {
   "cell_type": "code",
   "execution_count": null,
   "metadata": {},
   "outputs": [],
   "source": [
    "class A:\n",
    "    n=0\n",
    "    t=100\n",
    "    __m=100\n",
    "    def __init__(self,a):\n",
    "        self.x=a\n",
    "        A.n+=1\n",
    "        print(A.__m)\n",
    "    def r(self):\n",
    "        return A.__m\n",
    "a1=A(10)\n",
    "a2=A(20)\n"
   ]
  },
  {
   "cell_type": "code",
   "execution_count": null,
   "metadata": {},
   "outputs": [],
   "source": [
    "A.__m"
   ]
  },
  {
   "cell_type": "code",
   "execution_count": null,
   "metadata": {},
   "outputs": [],
   "source": [
    "A.t=1000"
   ]
  },
  {
   "cell_type": "code",
   "execution_count": null,
   "metadata": {},
   "outputs": [],
   "source": [
    "a2.t"
   ]
  },
  {
   "cell_type": "code",
   "execution_count": null,
   "metadata": {},
   "outputs": [],
   "source": [
    "class Student():\n",
    "    i = 1\n",
    "    __j = 2\n",
    "    \n",
    "    def __init__(self,name,age):  \n",
    "        self.name = name\n",
    "        self.__age = age\n",
    "        \n",
    "    def pt_age(self):\n",
    "        print(self.__age)\n",
    "        \n",
    "print('类属性：Student.i-->',Student.i)\n",
    "print('类私有属性：Student._Student__j-->',Student._Student__j)\n",
    " \n",
    "st1 = Student('tao',24)\n",
    "st2 = Student('阿土仔',25)\n",
    "print('类属性可以实例调用：st1.i-->',st1.i)\n",
    "print('类属性：Student.i-->',Student.i)\n",
    "\n",
    "st1.pt_age()\n",
    "print('类私有属性的实例化调用：st1._Student__age-->',st1._Student__age)\n"
   ]
  },
  {
   "cell_type": "code",
   "execution_count": null,
   "metadata": {},
   "outputs": [],
   "source": [
    "def findWays(expr):\n",
    "    ops,nums=[],[]\n",
    "    for c in expr:\n",
    "        if c.isdigit():\n",
    "            nums.append(int(c))\n",
    "        else:\n",
    "            ops.append(c)\n",
    "    print(nums)\n",
    "    print(ops)\n",
    "expr='2*3-4*5'\n",
    "findWays(expr)\n",
    "    "
   ]
  },
  {
   "cell_type": "code",
   "execution_count": null,
   "metadata": {},
   "outputs": [],
   "source": [
    "a2.n"
   ]
  },
  {
   "cell_type": "code",
   "execution_count": null,
   "metadata": {},
   "outputs": [],
   "source": [
    "def candy(ratings):\n",
    "    temp=ratings[0]\n",
    "    result=[1]\n",
    "    for i in ratings[1:]:\n",
    "        if i>temp:\n",
    "            result.append(result[-1]+1)\n",
    "        elif i=temp:\n",
    "            result.append(re)\n",
    "        temp=i\n",
    "    m=min(result)\n",
    "    print(result,m)\n",
    "    if m==1:\n",
    "        return sum(result)\n",
    "    if m<1:\n",
    "        return sum(result)+(1-m)*len(ratings)\n",
    "\n",
    "lst = eval(input())\n",
    "print(candy(lst))"
   ]
  },
  {
   "cell_type": "code",
   "execution_count": null,
   "metadata": {},
   "outputs": [],
   "source": [
    "import turtle\n",
    "import random\n",
    "def tree(branchLen,t):\n",
    "    index=random.randint(0,2)\n",
    "    t.color(colors[index])\n",
    "    if branchLen>5:\n",
    "        t.forward(branchLen)\n",
    "        t.right(20)\n",
    "        tree(branchLen-15,t)\n",
    "        t.left(40)\n",
    "        tree(branchLen-15,t)\n",
    "        t.right(20)\n",
    "        t.backward(branchLen)\n",
    "t=turtle.Turtle()\n",
    "myWin=turtle.Screen()\n",
    "colors=['Green','Blue','Red']\n",
    "t.left(90)\n",
    "t.up()\n",
    "t.backward(100)\n",
    "t.down()\n",
    "t.color('Green')\n",
    "tree(100,t)\n",
    "myWin.exitonclick()"
   ]
  },
  {
   "cell_type": "code",
   "execution_count": null,
   "metadata": {},
   "outputs": [],
   "source": [
    "import turtle\n",
    "def getMid(p1,p2):\n",
    "    return ( (p1[0]+p2[0]) / 2, (p1[1] + p2[1]) / 2)\n",
    "\n",
    "def drawTriangle(points,color,myTurtle):\n",
    "    myTurtle.fillcolor(color)\n",
    "    myTurtle.up()\n",
    "    myTurtle.goto(points[0][0],points[0][1])\n",
    "    myTurtle.down()\n",
    "    myTurtle.begin_fill()\n",
    "    myTurtle.goto(points[1][0],points[1][1])\n",
    "    myTurtle.goto(points[2][0],points[2][1])\n",
    "    myTurtle.goto(points[0][0],points[0][1])\n",
    "    myTurtle.end_fill()\n",
    "\n",
    "def sierpinski(points,degree,myTurtle):\n",
    "    colormap = ['blue','red','green','white','yellow','violet','orange']\n",
    "    drawTriangle(points,colormap[degree],myTurtle)\n",
    "    if degree > 0:\n",
    "        sierpinski([points[0],getMid(points[0], points[1]),getMid(points[0], points[2])],degree-1, myTurtle)\n",
    "        sierpinski([points[1],getMid(points[0], points[1]),getMid(points[1], points[2])],degree-1, myTurtle)\n",
    "        sierpinski([points[2],getMid(points[2], points[1]),getMid(points[0], points[2])],degree-1, myTurtle)\n",
    "\n",
    "myTurtle = turtle.Turtle()\n",
    "myWin = turtle.Screen()\n",
    "myPoints = [[-100,-50],[0,100],[100,-50]]\n",
    "sierpinski(myPoints,3,myTurtle)\n",
    "myWin.exitonclick()\n"
   ]
  },
  {
   "cell_type": "code",
   "execution_count": null,
   "metadata": {},
   "outputs": [],
   "source": [
    "def reverse(alist):\n",
    "    if len(alist)==1:\n",
    "        return alist\n",
    "    else:\n",
    "        return [alist[-1]]+reverse(alist[:-1])\n",
    "alist=list(range(10))\n",
    "reverse(alist)"
   ]
  },
  {
   "cell_type": "code",
   "execution_count": null,
   "metadata": {},
   "outputs": [],
   "source": [
    "import random\n",
    "a=[chr(i) for i in range(97,110)]\n",
    "random.shuffle(a)\n",
    "a"
   ]
  },
  {
   "cell_type": "code",
   "execution_count": null,
   "metadata": {},
   "outputs": [],
   "source": [
    "b=[]\n",
    "while len(a)>0:\n",
    "    index=random.randint(0,len(a)-1)\n",
    "    b.append(a.pop(index))\n",
    "b"
   ]
  },
  {
   "cell_type": "code",
   "execution_count": null,
   "metadata": {},
   "outputs": [],
   "source": [
    "len(s)"
   ]
  },
  {
   "cell_type": "code",
   "execution_count": null,
   "metadata": {},
   "outputs": [],
   "source": [
    "s=set()\n",
    "while len(s)<10:\n",
    "    s.add(random.randint(0,10))\n",
    "s"
   ]
  },
  {
   "cell_type": "code",
   "execution_count": null,
   "metadata": {},
   "outputs": [],
   "source": [
    "def hasOddmul(alist):\n",
    "    list_len=len(alist)\n",
    "    for i in range(list_len-1):\n",
    "        if alist[i]%2==1:\n",
    "            for j in range(i+1,list_len):\n",
    "                if alist[j]%2==1:\n",
    "                    return True\n",
    "            return False\n",
    "    return False\n",
    "data = [2, 2, 4, 6, 8, 3]\n",
    "hasOddmul(data)"
   ]
  },
  {
   "cell_type": "code",
   "execution_count": null,
   "metadata": {},
   "outputs": [],
   "source": [
    "def in_put():\n",
    "    a=[]\n",
    "    while True:\n",
    "        try:\n",
    "            a.append(input())\n",
    "        except KeyboardInterrupt:\n",
    "            while a:\n",
    "                print(a.pop())\n",
    "in_put()\n"
   ]
  },
  {
   "cell_type": "code",
   "execution_count": 2,
   "metadata": {},
   "outputs": [
    {
     "name": "stdout",
     "output_type": "stream",
     "text": [
      "[]\n",
      "[]\n"
     ]
    }
   ],
   "source": [
    "def func(mylist):\n",
    "    n=len(mylist)\n",
    "    output=[]\n",
    "    for i in range(n-1,-1,-1):\n",
    "        if i!=n-1 and mylist[i]==mylist[i+1]:\n",
    "            output.append(output[-1])\n",
    "        else:\n",
    "            j=i-1\n",
    "            t=mylist[i]-10000\n",
    "            while j>=0:\n",
    "                if mylist[j]>=t:\n",
    "                    j-=1\n",
    "                else:\n",
    "                    break\n",
    "            output.append(i-j)\n",
    "    output.reverse()         \n",
    "    return output\n",
    "     \n",
    "mylist = eval(input())\n",
    "\n",
    "print(func(mylist))"
   ]
  },
  {
   "cell_type": "code",
   "execution_count": 35,
   "metadata": {},
   "outputs": [
    {
     "name": "stdout",
     "output_type": "stream",
     "text": [
      "[334,5,67,345,7,345345,99,4,23,78,45,1,3453,23424]\n",
      "[1, 4, 5, 7, 23, 45, 67, 78, 99, 334, 345, 3453, 23424, 345345]\n"
     ]
    }
   ],
   "source": [
    "def func(mylist):\n",
    "    output=mylist\n",
    "    n=len(str(max(output)))\n",
    "    m=0\n",
    "    while m<n:\n",
    "        t_list=[[] for _ in range(10)]\n",
    "        for i in output:\n",
    "            t_list[int(i/(10**m))%10].append(i)             \n",
    "        output=[]\n",
    "        output=[j for i in t_list for j in i]\n",
    "        m+=1 \n",
    "       \n",
    "    return output\n",
    "     \n",
    "mylist = eval(input())\n",
    "print(func(mylist))"
   ]
  },
  {
   "cell_type": "code",
   "execution_count": 33,
   "metadata": {},
   "outputs": [
    {
     "data": {
      "text/plain": [
       "[]"
      ]
     },
     "execution_count": 33,
     "metadata": {},
     "output_type": "execute_result"
    }
   ],
   "source": [
    "a=[[]]*10\n",
    "a.clear()\n",
    "a"
   ]
  },
  {
   "cell_type": "code",
   "execution_count": 22,
   "metadata": {},
   "outputs": [
    {
     "data": {
      "text/plain": [
       "1"
      ]
     },
     "execution_count": 22,
     "metadata": {},
     "output_type": "execute_result"
    }
   ],
   "source": [
    "(91//10**0)%10"
   ]
  },
  {
   "cell_type": "code",
   "execution_count": 31,
   "metadata": {},
   "outputs": [
    {
     "name": "stdout",
     "output_type": "stream",
     "text": [
      "[8, 91, 34, 22, 65, 30, 4, 55, 18]\n",
      "[4, 8, 18, 22, 30, 34, 55, 65, 91]\n"
     ]
    }
   ],
   "source": [
    "def func(mylist):\n",
    "    output=sorted(mylist)\n",
    "\n",
    "    return output\n",
    "     \n",
    "mylist = eval(input())\n",
    "print(func(mylist))"
   ]
  },
  {
   "cell_type": "code",
   "execution_count": 42,
   "metadata": {},
   "outputs": [
    {
     "name": "stdout",
     "output_type": "stream",
     "text": [
      "[8, 91, 34, 22, 65, 30, 4, 55, 18]\n",
      "[4, 8, 18, 22, 30, 34, 55, 65, 91]\n"
     ]
    }
   ],
   "source": [
    "def func(s):\n",
    "    i = 0 # 记录当前正在排拿一位，最低位为1\n",
    "    max_num = max(s)  # 最大值\n",
    "    j = len(str(max_num))  # 记录最大值的位数\n",
    "    while i < j:\n",
    "        bucket_list =[[] for _ in range(10)] #初始化桶数组\n",
    "        for x in s:\n",
    "            bucket_list[int(x / (10**i)) % 10].append(x) # 找到位置放入桶数组\n",
    "        \n",
    "        s.clear()\n",
    "        for x in bucket_list:   # 放回原序列\n",
    "            for y in x:\n",
    "                s.append(y)\n",
    "        i += 1\n",
    "    return s\n",
    "    \n",
    "     \n",
    "mylist = eval(input())\n",
    "print(func(mylist))"
   ]
  },
  {
   "cell_type": "code",
   "execution_count": 48,
   "metadata": {},
   "outputs": [
    {
     "name": "stdout",
     "output_type": "stream",
     "text": [
      "[8, 91, 34, 22, 65, 30, 4, 55, 18]\n",
      "[4, 8, 18, 22, 30, 34, 55, 65, 91]\n"
     ]
    }
   ],
   "source": [
    "def func(mylist):\n",
    "    n=len(mylist)\n",
    "    m=0\n",
    "    while True:\n",
    "        li=[[] for _ in range(10)]\n",
    "        for i in mylist:\n",
    "            index=(i//10**m)%10\n",
    "            li[index].append(i)\n",
    "        if len(li[0])==n:\n",
    "            return li[0]\n",
    "        else:\n",
    "            mylist=[]\n",
    "            mylist=[j for i in li for j in i]\n",
    "            m+=1\n",
    "mylist = eval(input())\n",
    "print(func(mylist))"
   ]
  },
  {
   "cell_type": "code",
   "execution_count": 69,
   "metadata": {},
   "outputs": [
    {
     "name": "stdout",
     "output_type": "stream",
     "text": [
      "10 10 \n",
      "20\n",
      "20\n"
     ]
    }
   ],
   "source": [
    "def baseConvert(m,n,s):\n",
    "    if s=='0':\n",
    "        return s\n",
    "    number='0123456789ABCDEFGHIJKLMNOPQRSTUVWXYZ'\n",
    "    d=0\n",
    "    for i in s:\n",
    "        d=d*m+number.index(i)\n",
    "    res=[]\n",
    "    while d>0:\n",
    "        num=number[d%n]\n",
    "        res.append(num)\n",
    "        d=d//n    \n",
    "    s=''.join(res[::-1])\n",
    "    return s\n",
    "\n",
    "li=list(map(int,input().split()))\n",
    "s=input()\n",
    "print(baseConvert(li[0],li[1],s))\n"
   ]
  },
  {
   "cell_type": "code",
   "execution_count": 65,
   "metadata": {},
   "outputs": [
    {
     "name": "stdout",
     "output_type": "stream",
     "text": [
      "8 16\n",
      "473\n",
      "13B\n"
     ]
    }
   ],
   "source": [
    "def changN(n,m,num):\n",
    "    s='0123456789ABCDEFGHIJKLMNOPQRSTUVWXYZ'\n",
    "    ans=''\n",
    "    k=0\n",
    "    for i in num:\n",
    "        k=k*n+s.index(i)\n",
    "    while k>=m:\n",
    "        ans=s[k%m]+ans\n",
    "        k=k//m\n",
    "    return s[k]+ans\n",
    "n,m=tuple(map(int,input().split()))\n",
    "num=input()\n",
    "\n",
    "print(changN(n,m,num))"
   ]
  },
  {
   "cell_type": "code",
   "execution_count": 75,
   "metadata": {},
   "outputs": [
    {
     "name": "stdout",
     "output_type": "stream",
     "text": [
      "10 10\n",
      "20\n",
      "20\n"
     ]
    }
   ],
   "source": [
    "m,n=(map(int,input().split()))\n",
    "s=input()\n",
    "number=[str(x) for x in range(10)] +[chr(x) for x in range(ord('A'),ord(\"A\")+6)]\n",
    "d=0\n",
    "for i in s:\n",
    "    d=d*m+number.index(i)\n",
    "res=[]\n",
    "if d==0:\n",
    "    print(s)\n",
    "else:\n",
    "    while d>0:\n",
    "        num=number[d%n]\n",
    "        res.append(num)\n",
    "        d=d//n    \n",
    "s=''.join(res[::-1])\n",
    "print(s)\n",
    "\n"
   ]
  },
  {
   "cell_type": "code",
   "execution_count": 6,
   "metadata": {},
   "outputs": [
    {
     "name": "stdout",
     "output_type": "stream",
     "text": [
      "27\n",
      "[]\n",
      "[][][][][][][][][][][][][][][][][][][][][][][][][][][]\n",
      "[]  [][]  [][]  [][]  [][]  [][]  [][]  [][]  [][]  []\n",
      "[][][][][][][][][][][][][][][][][][][][][][][][][][][]\n",
      "[][][]      [][][][][][]      [][][][][][]      [][][]\n",
      "[]  []      []  [][]  []      []  [][]  []      []  []\n",
      "[][][]      [][][][][][]      [][][][][][]      [][][]\n",
      "[][][][][][][][][][][][][][][][][][][][][][][][][][][]\n",
      "[]  [][]  [][]  [][]  [][]  [][]  [][]  [][]  [][]  []\n",
      "[][][][][][][][][][][][][][][][][][][][][][][][][][][]\n",
      "[][][][][][][][][]                  [][][][][][][][][]\n",
      "[]  [][]  [][]  []                  []  [][]  [][]  []\n",
      "[][][][][][][][][]                  [][][][][][][][][]\n",
      "[][][]      [][][]                  [][][]      [][][]\n",
      "[]  []      []  []                  []  []      []  []\n",
      "[][][]      [][][]                  [][][]      [][][]\n",
      "[][][][][][][][][]                  [][][][][][][][][]\n",
      "[]  [][]  [][]  []                  []  [][]  [][]  []\n",
      "[][][][][][][][][]                  [][][][][][][][][]\n",
      "[][][][][][][][][][][][][][][][][][][][][][][][][][][]\n",
      "[]  [][]  [][]  [][]  [][]  [][]  [][]  [][]  [][]  []\n",
      "[][][][][][][][][][][][][][][][][][][][][][][][][][][]\n",
      "[][][]      [][][][][][]      [][][][][][]      [][][]\n",
      "[]  []      []  [][]  []      []  [][]  []      []  []\n",
      "[][][]      [][][][][][]      [][][][][][]      [][][]\n",
      "[][][][][][][][][][][][][][][][][][][][][][][][][][][]\n",
      "[]  [][]  [][]  [][]  [][]  [][]  [][]  [][]  [][]  []\n",
      "[][][][][][][][][][][][][][][][][][][][][][][][][][][]\n"
     ]
    }
   ],
   "source": [
    "# 谢尔宾斯基地毯\n",
    "# 展示地毯\n",
    "def weave(n,whole):\n",
    "    for line in whole:\n",
    "        print(''.join(line))\n",
    "    return\n",
    "# 雕刻地毯\n",
    "def carpet(N, array, startR, startC):\n",
    "    if N == 3:\n",
    "        array[startR + 1][startC + 1]=' '*len(c)\n",
    "        return\n",
    "    else:\n",
    "        # 镂空中心位置\n",
    "        for row in range(N // 3, 2 * N // 3):\n",
    "            for col in range(N // 3, 2 * N // 3):\n",
    "                array[row + startR][col + startC] = ' '*len(c)\n",
    "        # 镂空环绕位置\n",
    "        for row in range(3):\n",
    "            for col in range(3):\n",
    "                if [row, col] != [1,1]: # 跳过中心位置\n",
    "                    carpet(N // 3, array, startR + row * N // 3, startC + col * N // 3)\n",
    "\n",
    "n=int(input())\n",
    "c=input()\n",
    "# 新建地毯\n",
    "whole = [[c]*n for i in range(n)]\n",
    "# 雕刻地毯\n",
    "carpet(n,whole,0,0)\n",
    "# 展示地毯\n",
    "weave(n, whole)"
   ]
  },
  {
   "cell_type": "code",
   "execution_count": null,
   "metadata": {},
   "outputs": [],
   "source": [
    "def calc(L):\n",
    "    memory = [1,1] # 有最小值确保递归结尾，恰好铺完（递归到L=0）也是一种铺法\n",
    "    memory.extend([None]*(L - 1))\n",
    "\n",
    "    # 铺瓷砖，有长度为1、2、3、4四种\n",
    "    def tile(L):\n",
    "        if memory[L] != None: # 判断值是否存在\n",
    "            return memory[L]\n",
    "        else:\n",
    "            count = 0\n",
    "            for i in [l for l in range(1,5) if l <= L]:\n",
    "                count += tile(L - i)\n",
    "            memory[L] = count\n",
    "            return memory[L]\n",
    "    \n",
    "    # 执行铺瓷砖\n",
    "    tile(L)\n",
    "    print(memory[L])\n",
    "\n",
    "# 主程序\n",
    "calc(int(input()))"
   ]
  },
  {
   "cell_type": "code",
   "execution_count": 7,
   "metadata": {},
   "outputs": [],
   "source": [
    "import random"
   ]
  },
  {
   "cell_type": "code",
   "execution_count": 16,
   "metadata": {},
   "outputs": [
    {
     "name": "stdout",
     "output_type": "stream",
     "text": [
      "[192, 313, 286, 161, 288, 2, 28, 159, 186, 343, 50, 111, 214, 182, 258, 362, 18, 251, 175, 61, 341, 196, 137]\n",
      "[55, 351, 219, 259, 168, 76, 252, 210, 39, 241, 238, 145, 156, 200, 121, 203, 11, 312, 220, 186, 24, 342, 188]\n",
      "0.0\n"
     ]
    }
   ],
   "source": [
    "def birth_Eq(li):\n",
    "    return len(li)!=len(set(li))\n",
    "n,m=0,0       \n",
    "date=list(range(1,366))\n",
    "for i in range(2):\n",
    "    birth=random.sample(date,23)\n",
    "    print(birth)\n",
    "    if birth_Eq(birth):\n",
    "        n+=1\n",
    "    else:\n",
    "        m+=1\n",
    "print(n/(n+m))\n",
    "    "
   ]
  },
  {
   "cell_type": "code",
   "execution_count": 54,
   "metadata": {},
   "outputs": [
    {
     "name": "stdout",
     "output_type": "stream",
     "text": [
      "k===== 0\n",
      "one ['a'] ['b', 'c']\n",
      "k===== 0\n",
      "one ['a', 'b'] ['c']\n",
      "k===== 0\n",
      "one ['a', 'b', 'c'] []\n",
      "+++++++++++++++++++ abc\n",
      "0 ['a', 'b', 'c'] []\n",
      "two ['a', 'b'] ['c']\n",
      "0 ['a', 'b'] ['c']\n",
      "two ['a'] ['b', 'c']\n",
      "k===== 1\n",
      "one ['a', 'c'] ['b']\n",
      "k===== 0\n",
      "one ['a', 'c', 'b'] []\n",
      "+++++++++++++++++++ acb\n",
      "0 ['a', 'c', 'b'] []\n",
      "two ['a', 'c'] ['b']\n",
      "1 ['a', 'c'] ['b']\n",
      "two ['a'] ['b', 'c']\n",
      "0 ['a'] ['b', 'c']\n",
      "two [] ['a', 'b', 'c']\n",
      "k===== 1\n",
      "one ['b'] ['a', 'c']\n",
      "k===== 0\n",
      "one ['b', 'a'] ['c']\n",
      "k===== 0\n",
      "one ['b', 'a', 'c'] []\n",
      "+++++++++++++++++++ bac\n",
      "0 ['b', 'a', 'c'] []\n",
      "two ['b', 'a'] ['c']\n",
      "0 ['b', 'a'] ['c']\n",
      "two ['b'] ['a', 'c']\n",
      "k===== 1\n",
      "one ['b', 'c'] ['a']\n",
      "k===== 0\n",
      "one ['b', 'c', 'a'] []\n",
      "+++++++++++++++++++ bca\n",
      "0 ['b', 'c', 'a'] []\n",
      "two ['b', 'c'] ['a']\n",
      "1 ['b', 'c'] ['a']\n",
      "two ['b'] ['a', 'c']\n",
      "1 ['b'] ['a', 'c']\n",
      "two [] ['a', 'b', 'c']\n",
      "k===== 2\n",
      "one ['c'] ['a', 'b']\n",
      "k===== 0\n",
      "one ['c', 'a'] ['b']\n",
      "k===== 0\n",
      "one ['c', 'a', 'b'] []\n",
      "+++++++++++++++++++ cab\n",
      "0 ['c', 'a', 'b'] []\n",
      "two ['c', 'a'] ['b']\n",
      "0 ['c', 'a'] ['b']\n",
      "two ['c'] ['a', 'b']\n",
      "k===== 1\n",
      "one ['c', 'b'] ['a']\n",
      "k===== 0\n",
      "one ['c', 'b', 'a'] []\n",
      "+++++++++++++++++++ cba\n",
      "0 ['c', 'b', 'a'] []\n",
      "two ['c', 'b'] ['a']\n",
      "1 ['c', 'b'] ['a']\n",
      "two ['c'] ['a', 'b']\n",
      "2 ['c'] ['a', 'b']\n",
      "two [] ['a', 'b', 'c']\n"
     ]
    }
   ],
   "source": [
    "def permute(bag, permutation):\n",
    "    # When the bag is empty, a full permutation exists\n",
    "    if len(bag) == 0:\n",
    "        print('+++++++++++++++++++',''.join(permutation))\n",
    "    else:\n",
    "        # For each element left in the bag\n",
    "        for k in range(len(bag)):\n",
    "            # Take the element out of the bag and put it at the end of the permutation\n",
    "            print('k=====',k)\n",
    "            permutation.append(bag.pop(k))\n",
    "            # Permute the rest of the bag (recursively)\n",
    "            print('one',permutation,bag)\n",
    "            permute(bag, permutation)\n",
    "            # Take the element off the permutation and put it back in the bag\n",
    "            print(k,permutation,bag)\n",
    "            bag.insert(k, permutation.pop())\n",
    "            print('two',permutation,bag)\n",
    "\n",
    "\n",
    "permute(list('abc'), [])\n"
   ]
  },
  {
   "cell_type": "code",
   "execution_count": 53,
   "metadata": {},
   "outputs": [
    {
     "name": "stdout",
     "output_type": "stream",
     "text": [
      "[['a', 'b', 'c'], ['b', 'a', 'c'], ['b', 'c', 'a'], ['a', 'c', 'b'], ['c', 'a', 'b'], ['c', 'b', 'a']]\n"
     ]
    }
   ],
   "source": [
    "# 第一种递归做法\n",
    "def full_permutation(list):\n",
    "    if list == None: # 递归出口\n",
    "        return None\n",
    "    if len(list) == 1:  # 因为是从list[1]处开始递归的，若len(list)<=1，list会越界\n",
    "        return [list]\n",
    "    \n",
    "    left = list[0]\n",
    "    right = full_permutation(list[1:])\n",
    "    res=[]\n",
    "    for i in right:\n",
    "        for j in range(len(i) + 1):\n",
    "            res.append(i[:j] + [left] + i[j:])\n",
    "    return res\n",
    "\n",
    "\n",
    "print(full_permutation(list('abc')))"
   ]
  },
  {
   "cell_type": "code",
   "execution_count": 48,
   "metadata": {},
   "outputs": [
    {
     "name": "stdout",
     "output_type": "stream",
     "text": [
      "[]\n"
     ]
    }
   ],
   "source": [
    "def permutations(arr, begin, end):\n",
    "    \n",
    "    if begin == end:  # 当begin等于end，就说明数组中的元素都全部固定了，这是递归的终止条件\n",
    "        return arr  # 打印当前这一次排列\n",
    "    else:\n",
    "        for index in range(begin, end):\n",
    "            arr[index], arr[begin] = arr[begin], arr[index]\n",
    "            # 数组的第一个元素和其他任意一个元素元素都交换一次，包括刚开始他自己\n",
    "            permutations(arr, begin + 1, end)\n",
    "            # 交换完成之后，对剩下的元素进行交换，即全排\n",
    "            arr[index], arr[begin] = arr[begin], arr[index]\n",
    "            # 当以arr[index]在第一位时，都排列完的时候，还要将将交换双方换回来，在进行下一次循环\n",
    "    return res\n",
    "\n",
    "\n",
    "print(permutations(list('cat'), 0, len('cat')))\n"
   ]
  },
  {
   "cell_type": "code",
   "execution_count": 56,
   "metadata": {},
   "outputs": [],
   "source": [
    "from PIL import Image,ImageDraw,ImageFont\n",
    "import cv2\n"
   ]
  },
  {
   "cell_type": "code",
   "execution_count": 62,
   "metadata": {},
   "outputs": [],
   "source": [
    "def draw(pic,draw_text):\n",
    "    img=cv2.imread(pic)\n",
    "    blank=Image.new(\"RGB\",[img.shape[1],img.shape[0]],\"white\")\n",
    "    drawobj=ImageDraw.Draw(blank)\n",
    "    n=15\n",
    "    m=12\n",
    "    font=ImageFont.truetype(\"simhei.ttf\",size=m)\n",
    "    for i in range(0,img.shape[0],n):\n",
    "        for j in range(0,img.shape[1],n):\n",
    "            drawobj.text([j,i],\n",
    "                         draw_text[int(j/n)%len(draw_text)],\n",
    "                         fill=(img[i][j][2],img[i][j][1],img[i][j][0]),\n",
    "                         font=font)\n",
    "    blank.save('my1_'+pic)\n",
    "draw('LOVE.jpg',\"林旭 林昕明 曾利玲 520\")"
   ]
  },
  {
   "cell_type": "code",
   "execution_count": null,
   "metadata": {},
   "outputs": [],
   "source": []
  }
 ],
 "metadata": {
  "kernelspec": {
   "display_name": "Python 3",
   "language": "python",
   "name": "python3"
  },
  "language_info": {
   "codemirror_mode": {
    "name": "ipython",
    "version": 3
   },
   "file_extension": ".py",
   "mimetype": "text/x-python",
   "name": "python",
   "nbconvert_exporter": "python",
   "pygments_lexer": "ipython3",
   "version": "3.8.0"
  },
  "toc": {
   "base_numbering": 1,
   "nav_menu": {},
   "number_sections": true,
   "sideBar": true,
   "skip_h1_title": false,
   "title_cell": "Table of Contents",
   "title_sidebar": "Contents",
   "toc_cell": false,
   "toc_position": {},
   "toc_section_display": true,
   "toc_window_display": false
  },
  "varInspector": {
   "cols": {
    "lenName": 16,
    "lenType": 16,
    "lenVar": 40
   },
   "kernels_config": {
    "python": {
     "delete_cmd_postfix": "",
     "delete_cmd_prefix": "del ",
     "library": "var_list.py",
     "varRefreshCmd": "print(var_dic_list())"
    },
    "r": {
     "delete_cmd_postfix": ") ",
     "delete_cmd_prefix": "rm(",
     "library": "var_list.r",
     "varRefreshCmd": "cat(var_dic_list()) "
    }
   },
   "types_to_exclude": [
    "module",
    "function",
    "builtin_function_or_method",
    "instance",
    "_Feature"
   ],
   "window_display": false
  }
 },
 "nbformat": 4,
 "nbformat_minor": 4
}
