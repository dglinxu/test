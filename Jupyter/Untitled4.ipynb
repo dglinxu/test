{
 "cells": [
  {
   "cell_type": "code",
   "execution_count": null,
   "metadata": {
    "scrolled": true
   },
   "outputs": [],
   "source": [
    "def next_smaller(n):\n",
    "    pass\n",
    "    sn=list(str(n))\n",
    "    if sn==sorted(sn):\n",
    "        return -1\n",
    "    for i in range(len(sn)-1,0,-1):\n",
    "        if sn[i]<sn[i-1]:\n",
    "            print(sn)\n",
    "            sn[i],sn[i-1]=sn[i-1],sn[i]\n",
    "            print(sn[i],sn[i])\n",
    "            print('.......')\n",
    "            print(sn)\n",
    "            break\n",
    "    return int(''.join(sn))\n",
    "next_smaller(907) #1234567890"
   ]
  },
  {
   "cell_type": "code",
   "execution_count": null,
   "metadata": {
    "scrolled": true
   },
   "outputs": [],
   "source": [
    "\"{:02x} {:x}\".format(1,20) "
   ]
  },
  {
   "cell_type": "code",
   "execution_count": null,
   "metadata": {
    "scrolled": true
   },
   "outputs": [],
   "source": [
    "print(\"{:03}\".format(34))"
   ]
  },
  {
   "cell_type": "code",
   "execution_count": null,
   "metadata": {
    "scrolled": true
   },
   "outputs": [],
   "source": [
    "def fibonacci(n):\n",
    "    a,b=0,1\n",
    "    for i in range(2,n+1):\n",
    "        a,b=b,a+b\n",
    "\n",
    "    return b\n",
    "fibonacci(70)"
   ]
  },
  {
   "cell_type": "code",
   "execution_count": null,
   "metadata": {
    "scrolled": true
   },
   "outputs": [],
   "source": [
    "array = [1, 3, 5]\n",
    "g = (x for x in array if array.count(x) > 0)\n",
    "array = [5, 7, 9]\n",
    "list(g)"
   ]
  },
  {
   "cell_type": "code",
   "execution_count": null,
   "metadata": {
    "scrolled": true
   },
   "outputs": [],
   "source": [
    "y,m,d=list(map(int,input().split('/')))\n",
    "date_list=[31,28,31,30,31,30,31,31,30,31,30,31]\n",
    "if(y%4==0 and y%100!=0) or y%400==0:\n",
    "    date_list[1]+=1\n",
    "ans=sum(date_list[:m-1])+d\n",
    "print(ans)"
   ]
  },
  {
   "cell_type": "code",
   "execution_count": null,
   "metadata": {
    "scrolled": true
   },
   "outputs": [],
   "source": [
    "n=int(input())\n",
    "m=int(input())\n",
    "person=list(range(n))\n",
    "ans=[]\n",
    "i=0\n",
    "while n>0:\n",
    "    i+=m-1\n",
    "    i=i%n\n",
    "    ans.append(person.pop(i))\n",
    "    n-=1\n",
    "print(ans)\n",
    "    \n",
    "    \n",
    "    "
   ]
  },
  {
   "cell_type": "code",
   "execution_count": 34,
   "metadata": {
    "scrolled": true
   },
   "outputs": [
    {
     "name": "stdout",
     "output_type": "stream",
     "text": [
      "This is new！\n",
      "input number is : -1\n",
      "条件不符合，无法生成实例！\n"
     ]
    }
   ],
   "source": [
    "class A:\n",
    "    '''This is a class.'''\n",
    "    def __init__(self,n):\n",
    "        self.x=123\n",
    "        self.y=234\n",
    "        print('This is init.')\n",
    "    def __new__(cls,n):\n",
    "        print('This is new！')\n",
    "        print('input number is :',n)\n",
    "        if n >0:\n",
    "            return super().__new__(cls)\n",
    "        if n<0:\n",
    "            print('条件不符合，无法生成实例！')\n",
    "            return 0\n",
    "   \n",
    "    def __del__(self):\n",
    "        print('This is del.')\n",
    "a=A(-1)\n",
    "del a\n"
   ]
  },
  {
   "cell_type": "code",
   "execution_count": 30,
   "metadata": {
    "scrolled": true
   },
   "outputs": [
    {
     "name": "stdout",
     "output_type": "stream",
     "text": [
      "128092192\n",
      "128092192\n",
      "128092192\n"
     ]
    }
   ],
   "source": [
    "class CapStr:\n",
    "    def __new__(cls, s):\n",
    "        self_in_init = super().__new__(cls)\n",
    "        print(id(self_in_init))\n",
    "        return self_in_init\n",
    "    def __init__(self,s):\n",
    "        print(id(self))\n",
    " \n",
    "a = CapStr(10)\n",
    "print(id(a))"
   ]
  },
  {
   "cell_type": "code",
   "execution_count": null,
   "metadata": {
    "scrolled": true
   },
   "outputs": [],
   "source": []
  }
 ],
 "metadata": {
  "kernelspec": {
   "display_name": "Python 3",
   "language": "python",
   "name": "python3"
  },
  "language_info": {
   "codemirror_mode": {
    "name": "ipython",
    "version": 3
   },
   "file_extension": ".py",
   "mimetype": "text/x-python",
   "name": "python",
   "nbconvert_exporter": "python",
   "pygments_lexer": "ipython3",
   "version": "3.8.1"
  },
  "toc": {
   "base_numbering": 1,
   "nav_menu": {},
   "number_sections": true,
   "sideBar": true,
   "skip_h1_title": false,
   "title_cell": "Table of Contents",
   "title_sidebar": "Contents",
   "toc_cell": false,
   "toc_position": {},
   "toc_section_display": true,
   "toc_window_display": false
  },
  "varInspector": {
   "cols": {
    "lenName": 16,
    "lenType": 16,
    "lenVar": 40
   },
   "kernels_config": {
    "python": {
     "delete_cmd_postfix": "",
     "delete_cmd_prefix": "del ",
     "library": "var_list.py",
     "varRefreshCmd": "print(var_dic_list())"
    },
    "r": {
     "delete_cmd_postfix": ") ",
     "delete_cmd_prefix": "rm(",
     "library": "var_list.r",
     "varRefreshCmd": "cat(var_dic_list()) "
    }
   },
   "types_to_exclude": [
    "module",
    "function",
    "builtin_function_or_method",
    "instance",
    "_Feature"
   ],
   "window_display": false
  }
 },
 "nbformat": 4,
 "nbformat_minor": 4
}
