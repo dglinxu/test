{
 "cells": [
  {
   "cell_type": "code",
   "execution_count": 36,
   "metadata": {},
   "outputs": [
    {
     "name": "stdout",
     "output_type": "stream",
     "text": [
      "['9', '0', '7']\n",
      "9 9\n",
      ".......\n",
      "['0', '9', '7']\n"
     ]
    },
    {
     "data": {
      "text/plain": [
       "97"
      ]
     },
     "execution_count": 36,
     "metadata": {},
     "output_type": "execute_result"
    }
   ],
   "source": [
    "def next_smaller(n):\n",
    "    pass\n",
    "    sn=list(str(n))\n",
    "    if sn==sorted(sn):\n",
    "        return -1\n",
    "    for i in range(len(sn)-1,0,-1):\n",
    "        if sn[i]<sn[i-1]:\n",
    "            print(sn)\n",
    "            sn[i],sn[i-1]=sn[i-1],sn[i]\n",
    "            print(sn[i],sn[i])\n",
    "            print('.......')\n",
    "            print(sn)\n",
    "            break\n",
    "    return int(''.join(sn))\n",
    "next_smaller(907) #1234567890"
   ]
  },
  {
   "cell_type": "code",
   "execution_count": 24,
   "metadata": {},
   "outputs": [
    {
     "data": {
      "text/plain": [
       "'01 14'"
      ]
     },
     "execution_count": 24,
     "metadata": {},
     "output_type": "execute_result"
    }
   ],
   "source": [
    "\"{:02x} {:x}\".format(1,20) "
   ]
  },
  {
   "cell_type": "code",
   "execution_count": 20,
   "metadata": {},
   "outputs": [
    {
     "name": "stdout",
     "output_type": "stream",
     "text": [
      "034\n"
     ]
    }
   ],
   "source": [
    "print(\"{:03}\".format(34))"
   ]
  },
  {
   "cell_type": "code",
   "execution_count": 30,
   "metadata": {},
   "outputs": [
    {
     "data": {
      "text/plain": [
       "190392490709135"
      ]
     },
     "execution_count": 30,
     "metadata": {},
     "output_type": "execute_result"
    }
   ],
   "source": [
    "def fibonacci(n):\n",
    "    a,b=0,1\n",
    "    for i in range(2,n+1):\n",
    "        a,b=b,a+b\n",
    "\n",
    "    return b\n",
    "fibonacci(70)"
   ]
  },
  {
   "cell_type": "code",
   "execution_count": 1,
   "metadata": {},
   "outputs": [
    {
     "data": {
      "text/plain": [
       "[5]"
      ]
     },
     "execution_count": 1,
     "metadata": {},
     "output_type": "execute_result"
    }
   ],
   "source": [
    "array = [1, 3, 5]\n",
    "g = (x for x in array if array.count(x) > 0)\n",
    "array = [5, 7, 9]\n",
    "list(g)"
   ]
  },
  {
   "cell_type": "code",
   "execution_count": 7,
   "metadata": {},
   "outputs": [
    {
     "name": "stdout",
     "output_type": "stream",
     "text": [
      "2020/10/8\n",
      "282\n"
     ]
    }
   ],
   "source": [
    "y,m,d=list(map(int,input().split('/')))\n",
    "date_list=[31,28,31,30,31,30,31,31,30,31,30,31]\n",
    "if(y%4==0 and y%100!=0) or y%400==0:\n",
    "    date_list[1]+=1\n",
    "ans=sum(date_list[:m-1])+d\n",
    "print(ans)"
   ]
  },
  {
   "cell_type": "code",
   "execution_count": 9,
   "metadata": {},
   "outputs": [
    {
     "name": "stdout",
     "output_type": "stream",
     "text": [
      "12\n",
      "3\n",
      "[2, 5, 8, 11, 3, 7, 0, 6, 1, 10, 4, 9]\n"
     ]
    }
   ],
   "source": [
    "n=int(input())\n",
    "m=int(input())\n",
    "person=list(range(n))\n",
    "ans=[]\n",
    "i=0\n",
    "while n>0:\n",
    "    i+=m-1\n",
    "    i=i%n\n",
    "    ans.append(person.pop(i))\n",
    "    n-=1\n",
    "print(ans)\n",
    "    \n",
    "    \n",
    "    "
   ]
  },
  {
   "cell_type": "code",
   "execution_count": null,
   "metadata": {},
   "outputs": [],
   "source": []
  }
 ],
 "metadata": {
  "kernelspec": {
   "display_name": "Python 3",
   "language": "python",
   "name": "python3"
  },
  "language_info": {
   "codemirror_mode": {
    "name": "ipython",
    "version": 3
   },
   "file_extension": ".py",
   "mimetype": "text/x-python",
   "name": "python",
   "nbconvert_exporter": "python",
   "pygments_lexer": "ipython3",
   "version": "3.8.1"
  },
  "toc": {
   "base_numbering": 1,
   "nav_menu": {},
   "number_sections": true,
   "sideBar": true,
   "skip_h1_title": false,
   "title_cell": "Table of Contents",
   "title_sidebar": "Contents",
   "toc_cell": false,
   "toc_position": {},
   "toc_section_display": true,
   "toc_window_display": false
  },
  "varInspector": {
   "cols": {
    "lenName": 16,
    "lenType": 16,
    "lenVar": 40
   },
   "kernels_config": {
    "python": {
     "delete_cmd_postfix": "",
     "delete_cmd_prefix": "del ",
     "library": "var_list.py",
     "varRefreshCmd": "print(var_dic_list())"
    },
    "r": {
     "delete_cmd_postfix": ") ",
     "delete_cmd_prefix": "rm(",
     "library": "var_list.r",
     "varRefreshCmd": "cat(var_dic_list()) "
    }
   },
   "types_to_exclude": [
    "module",
    "function",
    "builtin_function_or_method",
    "instance",
    "_Feature"
   ],
   "window_display": false
  }
 },
 "nbformat": 4,
 "nbformat_minor": 4
}
