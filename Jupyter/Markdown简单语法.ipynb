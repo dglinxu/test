{
 "cells": [
  {
   "cell_type": "markdown",
   "metadata": {},
   "source": [
    "# 一级标题\n",
    "*斜体*\n",
    "**加粗**\n",
    "***斜体加粗***\n",
    "~~删除线字体~~\n",
    "-------\n",
    "分割线：三个或者三个以上的 - 或者 *\n",
    "******\n",
    "![图片alt](图片地址 ''图片title'')\n",
    "[超链接名](超链接地址 \"超链接title\")    [百度](http://www.baidu.com \"百度搜索\")\n",
    "\n",
    "无序列表用 - + * 任何一种都可以\n",
    "- 无序列表1\n",
    "- 无序列表二\n",
    "\n",
    "有序列表：数字加点 \n",
    "1、第一点   \n",
    "2、第二点\n",
    "\n",
    "列表嵌套\n",
    "上一级和下一级之间（前面）敲三个空格即可   \n",
    "- 一级列表   \n",
    "   - 二级列表   \n",
    "      - 三级列表\n",
    "      - 三级列表\n",
    "\n",
    "单行代码：代码之间分别用一个反引号包起来\n",
    "`代码内容`\n",
    "代码块：代码之间分别用三个反引号包起来，且两边的反引号单独占一行\n",
    "```\n",
    "  代码...\n",
    "  代码...\n",
    "  代码...\n",
    "```\n",
    "\n"
   ]
  }
 ],
 "metadata": {
  "kernelspec": {
   "display_name": "Python 3",
   "language": "python",
   "name": "python3"
  },
  "language_info": {
   "codemirror_mode": {
    "name": "ipython",
    "version": 3
   },
   "file_extension": ".py",
   "mimetype": "text/x-python",
   "name": "python",
   "nbconvert_exporter": "python",
   "pygments_lexer": "ipython3",
   "version": "3.8.0"
  },
  "toc": {
   "base_numbering": 1,
   "nav_menu": {},
   "number_sections": true,
   "sideBar": true,
   "skip_h1_title": false,
   "title_cell": "Table of Contents",
   "title_sidebar": "Contents",
   "toc_cell": false,
   "toc_position": {},
   "toc_section_display": true,
   "toc_window_display": false
  }
 },
 "nbformat": 4,
 "nbformat_minor": 4
}
