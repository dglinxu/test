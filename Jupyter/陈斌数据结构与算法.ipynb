{
 "cells": [
  {
   "cell_type": "markdown",
   "metadata": {},
   "source": [
    "### 陈斌数据结构与算法"
   ]
  },
  {
   "cell_type": "markdown",
   "metadata": {},
   "source": [
    "##### 迭代\n",
    "\n"
   ]
  },
  {
   "cell_type": "code",
   "execution_count": null,
   "metadata": {},
   "outputs": [],
   "source": [
    "'''迭代次数调整方法'''\n",
    "import sys\n",
    "sys.getrecursionlimit()\n",
    "# sys.setrecursionlimit(3000)\n"
   ]
  },
  {
   "cell_type": "code",
   "execution_count": null,
   "metadata": {},
   "outputs": [],
   "source": [
    "'''用迭代实现累加'''\n",
    "def listsum1(numList):\n",
    "    if len(numList)<2:\n",
    "        return numList.pop()\n",
    "    return numList.pop()+listsum1(numList)\n",
    "numList=[1,2,3,4,5]\n",
    "print(listsum1(list(range(2962))))\n",
    "    \n"
   ]
  },
  {
   "cell_type": "code",
   "execution_count": null,
   "metadata": {},
   "outputs": [],
   "source": [
    "'''用迭代实现累加陈斌版'''\n",
    "def sumlist2(numList):\n",
    "    if len(numList)==1:\n",
    "        return numList[0]\n",
    "    else:\n",
    "        return numList[0]+sumlist2(numList[1:])\n",
    "numList=[1,2,3,4,5]\n",
    "print(sumlist2(numList))"
   ]
  },
  {
   "cell_type": "code",
   "execution_count": null,
   "metadata": {},
   "outputs": [],
   "source": [
    "'''进制转换:二到16进制陈斌版'''\n",
    "def toStr(n,base):\n",
    "    convertString='0123456789ABCDEF'\n",
    "    if n<base:\n",
    "        return convertString[n]\n",
    "    else:\n",
    "        return toStr(n//base,base)+convertString[n%base]\n",
    "print(toStr(230,16))"
   ]
  },
  {
   "cell_type": "code",
   "execution_count": null,
   "metadata": {},
   "outputs": [],
   "source": [
    "'''进制转换:二到16进制'''\n",
    "def toStr(n,base):\n",
    "    convertString='0123456789ABCDEF'\n",
    "    if n<base:\n",
    "        return convertString[n]\n",
    "    t=n%base\n",
    "    n=n//base\n",
    "    return toStr(n,base)+convertString[t]\n",
    "print(toStr(200,2))"
   ]
  },
  {
   "cell_type": "code",
   "execution_count": null,
   "metadata": {},
   "outputs": [],
   "source": [
    "'''海龟作图----树'''\n",
    "import turtle\n",
    "t=turtle.Turtle()\n",
    "def tree(branch_len):\n",
    "    if branch_len>5:\n",
    "        t.forward(branch_len)\n",
    "        t.right(20)\n",
    "        tree(branch_len-15)\n",
    "        t.left(40)\n",
    "        tree(branch_len-15)\n",
    "        t.right(20)\n",
    "        t.backward(branch_len)\n",
    "t.left(90)\n",
    "t.penup()\n",
    "t.backward(100)\n",
    "t.pendown()\n",
    "t.pencolor('green')\n",
    "t.pensize(2)\n",
    "tree(100)\n",
    "t.hideturtle()\n",
    "turtle.done()"
   ]
  },
  {
   "cell_type": "code",
   "execution_count": null,
   "metadata": {},
   "outputs": [],
   "source": [
    "'''谢尔宾斯基三角形'''\n",
    "import turtle \n",
    "def sierpinsk(degree,points):\n",
    "    colormap=['blue','red','green','white','yellow','orange']\n",
    "    drawTriangle(points,colormap[degree])\n",
    "    if degree>0:\n",
    "        sierpinsk(degree-1,\n",
    "                  {'left':points['left'],\n",
    "                   'top':getMid(points['left'],points['top']),\n",
    "                   'right':getMid(points['left'],points['right'])})\n",
    "        sierpinsk(degree-1,\n",
    "                  {'left':getMid(points['left'],points['top']),\n",
    "                   'top':points['top'],\n",
    "                   'right':getMid(points['top'],points['right'])})\n",
    "        sierpinsk(degree-1,\n",
    "                  {'left':getMid(points['left'],points['right']),\n",
    "                   'top':getMid(points['top'],points['right']),\n",
    "                   'right':points['right']})\n",
    "def drawTriangle(points,color):\n",
    "    t.fillcolor(color)\n",
    "    t.penup()\n",
    "    t.goto(points['top'])\n",
    "    t.pendown()\n",
    "    t.begin_fill()\n",
    "    t.goto(points['left'])\n",
    "    t.goto(points['right'])\n",
    "    t.goto(points['top'])\n",
    "    t.end_fill()\n",
    "def getMid(p1,p2):\n",
    "    return ((p1[0]+p2[0])/2,(p1[1]+p2[1])/2)\n",
    "t=turtle.Turtle()\n",
    "points={'left':(-200,-100),\n",
    "        'top':(0,250),\n",
    "        'right':(200,-100)}\n",
    "sierpinsk(5,points)\n",
    "turtle.done()           "
   ]
  },
  {
   "cell_type": "code",
   "execution_count": null,
   "metadata": {},
   "outputs": [],
   "source": [
    "'''汉诺塔---'''\n",
    "def moveTower(height,fromPole,withPole,toPole):\n",
    "    if height>=1:\n",
    "        moveTower(height-1,fromPole,toPole,fromPole)  #（n-1）经目标柱#3移到中间柱#2\n",
    "        moveDisk(height,fromPole,toPole)              #最下一块移到目标柱#3\n",
    "        moveTower(height-1,withPole,fromPole,toPole)  #（n-1）经开始柱#1移到目标柱#3\n",
    "def moveDisk(disk,fromPole,toPole):\n",
    "    print(f'Moving disk[{disk}] from {fromPole} to {toPole}')\n",
    "\n",
    "%timeit moveTower(15,'#1','#2','#3')"
   ]
  },
  {
   "cell_type": "code",
   "execution_count": null,
   "metadata": {},
   "outputs": [],
   "source": [
    "'''找零'''\n",
    "def recMC(coinValuelist, change,knownResults):\n",
    "    minCoins = change\n",
    "    if change in coinValuelist:\n",
    "        knownResults[change]=1       #增设数组检查change是否已经尝试过，没有就给1\n",
    "        return 1\n",
    "    elif knownResults[change]>0:\n",
    "        return knownResults[change] #检查change是否已经尝试过，已检查返回最小coins\n",
    "    else:\n",
    "        for i in [c for c in coinValuelist if c <= change]:      #大于change的硬币不用检查\n",
    "            numCoins = 1 + recMC(coinValuelist, change - i,knownResults)\n",
    "            if numCoins < minCoins:\n",
    "                minCoins = numCoins\n",
    "                knownResults[change]=minCoins   #把数组的change格，赋值最小coins数量\n",
    "    return minCoins\n",
    "\n",
    "\n",
    "print(recMC([1, 5, 10, 25], 63,[0]*64))   #生成change+1个空列表"
   ]
  },
  {
   "cell_type": "code",
   "execution_count": 3,
   "metadata": {},
   "outputs": [
    {
     "name": "stdout",
     "output_type": "stream",
     "text": [
      "63最小找零数是：6\n",
      "找零分别是：\n",
      "1\n",
      "1\n",
      "1\n",
      "10\n",
      "25\n",
      "25\n",
      "[0, 1, 1, 1, 1, 5, 1, 1, 1, 1, 10, 1, 1, 1, 1, 5, 1, 1, 1, 1, 10, 1, 1, 1, 1, 25, 1, 1, 1, 1, 5, 1, 1, 1, 1, 10, 1, 1, 1, 1, 5, 1, 1, 1, 1, 10, 1, 1, 1, 1, 25, 1, 1, 1, 1, 5, 1, 1, 1, 1, 10, 1, 1, 1]\n"
     ]
    }
   ],
   "source": [
    "'''动态规划法找零'''\n",
    "def dpMakeChange(coinValueList,change,minCoins,coinsUsed):\n",
    "    #从1分开始到change逐个计算最小硬币数\n",
    "    for cents in range(1,change+1):\n",
    "        #初始化一个最大值\n",
    "        coinCount=cents\n",
    "        newCoin=1\n",
    "        # 减去每个硬币，向后查最少硬币数，同时记录总的最少数\n",
    "        for j in [c for c in coinValueList if c<=cents]:\n",
    "            if minCoins[cents-j]+1<coinCount:\n",
    "                coinCount=minCoins[cents-j]+1\n",
    "                newCoin=j\n",
    "        # 得到当前最少硬币数，记录到表中\n",
    "        minCoins[cents]=coinCount\n",
    "        coinsUsed[cents]=newCoin\n",
    "    return minCoins[change]\n",
    "\n",
    "def printCoins(coinsUsed,change):\n",
    "    coin=change\n",
    "    while coin>0:\n",
    "        thisCoin=coinsUsed[coin]\n",
    "        print(thisCoin)\n",
    "        coin=coin-thisCoin\n",
    "\n",
    "amnt=63\n",
    "clist=[1,5,10,25]\n",
    "coinsUsed=[0]*(amnt+1)\n",
    "coinCount=[0]*(amnt+1)\n",
    "print('%d最小找零数是：%d'%(amnt,dpMakeChange(clist,amnt,coinCount,coinsUsed)))\n",
    "print('找零分别是：')\n",
    "printCoins(coinsUsed,amnt)\n",
    "print(coinsUsed)\n"
   ]
  },
  {
   "cell_type": "code",
   "execution_count": null,
   "metadata": {},
   "outputs": [],
   "source": []
  }
 ],
 "metadata": {
  "kernelspec": {
   "display_name": "Python 3",
   "language": "python",
   "name": "python3"
  },
  "language_info": {
   "codemirror_mode": {
    "name": "ipython",
    "version": 3
   },
   "file_extension": ".py",
   "mimetype": "text/x-python",
   "name": "python",
   "nbconvert_exporter": "python",
   "pygments_lexer": "ipython3",
   "version": "3.8.0"
  },
  "toc": {
   "base_numbering": 1,
   "nav_menu": {},
   "number_sections": true,
   "sideBar": true,
   "skip_h1_title": false,
   "title_cell": "Table of Contents",
   "title_sidebar": "Contents",
   "toc_cell": false,
   "toc_position": {},
   "toc_section_display": true,
   "toc_window_display": false
  },
  "varInspector": {
   "cols": {
    "lenName": 16,
    "lenType": 16,
    "lenVar": 40
   },
   "kernels_config": {
    "python": {
     "delete_cmd_postfix": "",
     "delete_cmd_prefix": "del ",
     "library": "var_list.py",
     "varRefreshCmd": "print(var_dic_list())"
    },
    "r": {
     "delete_cmd_postfix": ") ",
     "delete_cmd_prefix": "rm(",
     "library": "var_list.r",
     "varRefreshCmd": "cat(var_dic_list()) "
    }
   },
   "types_to_exclude": [
    "module",
    "function",
    "builtin_function_or_method",
    "instance",
    "_Feature"
   ],
   "window_display": false
  }
 },
 "nbformat": 4,
 "nbformat_minor": 4
}
