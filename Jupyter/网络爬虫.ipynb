{
 "cells": [
  {
   "cell_type": "code",
   "execution_count": 2,
   "metadata": {},
   "outputs": [],
   "source": [
    "import requests\n",
    "import whois\n",
    "from bs4 import BeautifulSoup\n",
    "from lxml import etree\n"
   ]
  },
  {
   "cell_type": "code",
   "execution_count": null,
   "metadata": {
    "scrolled": true
   },
   "outputs": [],
   "source": [
    "text = '''\n",
    "<?xml version=\"1.0\" encoding=\"ISO-8859-1\"?>\n",
    "\n",
    "<bookstore>\n",
    "\n",
    "<book category=\"COOKING\">\n",
    "  <title lang=\"en\">Everyday Italian</title>\n",
    "  <author>Giada De Laurentiis</author>\n",
    "  <year>2005</year>\n",
    "  <price>30.00</price>\n",
    "</book>\n",
    "\n",
    "<book category=\"CHILDREN\">\n",
    "  <title lang=\"en\">Harry Potter</title>\n",
    "  <author>J K. Rowling</author>\n",
    "  <year>2005</year>\n",
    "  <price>29.99</price>\n",
    "</book>\n",
    "\n",
    "<book category=\"WEB\">\n",
    "  <title lang=\"en\">XQuery Kick Start</title>\n",
    "  <author>James McGovern</author>\n",
    "  <author>Per Bothner</author>\n",
    "  <author>Kurt Cagle</author>\n",
    "  <author>James Linn</author>\n",
    "  <author>Vaidyanathan Nagarajan</author>\n",
    "  <year>2003</year>\n",
    "  <price>49.99</price>\n",
    "</book>\n",
    "\n",
    "<book category=\"WEB\">\n",
    "  <title lang=\"en\">Learning XML</title>\n",
    "  <author>Erik T. Ray</author>\n",
    "  <year>2003</year>\n",
    "  <price>39.95</price>\n",
    "</book>\n",
    "\n",
    "</bookstore>\n",
    "'''\n",
    "html = etree.parse(r'h:/2.html',etree.HTMLParser())\n",
    "# html = etree.HTML(text)\n",
    "result = etree.tostring(html)\n",
    "print(result.decode('UTF-8'))\n"
   ]
  },
  {
   "cell_type": "code",
   "execution_count": null,
   "metadata": {},
   "outputs": [],
   "source": [
    "html = etree.parse(r'h:/2.html',etree.HTMLParser())\n",
    "# result = etree.tostring(html)\n",
    "# result=html.xpath('//book[contains(@category,\"CO\") or contains(@category,\"WE\")]')  #应用属性条件，选择合适的元素，//是取全部数据\n",
    "result=html.xpath('//book[last()]') #输出最后一个元素\n",
    "result=html.xpath('//book[position()<=3]') #前面三个元素\n",
    "result=html.xpath('//book[2]')             #第二元素\n",
    "\n",
    "res=[]\n",
    "for i in result:\n",
    "    r=i.xpath('./@category')[0],i.xpath('./title/text()')[0],i.xpath('./author/text()')[0],i.xpath('./year/text()')[0],i.xpath('./price/text()')[0]\n",
    "    res.append(r)\n",
    "    \n",
    "print(res)"
   ]
  },
  {
   "cell_type": "code",
   "execution_count": null,
   "metadata": {},
   "outputs": [],
   "source": [
    "with open(r'h:/2.html','r',encoding=\"utf-8\") as fp:\n",
    "#     soup = BeautifulSoup(fp, 'html.parser')\n",
    "    soup=BeautifulSoup(fp,'lxml')\n",
    "# s=soup.find_all('book')\n",
    "s=soup('book')           #这两个是等价的\n",
    "res=[]\n",
    "for i in s:\n",
    "    r=i['category'],i.title.text,i.author.text,i.year.string,i.price.get_text() #几种取值的方法\n",
    "    res.append(r)\n",
    "print(res)"
   ]
  },
  {
   "cell_type": "code",
   "execution_count": null,
   "metadata": {},
   "outputs": [],
   "source": []
  },
  {
   "cell_type": "code",
   "execution_count": null,
   "metadata": {},
   "outputs": [],
   "source": [
    "\n",
    "0x56>56\n"
   ]
  },
  {
   "cell_type": "code",
   "execution_count": null,
   "metadata": {},
   "outputs": [],
   "source": [
    "def merge_sort(lst):\n",
    "    if len(lst)<=1:\n",
    "        return lst\n",
    "    middle=int(len(lst)/2)\n",
    "    left=merge_sort(lst[:middle])\n",
    "    right=merge_sort(lst[middle:])\n",
    "    merged=[]\n",
    "    while left and right:\n",
    "        merged.append(left.pop(0) if left[0]<=right[0] else right.pop(0))\n",
    "    merged.extend(right if right else left)\n",
    "    return merged\n",
    "data_lst=[6,202,100,301,38,8,1]\n",
    "print(merge_sort(data_lst))"
   ]
  },
  {
   "cell_type": "code",
   "execution_count": null,
   "metadata": {},
   "outputs": [],
   "source": [
    "import datetime\n",
    "dtstr='20181206'\n",
    "dt=datetime.datetime.strptime(dtstr,\"%Y%m%d\")\n",
    "another_dtstr=dtstr[:4]+'0101'\n",
    "another_dt=datetime.datetime.strptime(another_dtstr,\"%Y%m%d\")\n",
    "print(int((dt-another_dt).days)+1)"
   ]
  },
  {
   "cell_type": "code",
   "execution_count": null,
   "metadata": {},
   "outputs": [],
   "source": [
    "def auth(*args,name,pwd):\n",
    "  print(args,name,pwd)\n",
    "auth([5,5,5],pwd='213',name='egon')\n",
    "def register(name,age):\n",
    "  print(type(name),type(age))\n",
    "register(123,[1,2,3])\n"
   ]
  },
  {
   "cell_type": "code",
   "execution_count": null,
   "metadata": {},
   "outputs": [],
   "source": [
    "def func1():\n",
    "  print('from func1')\n",
    "  def func2(): #func2=内存地址\n",
    "    print('from func2')\n",
    "  print(func2) #<function func1.<locals>.func2 at 0x0000024907A098C8>\n",
    "  func2()\n",
    "  func2()\n",
    "  func2()\n",
    "func1()\n"
   ]
  },
  {
   "cell_type": "code",
   "execution_count": null,
   "metadata": {},
   "outputs": [],
   "source": [
    "alist=list(map(int,input().split()))\n",
    "blist=list(map(int,input().split()))\n",
    "alist.extend(blist)\n",
    "clist=list(set(alist))\n",
    "print(sorted(clist))\n"
   ]
  },
  {
   "cell_type": "code",
   "execution_count": null,
   "metadata": {},
   "outputs": [],
   "source": [
    "alist=list(map(int,input().split()))\n",
    "mid=len(alist)//2\n",
    "adict={'1':alist[:mid],'2':alist[mid:]}\n",
    "print(adict)"
   ]
  },
  {
   "cell_type": "code",
   "execution_count": null,
   "metadata": {},
   "outputs": [],
   "source": [
    "alist=list(map(int,input().split()))\n",
    "list(reversed(alist))"
   ]
  },
  {
   "cell_type": "code",
   "execution_count": null,
   "metadata": {},
   "outputs": [],
   "source": [
    "alist=list(map(int,input().split()))\n",
    "alist.sort(key=lambda x:abs(x))\n",
    "print(alist)"
   ]
  },
  {
   "cell_type": "code",
   "execution_count": null,
   "metadata": {},
   "outputs": [],
   "source": [
    "a=int(input())\n",
    "b=int(input())\n",
    "try:\n",
    "    c=(a**2+b**2)**0.5\n",
    "    h=a*b/c\n",
    "    print('%.2f'%h)\n",
    "except:\n",
    "    "
   ]
  },
  {
   "cell_type": "code",
   "execution_count": null,
   "metadata": {},
   "outputs": [],
   "source": [
    "def func(mylist):\n",
    "    output=[]\n",
    "    for k,v in enumerate(mylist):\n",
    "        if (v-10000)<=00:\n",
    "            output.append(k+1)\n",
    "        else:\n",
    "            \n",
    "        \n",
    "            \n",
    "    return output\n",
    "     \n",
    "mylist = eval(input())\n",
    "print(func(mylist))\n"
   ]
  },
  {
   "cell_type": "code",
   "execution_count": null,
   "metadata": {},
   "outputs": [],
   "source": [
    "def JianDan():\n",
    "    first_page='http://jandan.net/pic'\n",
    "    header={'User-Agent':'Mozilla/5.0 (Windows NT 10.0) AppleWebKit/537.36 (KHTML, like Gecko) Chrome/80.0.3987.122 Safari/537.36'}\n",
    "    html=requests.get(url=first_page,headers=header)\n",
    "    print(html.status_code)\n",
    "JianDan()"
   ]
  },
  {
   "cell_type": "code",
   "execution_count": null,
   "metadata": {},
   "outputs": [],
   "source": [
    "import requests\n",
    "from lxml import etree\n",
    "#用户代理\n",
    "header={\n",
    "    'User-Agent':'Mozilla/5.0 (Windows NT 6.1; WOW64) AppleWebKit/537.36 (KHTML, like Gecko) Chrome/39.0.2171.71 Safari/537.36'\n",
    "       }\n",
    "#用name表示下载的名字\n",
    "name=1\n",
    "\n",
    "#请求网页函数\n",
    "def get_url(url):\n",
    "    html = requests.get(url, headers=header).content.decode('utf-8')\n",
    "    return html\n",
    "\n",
    "#解析网页\n",
    "def parsel_url(html):\n",
    "    etree_html=etree.HTML(html)\n",
    "    img_urls=etree_html.xpath(\"//div[@class='row']/div[@class='text']/p/img/@src\")\n",
    "    return img_urls\n",
    "\n",
    "#循环下载;下载4页，range左闭右开\n",
    "for i in range(5):\n",
    "    #输入网址，找到网址规律\n",
    "    url = 'http://jandan.net/ooxx/MjAyMDAzMTQtMjE{}#comments'.format(i)\n",
    "    #请求网页\n",
    "    html=get_url(url)\n",
    "    #解析网页，提取图片链接\n",
    "    img_urls = parsel_url(html)\n",
    "    for img_url in img_urls:\n",
    "        #因为提取的网页链接不是网址标准形式，需要完善\n",
    "        response = requests.get('http:' + img_url, headers=header).content\n",
    "        #图片以二进制形式保存\n",
    "        with open(\"F://picture3//\" + str(name) + '.jpg', 'wb') as f:\n",
    "            f.write(response)\n",
    "            #下载提示\n",
    "            print('正在下载第{}张'.format(name))\n",
    "            name += 1\n",
    "\n"
   ]
  },
  {
   "cell_type": "code",
   "execution_count": 7,
   "metadata": {},
   "outputs": [
    {
     "name": "stdout",
     "output_type": "stream",
     "text": [
      "200\n"
     ]
    }
   ],
   "source": [
    "url='https://goss.veer.com/creative/vcg/veer/1600water/veer-314252786.jpg'\n",
    "url='http://132.121.92.224:8813/telant/'\n",
    "header={\n",
    "    'User-Agent':'Mozilla/5.0 (Windows NT 6.1; WOW64) AppleWebKit/537.36 (KHTML, like Gecko) Chrome/39.0.2171.71 Safari/537.36'\n",
    "       }\n",
    "response=requests.get(url=url,headers=header)\n",
    "print(response.status_code)\n",
    "# with open('./图片.jpg','wb') as fp:\n",
    "#     fp.write(response.content)"
   ]
  },
  {
   "cell_type": "code",
   "execution_count": 14,
   "metadata": {},
   "outputs": [
    {
     "name": "stdout",
     "output_type": "stream",
     "text": [
      "5\n",
      "8\n"
     ]
    }
   ],
   "source": [
    "def solve(n,td={}):\n",
    "    if n<=2:\n",
    "        return n\n",
    "    else:\n",
    "        if n in td:\n",
    "            return td[n]\n",
    "        else:\n",
    "            m=solve(n-1,td)+solve(n-2,td)\n",
    "            td[n]=m\n",
    "            return m\n",
    "n=int(input())\n",
    "print(solve(n))\n",
    "    "
   ]
  },
  {
   "cell_type": "code",
   "execution_count": 12,
   "metadata": {},
   "outputs": [
    {
     "name": "stdout",
     "output_type": "stream",
     "text": [
      "2\n"
     ]
    }
   ],
   "source": [
    "t={1:2,2:3}\n",
    "print(t[1])"
   ]
  },
  {
   "cell_type": "code",
   "execution_count": 9,
   "metadata": {},
   "outputs": [
    {
     "data": {
      "text/plain": [
       "True"
      ]
     },
     "execution_count": 9,
     "metadata": {},
     "output_type": "execute_result"
    }
   ],
   "source": [
    "1 in t"
   ]
  },
  {
   "cell_type": "code",
   "execution_count": null,
   "metadata": {},
   "outputs": [],
   "source": []
  }
 ],
 "metadata": {
  "kernelspec": {
   "display_name": "Python 3",
   "language": "python",
   "name": "python3"
  },
  "language_info": {
   "codemirror_mode": {
    "name": "ipython",
    "version": 3
   },
   "file_extension": ".py",
   "mimetype": "text/x-python",
   "name": "python",
   "nbconvert_exporter": "python",
   "pygments_lexer": "ipython3",
   "version": "3.8.1"
  },
  "toc": {
   "base_numbering": 1,
   "nav_menu": {},
   "number_sections": true,
   "sideBar": true,
   "skip_h1_title": false,
   "title_cell": "Table of Contents",
   "title_sidebar": "Contents",
   "toc_cell": false,
   "toc_position": {},
   "toc_section_display": true,
   "toc_window_display": false
  },
  "varInspector": {
   "cols": {
    "lenName": 16,
    "lenType": 16,
    "lenVar": 40
   },
   "kernels_config": {
    "python": {
     "delete_cmd_postfix": "",
     "delete_cmd_prefix": "del ",
     "library": "var_list.py",
     "varRefreshCmd": "print(var_dic_list())"
    },
    "r": {
     "delete_cmd_postfix": ") ",
     "delete_cmd_prefix": "rm(",
     "library": "var_list.r",
     "varRefreshCmd": "cat(var_dic_list()) "
    }
   },
   "types_to_exclude": [
    "module",
    "function",
    "builtin_function_or_method",
    "instance",
    "_Feature"
   ],
   "window_display": false
  }
 },
 "nbformat": 4,
 "nbformat_minor": 4
}
